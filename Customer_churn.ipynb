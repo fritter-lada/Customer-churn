{
 "cells": [
  {
   "cell_type": "markdown",
   "metadata": {
    "toc": true
   },
   "source": [
    "<h1>Содержание<span class=\"tocSkip\"></span></h1>\n",
    "<div class=\"toc\"><ul class=\"toc-item\"><li><span><a href=\"#Подготовка-данных\" data-toc-modified-id=\"Подготовка-данных-1\"><span class=\"toc-item-num\">1&nbsp;&nbsp;</span>Подготовка данных</a></span><ul class=\"toc-item\"><li><span><a href=\"#Замена-названий-столбцов-(приведение-к-нижнему-регистру)\" data-toc-modified-id=\"Замена-названий-столбцов-(приведение-к-нижнему-регистру)-1.1\"><span class=\"toc-item-num\">1.1&nbsp;&nbsp;</span>Замена названий столбцов (приведение к нижнему регистру)</a></span></li><li><span><a href=\"#Обработка-пропусков\" data-toc-modified-id=\"Обработка-пропусков-1.2\"><span class=\"toc-item-num\">1.2&nbsp;&nbsp;</span>Обработка пропусков</a></span></li><li><span><a href=\"#Работа-с-типами-данных\" data-toc-modified-id=\"Работа-с-типами-данных-1.3\"><span class=\"toc-item-num\">1.3&nbsp;&nbsp;</span>Работа с типами данных</a></span></li><li><span><a href=\"#Выбор-значимых-признаков\" data-toc-modified-id=\"Выбор-значимых-признаков-1.4\"><span class=\"toc-item-num\">1.4&nbsp;&nbsp;</span>Выбор значимых признаков</a></span></li><li><span><a href=\"#Разбиение-данных-на-выборки\" data-toc-modified-id=\"Разбиение-данных-на-выборки-1.5\"><span class=\"toc-item-num\">1.5&nbsp;&nbsp;</span>Разбиение данных на выборки</a></span></li><li><span><a href=\"#Масштабирование-признаков\" data-toc-modified-id=\"Масштабирование-признаков-1.6\"><span class=\"toc-item-num\">1.6&nbsp;&nbsp;</span>Масштабирование признаков</a></span></li><li><span><a href=\"#Преобразование-данных\" data-toc-modified-id=\"Преобразование-данных-1.7\"><span class=\"toc-item-num\">1.7&nbsp;&nbsp;</span>Преобразование данных</a></span></li></ul></li><li><span><a href=\"#Исследование-задачи\" data-toc-modified-id=\"Исследование-задачи-2\"><span class=\"toc-item-num\">2&nbsp;&nbsp;</span>Исследование задачи</a></span><ul class=\"toc-item\"><li><span><a href=\"#Исследование-дисбаланса-классов\" data-toc-modified-id=\"Исследование-дисбаланса-классов-2.1\"><span class=\"toc-item-num\">2.1&nbsp;&nbsp;</span>Исследование дисбаланса классов</a></span></li><li><span><a href=\"#Изучение-моделей-без-учёта-дисбаланса\" data-toc-modified-id=\"Изучение-моделей-без-учёта-дисбаланса-2.2\"><span class=\"toc-item-num\">2.2&nbsp;&nbsp;</span>Изучение моделей без учёта дисбаланса</a></span><ul class=\"toc-item\"><li><span><a href=\"#Модель-решающего-дерева\" data-toc-modified-id=\"Модель-решающего-дерева-2.2.1\"><span class=\"toc-item-num\">2.2.1&nbsp;&nbsp;</span>Модель решающего дерева</a></span></li><li><span><a href=\"#Модель-случайного-леса\" data-toc-modified-id=\"Модель-случайного-леса-2.2.2\"><span class=\"toc-item-num\">2.2.2&nbsp;&nbsp;</span>Модель случайного леса</a></span></li><li><span><a href=\"#Модель-логистической-регрессии\" data-toc-modified-id=\"Модель-логистической-регрессии-2.2.3\"><span class=\"toc-item-num\">2.2.3&nbsp;&nbsp;</span>Модель логистической регрессии</a></span></li></ul></li><li><span><a href=\"#Выводы\" data-toc-modified-id=\"Выводы-2.3\"><span class=\"toc-item-num\">2.3&nbsp;&nbsp;</span>Выводы</a></span></li></ul></li><li><span><a href=\"#Борьба-с-дисбалансом\" data-toc-modified-id=\"Борьба-с-дисбалансом-3\"><span class=\"toc-item-num\">3&nbsp;&nbsp;</span>Борьба с дисбалансом</a></span><ul class=\"toc-item\"><li><span><a href=\"#Взвешивание-классов\" data-toc-modified-id=\"Взвешивание-классов-3.1\"><span class=\"toc-item-num\">3.1&nbsp;&nbsp;</span>Взвешивание классов</a></span><ul class=\"toc-item\"><li><span><a href=\"#Модель-решающего-дерева\" data-toc-modified-id=\"Модель-решающего-дерева-3.1.1\"><span class=\"toc-item-num\">3.1.1&nbsp;&nbsp;</span>Модель решающего дерева</a></span></li><li><span><a href=\"#Модель-случайного-леса\" data-toc-modified-id=\"Модель-случайного-леса-3.1.2\"><span class=\"toc-item-num\">3.1.2&nbsp;&nbsp;</span>Модель случайного леса</a></span></li><li><span><a href=\"#Модель-логистической-регрессии\" data-toc-modified-id=\"Модель-логистической-регрессии-3.1.3\"><span class=\"toc-item-num\">3.1.3&nbsp;&nbsp;</span>Модель логистической регрессии</a></span></li></ul></li><li><span><a href=\"#Upsampling\" data-toc-modified-id=\"Upsampling-3.2\"><span class=\"toc-item-num\">3.2&nbsp;&nbsp;</span>Upsampling</a></span><ul class=\"toc-item\"><li><span><a href=\"#Модель-решающего-дерева\" data-toc-modified-id=\"Модель-решающего-дерева-3.2.1\"><span class=\"toc-item-num\">3.2.1&nbsp;&nbsp;</span>Модель решающего дерева</a></span></li><li><span><a href=\"#Модель-случайного-леса\" data-toc-modified-id=\"Модель-случайного-леса-3.2.2\"><span class=\"toc-item-num\">3.2.2&nbsp;&nbsp;</span>Модель случайного леса</a></span></li><li><span><a href=\"#Модель-логистической-регрессии\" data-toc-modified-id=\"Модель-логистической-регрессии-3.2.3\"><span class=\"toc-item-num\">3.2.3&nbsp;&nbsp;</span>Модель логистической регрессии</a></span></li></ul></li><li><span><a href=\"#Downsampling\" data-toc-modified-id=\"Downsampling-3.3\"><span class=\"toc-item-num\">3.3&nbsp;&nbsp;</span>Downsampling</a></span><ul class=\"toc-item\"><li><span><a href=\"#Модель-решающего-дерева\" data-toc-modified-id=\"Модель-решающего-дерева-3.3.1\"><span class=\"toc-item-num\">3.3.1&nbsp;&nbsp;</span>Модель решающего дерева</a></span></li><li><span><a href=\"#Модель-случайного-леса\" data-toc-modified-id=\"Модель-случайного-леса-3.3.2\"><span class=\"toc-item-num\">3.3.2&nbsp;&nbsp;</span>Модель случайного леса</a></span></li><li><span><a href=\"#Модель-логистической-регрессии\" data-toc-modified-id=\"Модель-логистической-регрессии-3.3.3\"><span class=\"toc-item-num\">3.3.3&nbsp;&nbsp;</span>Модель логистической регрессии</a></span></li></ul></li><li><span><a href=\"#Выводы\" data-toc-modified-id=\"Выводы-3.4\"><span class=\"toc-item-num\">3.4&nbsp;&nbsp;</span>Выводы</a></span></li></ul></li><li><span><a href=\"#Тестирование-модели\" data-toc-modified-id=\"Тестирование-модели-4\"><span class=\"toc-item-num\">4&nbsp;&nbsp;</span>Тестирование модели</a></span></li><li><span><a href=\"#Чек-лист-готовности-проекта\" data-toc-modified-id=\"Чек-лист-готовности-проекта-5\"><span class=\"toc-item-num\">5&nbsp;&nbsp;</span>Чек-лист готовности проекта</a></span></li></ul></div>"
   ]
  },
  {
   "cell_type": "markdown",
   "metadata": {},
   "source": [
    "# Отток клиентов"
   ]
  },
  {
   "cell_type": "markdown",
   "metadata": {},
   "source": [
    "В рамках проекта необходимо построить модель для задачи классификации. \n",
    "\n",
    "Нужно спрогнозировать, уйдёт клиент из банка в ближайшее время или нет. В качетсве исходных данных используются исторические данные о поведении клиентов и расторжении договоров с банком. На основе этих данных нужно создать модель, способную прогнозировать факт ухода клиента из банка. Значение *F1*-меры модели должно быть не меньше 0,59.\n",
    "\n",
    "Этапы построения модели:\n",
    "- Изучение общей информации\n",
    "- Разбиение данных на выборки\n",
    "- Исследование моделей\n",
    "    - Модель решающего дерева\n",
    "        - Глубина дерева `max_depth`\n",
    "        - Минимальное количество объектов в узле `min_samples_split`\n",
    "        - Минимальное количество объектов в листе `min_samples_leaf`\n",
    "    - Модель случайного леса\n",
    "        - Количество деревьев `n_estimators`\n",
    "        - Максимальная глубина дерева `max_depth`\n",
    "    - Модель логистической регрессии\n",
    "- Проверка модели на тестовой выборке\n",
    "- Проверка модели на адекватность"
   ]
  },
  {
   "cell_type": "markdown",
   "metadata": {},
   "source": [
    "## Подготовка данных"
   ]
  },
  {
   "cell_type": "markdown",
   "metadata": {},
   "source": [
    "Импортирт библиотек:"
   ]
  },
  {
   "cell_type": "code",
   "execution_count": 1,
   "metadata": {},
   "outputs": [],
   "source": [
    "import pandas as pd\n",
    "import matplotlib.pyplot as plt\n",
    "\n",
    "from itertools import product\n",
    "\n",
    "from numpy.random import randint\n",
    "\n",
    "from sklearn.preprocessing import StandardScaler\n",
    "from sklearn.model_selection import train_test_split\n",
    "from sklearn.ensemble import RandomForestClassifier\n",
    "from sklearn.tree import DecisionTreeClassifier\n",
    "from sklearn.linear_model import LogisticRegression\n",
    "from sklearn.metrics import f1_score,roc_auc_score,roc_curve\n",
    "from sklearn.utils import shuffle\n",
    "\n",
    "from tqdm import tqdm"
   ]
  },
  {
   "cell_type": "markdown",
   "metadata": {},
   "source": [
    "Чтение файла:"
   ]
  },
  {
   "cell_type": "code",
   "execution_count": 2,
   "metadata": {},
   "outputs": [],
   "source": [
    "data = pd.read_csv('/datasets/Churn.csv')"
   ]
  },
  {
   "cell_type": "markdown",
   "metadata": {},
   "source": [
    "Выведем основную информацию о данных методом `info()`."
   ]
  },
  {
   "cell_type": "code",
   "execution_count": 3,
   "metadata": {
    "collapsed": true
   },
   "outputs": [
    {
     "name": "stdout",
     "output_type": "stream",
     "text": [
      "<class 'pandas.core.frame.DataFrame'>\n",
      "RangeIndex: 10000 entries, 0 to 9999\n",
      "Data columns (total 14 columns):\n",
      " #   Column           Non-Null Count  Dtype  \n",
      "---  ------           --------------  -----  \n",
      " 0   RowNumber        10000 non-null  int64  \n",
      " 1   CustomerId       10000 non-null  int64  \n",
      " 2   Surname          10000 non-null  object \n",
      " 3   CreditScore      10000 non-null  int64  \n",
      " 4   Geography        10000 non-null  object \n",
      " 5   Gender           10000 non-null  object \n",
      " 6   Age              10000 non-null  int64  \n",
      " 7   Tenure           9091 non-null   float64\n",
      " 8   Balance          10000 non-null  float64\n",
      " 9   NumOfProducts    10000 non-null  int64  \n",
      " 10  HasCrCard        10000 non-null  int64  \n",
      " 11  IsActiveMember   10000 non-null  int64  \n",
      " 12  EstimatedSalary  10000 non-null  float64\n",
      " 13  Exited           10000 non-null  int64  \n",
      "dtypes: float64(3), int64(8), object(3)\n",
      "memory usage: 1.1+ MB\n"
     ]
    }
   ],
   "source": [
    "data.info()"
   ]
  },
  {
   "cell_type": "markdown",
   "metadata": {},
   "source": [
    "Изучим первые 5 строк таблицы."
   ]
  },
  {
   "cell_type": "code",
   "execution_count": 4,
   "metadata": {},
   "outputs": [
    {
     "data": {
      "text/html": [
       "<div>\n",
       "<style scoped>\n",
       "    .dataframe tbody tr th:only-of-type {\n",
       "        vertical-align: middle;\n",
       "    }\n",
       "\n",
       "    .dataframe tbody tr th {\n",
       "        vertical-align: top;\n",
       "    }\n",
       "\n",
       "    .dataframe thead th {\n",
       "        text-align: right;\n",
       "    }\n",
       "</style>\n",
       "<table border=\"1\" class=\"dataframe\">\n",
       "  <thead>\n",
       "    <tr style=\"text-align: right;\">\n",
       "      <th></th>\n",
       "      <th>RowNumber</th>\n",
       "      <th>CustomerId</th>\n",
       "      <th>Surname</th>\n",
       "      <th>CreditScore</th>\n",
       "      <th>Geography</th>\n",
       "      <th>Gender</th>\n",
       "      <th>Age</th>\n",
       "      <th>Tenure</th>\n",
       "      <th>Balance</th>\n",
       "      <th>NumOfProducts</th>\n",
       "      <th>HasCrCard</th>\n",
       "      <th>IsActiveMember</th>\n",
       "      <th>EstimatedSalary</th>\n",
       "      <th>Exited</th>\n",
       "    </tr>\n",
       "  </thead>\n",
       "  <tbody>\n",
       "    <tr>\n",
       "      <th>0</th>\n",
       "      <td>1</td>\n",
       "      <td>15634602</td>\n",
       "      <td>Hargrave</td>\n",
       "      <td>619</td>\n",
       "      <td>France</td>\n",
       "      <td>Female</td>\n",
       "      <td>42</td>\n",
       "      <td>2.0</td>\n",
       "      <td>0.00</td>\n",
       "      <td>1</td>\n",
       "      <td>1</td>\n",
       "      <td>1</td>\n",
       "      <td>101348.88</td>\n",
       "      <td>1</td>\n",
       "    </tr>\n",
       "    <tr>\n",
       "      <th>1</th>\n",
       "      <td>2</td>\n",
       "      <td>15647311</td>\n",
       "      <td>Hill</td>\n",
       "      <td>608</td>\n",
       "      <td>Spain</td>\n",
       "      <td>Female</td>\n",
       "      <td>41</td>\n",
       "      <td>1.0</td>\n",
       "      <td>83807.86</td>\n",
       "      <td>1</td>\n",
       "      <td>0</td>\n",
       "      <td>1</td>\n",
       "      <td>112542.58</td>\n",
       "      <td>0</td>\n",
       "    </tr>\n",
       "    <tr>\n",
       "      <th>2</th>\n",
       "      <td>3</td>\n",
       "      <td>15619304</td>\n",
       "      <td>Onio</td>\n",
       "      <td>502</td>\n",
       "      <td>France</td>\n",
       "      <td>Female</td>\n",
       "      <td>42</td>\n",
       "      <td>8.0</td>\n",
       "      <td>159660.80</td>\n",
       "      <td>3</td>\n",
       "      <td>1</td>\n",
       "      <td>0</td>\n",
       "      <td>113931.57</td>\n",
       "      <td>1</td>\n",
       "    </tr>\n",
       "    <tr>\n",
       "      <th>3</th>\n",
       "      <td>4</td>\n",
       "      <td>15701354</td>\n",
       "      <td>Boni</td>\n",
       "      <td>699</td>\n",
       "      <td>France</td>\n",
       "      <td>Female</td>\n",
       "      <td>39</td>\n",
       "      <td>1.0</td>\n",
       "      <td>0.00</td>\n",
       "      <td>2</td>\n",
       "      <td>0</td>\n",
       "      <td>0</td>\n",
       "      <td>93826.63</td>\n",
       "      <td>0</td>\n",
       "    </tr>\n",
       "    <tr>\n",
       "      <th>4</th>\n",
       "      <td>5</td>\n",
       "      <td>15737888</td>\n",
       "      <td>Mitchell</td>\n",
       "      <td>850</td>\n",
       "      <td>Spain</td>\n",
       "      <td>Female</td>\n",
       "      <td>43</td>\n",
       "      <td>2.0</td>\n",
       "      <td>125510.82</td>\n",
       "      <td>1</td>\n",
       "      <td>1</td>\n",
       "      <td>1</td>\n",
       "      <td>79084.10</td>\n",
       "      <td>0</td>\n",
       "    </tr>\n",
       "  </tbody>\n",
       "</table>\n",
       "</div>"
      ],
      "text/plain": [
       "   RowNumber  CustomerId   Surname  CreditScore Geography  Gender  Age  \\\n",
       "0          1    15634602  Hargrave          619    France  Female   42   \n",
       "1          2    15647311      Hill          608     Spain  Female   41   \n",
       "2          3    15619304      Onio          502    France  Female   42   \n",
       "3          4    15701354      Boni          699    France  Female   39   \n",
       "4          5    15737888  Mitchell          850     Spain  Female   43   \n",
       "\n",
       "   Tenure    Balance  NumOfProducts  HasCrCard  IsActiveMember  \\\n",
       "0     2.0       0.00              1          1               1   \n",
       "1     1.0   83807.86              1          0               1   \n",
       "2     8.0  159660.80              3          1               0   \n",
       "3     1.0       0.00              2          0               0   \n",
       "4     2.0  125510.82              1          1               1   \n",
       "\n",
       "   EstimatedSalary  Exited  \n",
       "0        101348.88       1  \n",
       "1        112542.58       0  \n",
       "2        113931.57       1  \n",
       "3         93826.63       0  \n",
       "4         79084.10       0  "
      ]
     },
     "execution_count": 4,
     "metadata": {},
     "output_type": "execute_result"
    }
   ],
   "source": [
    "data.head(5)"
   ]
  },
  {
   "cell_type": "markdown",
   "metadata": {},
   "source": [
    "Каждый объект в наборе данных — это информация о поведении одного клиента.\n",
    "\n",
    "Признаки:\n",
    "- `'RowNumber'` — индекс строки в данных\n",
    "- `'CustomerId'` — уникальный идентификатор клиента\n",
    "- `'Surname'` — фамилия\n",
    "- `'CreditScore'` — кредитный рейтинг\n",
    "- `'Geography'` — страна проживания\n",
    "- `'Gender'` — пол\n",
    "- `'Age'` — возраст\n",
    "- `'Tenure'` — сколько лет человек является клиентом банка\n",
    "- `'Balance'` — баланс на счёте\n",
    "- `'NumOfProducts'` — количество продуктов банка, используемых клиентом\n",
    "- `'HasCrCard'` — наличие кредитной карты\n",
    "- `'IsActiveMember'` — активность клиента\n",
    "- `'EstimatedSalary'` — предполагаемая зарплата\n",
    "\n",
    "Целевой признак:\n",
    "- `'Exited'` — факт ухода клиента\n",
    "\n",
    "В датасете 14 столбцов, 10 000 строк. Названия столбцов нужно привести к нижнему регистру. Пропуски есть только в столбце `'Tenure'`, здесь же неоходимо изменить тип данных."
   ]
  },
  {
   "cell_type": "markdown",
   "metadata": {},
   "source": [
    "### Замена названий столбцов (приведение к нижнему регистру)\n",
    "\n",
    "Для этого с помощью атрибута `columns` заменим названия столбцов на те же, но приведенные к нижнему регистру методом `lower()`."
   ]
  },
  {
   "cell_type": "code",
   "execution_count": 5,
   "metadata": {},
   "outputs": [],
   "source": [
    "data.columns = data.columns.str.lower()"
   ]
  },
  {
   "cell_type": "markdown",
   "metadata": {},
   "source": [
    "Выведем новые названия столбцов на экран."
   ]
  },
  {
   "cell_type": "code",
   "execution_count": 6,
   "metadata": {
    "scrolled": true
   },
   "outputs": [
    {
     "data": {
      "text/plain": [
       "Index(['rownumber', 'customerid', 'surname', 'creditscore', 'geography',\n",
       "       'gender', 'age', 'tenure', 'balance', 'numofproducts', 'hascrcard',\n",
       "       'isactivemember', 'estimatedsalary', 'exited'],\n",
       "      dtype='object')"
      ]
     },
     "execution_count": 6,
     "metadata": {},
     "output_type": "execute_result"
    }
   ],
   "source": [
    "data.columns"
   ]
  },
  {
   "cell_type": "markdown",
   "metadata": {},
   "source": [
    "### Обработка пропусков\n",
    "\n",
    "Найдем количество пропусков."
   ]
  },
  {
   "cell_type": "code",
   "execution_count": 7,
   "metadata": {},
   "outputs": [
    {
     "name": "stdout",
     "output_type": "stream",
     "text": [
      "909\n"
     ]
    }
   ],
   "source": [
    "print(data['tenure'].isna().sum())"
   ]
  },
  {
   "cell_type": "markdown",
   "metadata": {},
   "source": [
    "Необходимо проверить, не означают ли пропуски нулевые значения. Найдем количество нулевых значений."
   ]
  },
  {
   "cell_type": "code",
   "execution_count": 8,
   "metadata": {},
   "outputs": [
    {
     "data": {
      "text/plain": [
       "382"
      ]
     },
     "execution_count": 8,
     "metadata": {},
     "output_type": "execute_result"
    }
   ],
   "source": [
    "data[data['tenure'] == 0]['tenure'].count()"
   ]
  },
  {
   "cell_type": "markdown",
   "metadata": {},
   "source": [
    "Нулевые значения есть, значит, они обозначены корректно и с пропусками не связаны.\n",
    "\n",
    "Выведем на экран первые 5 строк с пропусками в этом столбце."
   ]
  },
  {
   "cell_type": "code",
   "execution_count": 9,
   "metadata": {
    "scrolled": false
   },
   "outputs": [
    {
     "data": {
      "text/html": [
       "<div>\n",
       "<style scoped>\n",
       "    .dataframe tbody tr th:only-of-type {\n",
       "        vertical-align: middle;\n",
       "    }\n",
       "\n",
       "    .dataframe tbody tr th {\n",
       "        vertical-align: top;\n",
       "    }\n",
       "\n",
       "    .dataframe thead th {\n",
       "        text-align: right;\n",
       "    }\n",
       "</style>\n",
       "<table border=\"1\" class=\"dataframe\">\n",
       "  <thead>\n",
       "    <tr style=\"text-align: right;\">\n",
       "      <th></th>\n",
       "      <th>rownumber</th>\n",
       "      <th>customerid</th>\n",
       "      <th>surname</th>\n",
       "      <th>creditscore</th>\n",
       "      <th>geography</th>\n",
       "      <th>gender</th>\n",
       "      <th>age</th>\n",
       "      <th>tenure</th>\n",
       "      <th>balance</th>\n",
       "      <th>numofproducts</th>\n",
       "      <th>hascrcard</th>\n",
       "      <th>isactivemember</th>\n",
       "      <th>estimatedsalary</th>\n",
       "      <th>exited</th>\n",
       "    </tr>\n",
       "  </thead>\n",
       "  <tbody>\n",
       "    <tr>\n",
       "      <th>30</th>\n",
       "      <td>31</td>\n",
       "      <td>15589475</td>\n",
       "      <td>Azikiwe</td>\n",
       "      <td>591</td>\n",
       "      <td>Spain</td>\n",
       "      <td>Female</td>\n",
       "      <td>39</td>\n",
       "      <td>NaN</td>\n",
       "      <td>0.00</td>\n",
       "      <td>3</td>\n",
       "      <td>1</td>\n",
       "      <td>0</td>\n",
       "      <td>140469.38</td>\n",
       "      <td>1</td>\n",
       "    </tr>\n",
       "    <tr>\n",
       "      <th>48</th>\n",
       "      <td>49</td>\n",
       "      <td>15766205</td>\n",
       "      <td>Yin</td>\n",
       "      <td>550</td>\n",
       "      <td>Germany</td>\n",
       "      <td>Male</td>\n",
       "      <td>38</td>\n",
       "      <td>NaN</td>\n",
       "      <td>103391.38</td>\n",
       "      <td>1</td>\n",
       "      <td>0</td>\n",
       "      <td>1</td>\n",
       "      <td>90878.13</td>\n",
       "      <td>0</td>\n",
       "    </tr>\n",
       "    <tr>\n",
       "      <th>51</th>\n",
       "      <td>52</td>\n",
       "      <td>15768193</td>\n",
       "      <td>Trevisani</td>\n",
       "      <td>585</td>\n",
       "      <td>Germany</td>\n",
       "      <td>Male</td>\n",
       "      <td>36</td>\n",
       "      <td>NaN</td>\n",
       "      <td>146050.97</td>\n",
       "      <td>2</td>\n",
       "      <td>0</td>\n",
       "      <td>0</td>\n",
       "      <td>86424.57</td>\n",
       "      <td>0</td>\n",
       "    </tr>\n",
       "    <tr>\n",
       "      <th>53</th>\n",
       "      <td>54</td>\n",
       "      <td>15702298</td>\n",
       "      <td>Parkhill</td>\n",
       "      <td>655</td>\n",
       "      <td>Germany</td>\n",
       "      <td>Male</td>\n",
       "      <td>41</td>\n",
       "      <td>NaN</td>\n",
       "      <td>125561.97</td>\n",
       "      <td>1</td>\n",
       "      <td>0</td>\n",
       "      <td>0</td>\n",
       "      <td>164040.94</td>\n",
       "      <td>1</td>\n",
       "    </tr>\n",
       "    <tr>\n",
       "      <th>60</th>\n",
       "      <td>61</td>\n",
       "      <td>15651280</td>\n",
       "      <td>Hunter</td>\n",
       "      <td>742</td>\n",
       "      <td>Germany</td>\n",
       "      <td>Male</td>\n",
       "      <td>35</td>\n",
       "      <td>NaN</td>\n",
       "      <td>136857.00</td>\n",
       "      <td>1</td>\n",
       "      <td>0</td>\n",
       "      <td>0</td>\n",
       "      <td>84509.57</td>\n",
       "      <td>0</td>\n",
       "    </tr>\n",
       "  </tbody>\n",
       "</table>\n",
       "</div>"
      ],
      "text/plain": [
       "    rownumber  customerid    surname  creditscore geography  gender  age  \\\n",
       "30         31    15589475    Azikiwe          591     Spain  Female   39   \n",
       "48         49    15766205        Yin          550   Germany    Male   38   \n",
       "51         52    15768193  Trevisani          585   Germany    Male   36   \n",
       "53         54    15702298   Parkhill          655   Germany    Male   41   \n",
       "60         61    15651280     Hunter          742   Germany    Male   35   \n",
       "\n",
       "    tenure    balance  numofproducts  hascrcard  isactivemember  \\\n",
       "30     NaN       0.00              3          1               0   \n",
       "48     NaN  103391.38              1          0               1   \n",
       "51     NaN  146050.97              2          0               0   \n",
       "53     NaN  125561.97              1          0               0   \n",
       "60     NaN  136857.00              1          0               0   \n",
       "\n",
       "    estimatedsalary  exited  \n",
       "30        140469.38       1  \n",
       "48         90878.13       0  \n",
       "51         86424.57       0  \n",
       "53        164040.94       1  \n",
       "60         84509.57       0  "
      ]
     },
     "execution_count": 9,
     "metadata": {},
     "output_type": "execute_result"
    }
   ],
   "source": [
    "data[data['tenure'].isna()].head()"
   ]
  },
  {
   "cell_type": "markdown",
   "metadata": {},
   "source": [
    "Никаких закономерностей не прослеживается. Скорее всего, пропуски полностью случайные. Выведем столбчатую диаграмму с распределением объектов по значениям в столбце `'tenure'`."
   ]
  },
  {
   "cell_type": "code",
   "execution_count": 10,
   "metadata": {},
   "outputs": [
    {
     "data": {
      "image/png": "[encoded data removed]",
      "text/plain": [
       "<Figure size 432x216 with 1 Axes>"
      ]
     },
     "metadata": {
      "needs_background": "light"
     },
     "output_type": "display_data"
    }
   ],
   "source": [
    "(data.groupby(by='tenure')['tenure']\n",
    "     .count()\n",
    "     .plot(kind= 'bar', figsize=(6,3), rot = 0, legend = False, fontsize = 12)\n",
    "     .set_title('Распределение по годам' + \"\\n\",\n",
    "                fontsize = 16,\n",
    "                color = 'SteelBlue'));"
   ]
  },
  {
   "cell_type": "markdown",
   "metadata": {},
   "source": [
    "Распределение по `'tenure'` достаточно равномерное, поэтому пропуски лучше заполнить методом `fillna()` случайными целыми числами, генерируемые методом `randint()` в том же диапазоне ."
   ]
  },
  {
   "cell_type": "code",
   "execution_count": 11,
   "metadata": {},
   "outputs": [],
   "source": [
    "data['tenure'] = data['tenure'].fillna(pd.Series(randint(data['tenure'].min(),\n",
    "                                                         data['tenure'].max(),\n",
    "                                                         size=data['tenure'].shape[0]),\n",
    "                                                 index=data['tenure'].index))"
   ]
  },
  {
   "cell_type": "markdown",
   "metadata": {},
   "source": [
    "Еще раз построим распределение, чтобы убедиться, что оно не исказилось."
   ]
  },
  {
   "cell_type": "code",
   "execution_count": 12,
   "metadata": {},
   "outputs": [
    {
     "data": {
      "image/png": "[encoded data removed]",
      "text/plain": [
       "<Figure size 432x216 with 1 Axes>"
      ]
     },
     "metadata": {
      "needs_background": "light"
     },
     "output_type": "display_data"
    }
   ],
   "source": [
    "(data.groupby(by='tenure')['tenure']\n",
    "     .count()\n",
    "     .plot(kind= 'bar', figsize=(6,3), rot = 0, legend = False, fontsize = 12)\n",
    "     .set_title('Распределение по годам' + \"\\n\",\n",
    "                fontsize = 16,\n",
    "                color = 'SteelBlue'));"
   ]
  },
  {
   "cell_type": "markdown",
   "metadata": {},
   "source": [
    "Распределение не изменилось."
   ]
  },
  {
   "cell_type": "markdown",
   "metadata": {},
   "source": [
    "### Работа с типами данных\n",
    "\n",
    "В столбце `'tenure'` тип данных `float64` можно заменить на `int32` для вычисления вычислительной мощности, так как числа небольшие. Это можно сделать методом `astype()`."
   ]
  },
  {
   "cell_type": "code",
   "execution_count": 13,
   "metadata": {},
   "outputs": [],
   "source": [
    "data['tenure'] = data['tenure'].astype('int32')"
   ]
  },
  {
   "cell_type": "markdown",
   "metadata": {},
   "source": [
    "Проверим таблицу на пропуски и типы данных. Выведем общую информацию методом `info()`."
   ]
  },
  {
   "cell_type": "code",
   "execution_count": 14,
   "metadata": {
    "collapsed": true
   },
   "outputs": [
    {
     "name": "stdout",
     "output_type": "stream",
     "text": [
      "<class 'pandas.core.frame.DataFrame'>\n",
      "RangeIndex: 10000 entries, 0 to 9999\n",
      "Data columns (total 14 columns):\n",
      " #   Column           Non-Null Count  Dtype  \n",
      "---  ------           --------------  -----  \n",
      " 0   rownumber        10000 non-null  int64  \n",
      " 1   customerid       10000 non-null  int64  \n",
      " 2   surname          10000 non-null  object \n",
      " 3   creditscore      10000 non-null  int64  \n",
      " 4   geography        10000 non-null  object \n",
      " 5   gender           10000 non-null  object \n",
      " 6   age              10000 non-null  int64  \n",
      " 7   tenure           10000 non-null  int32  \n",
      " 8   balance          10000 non-null  float64\n",
      " 9   numofproducts    10000 non-null  int64  \n",
      " 10  hascrcard        10000 non-null  int64  \n",
      " 11  isactivemember   10000 non-null  int64  \n",
      " 12  estimatedsalary  10000 non-null  float64\n",
      " 13  exited           10000 non-null  int64  \n",
      "dtypes: float64(2), int32(1), int64(8), object(3)\n",
      "memory usage: 1.0+ MB\n"
     ]
    }
   ],
   "source": [
    "data.info()"
   ]
  },
  {
   "cell_type": "markdown",
   "metadata": {},
   "source": [
    "Типы данных соответствуют содержимому в столбцах, пропусков нет."
   ]
  },
  {
   "cell_type": "markdown",
   "metadata": {},
   "source": [
    "### Выбор значимых признаков\n",
    "\n",
    "Не все признаки в таблице `data` влияют на то, уйдет клиент из банка или нет. Лишние столбцы нужно удалить. К ним относятся: `'rownumber'`, `'customerid'`, `'surname'`."
   ]
  },
  {
   "cell_type": "code",
   "execution_count": 15,
   "metadata": {},
   "outputs": [],
   "source": [
    "data = data.drop(columns=['rownumber','customerid','surname'])"
   ]
  },
  {
   "cell_type": "markdown",
   "metadata": {},
   "source": [
    "### Разбиение данных на выборки\n",
    "\n",
    "Для создания качественной модели данные необходимо разбить на обучающую, валидационную и тестовую выборки. На валидационной выборке будем проводить промежуточные проверки моделей для выбора наилучшей, а на тестовой проведем итоговую проверку модели. \n",
    "\n",
    "Отделим целевой признак и запишем его в переменную `target`. Остальные признаки запишем в переменную `features`. "
   ]
  },
  {
   "cell_type": "code",
   "execution_count": 16,
   "metadata": {},
   "outputs": [],
   "source": [
    "features = data.drop(columns='exited')\n",
    "target = data['exited']"
   ]
  },
  {
   "cell_type": "markdown",
   "metadata": {},
   "source": [
    "Размеры обучающей, валидационной и тестовой выборок составляют 60 %, 20 % и 20 % от общих данных. Сначала отделим от общих данных тестовую выборку функцией `train_test_split()`. Запишем признаки и целевой признак тестовой выборки в перемнные `features_test`  и `target_test`. Чтобы зафиксировать случайное разбиение на выборки, зафиксируем параметр случайного состояния `random_state`."
   ]
  },
  {
   "cell_type": "code",
   "execution_count": 17,
   "metadata": {},
   "outputs": [],
   "source": [
    "features_train_valid, features_test, target_train_valid, target_test = train_test_split(\n",
    "    features, target, test_size=0.2, random_state=12345)"
   ]
  },
  {
   "cell_type": "markdown",
   "metadata": {},
   "source": [
    "Признаки и целевой признак обучающей выборки запишем в перемнные `features_train`  и `target_train`, а валидационной - в `features_valid`  и `target_valid`."
   ]
  },
  {
   "cell_type": "code",
   "execution_count": 18,
   "metadata": {},
   "outputs": [],
   "source": [
    "features_train, features_valid, target_train, target_valid = train_test_split(\n",
    "    features_train_valid, target_train_valid, test_size=0.25, random_state=12345)"
   ]
  },
  {
   "cell_type": "markdown",
   "metadata": {},
   "source": [
    "Выведем размеры полученных выборок."
   ]
  },
  {
   "cell_type": "code",
   "execution_count": 19,
   "metadata": {},
   "outputs": [
    {
     "name": "stdout",
     "output_type": "stream",
     "text": [
      "(6000, 10)\n",
      "(2000, 10)\n",
      "(2000, 10)\n"
     ]
    }
   ],
   "source": [
    "print(features_train.shape,'\\n',features_valid.shape,'\\n',features_test.shape,sep='')"
   ]
  },
  {
   "cell_type": "markdown",
   "metadata": {},
   "source": [
    "### Масштабирование признаков"
   ]
  },
  {
   "cell_type": "markdown",
   "metadata": {},
   "source": [
    "Количественные величины имеют разные диапазоны значений. Чтобы для модели они были равнозначны по влиянию на целевой признак, их нужно масштабировать методом стандартизации `StandardScaler()`. В переменную `numeric` запишем список столбцов с количественными величинами. Преобразуем значения в них с помощью этой структуры."
   ]
  },
  {
   "cell_type": "code",
   "execution_count": 20,
   "metadata": {},
   "outputs": [
    {
     "name": "stderr",
     "output_type": "stream",
     "text": [
      "/tmp/ipykernel_31/2088641741.py:6: SettingWithCopyWarning: \n",
      "A value is trying to be set on a copy of a slice from a DataFrame.\n",
      "Try using .loc[row_indexer,col_indexer] = value instead\n",
      "\n",
      "See the caveats in the documentation: https://pandas.pydata.org/pandas-docs/stable/user_guide/indexing.html#returning-a-view-versus-a-copy\n",
      "  features_train[numeric] = scaler.transform(features_train[numeric])\n",
      "/opt/conda/lib/python3.9/site-packages/pandas/core/indexing.py:1738: SettingWithCopyWarning: \n",
      "A value is trying to be set on a copy of a slice from a DataFrame.\n",
      "Try using .loc[row_indexer,col_indexer] = value instead\n",
      "\n",
      "See the caveats in the documentation: https://pandas.pydata.org/pandas-docs/stable/user_guide/indexing.html#returning-a-view-versus-a-copy\n",
      "  self._setitem_single_column(loc, value[:, i].tolist(), pi)\n",
      "/tmp/ipykernel_31/2088641741.py:7: SettingWithCopyWarning: \n",
      "A value is trying to be set on a copy of a slice from a DataFrame.\n",
      "Try using .loc[row_indexer,col_indexer] = value instead\n",
      "\n",
      "See the caveats in the documentation: https://pandas.pydata.org/pandas-docs/stable/user_guide/indexing.html#returning-a-view-versus-a-copy\n",
      "  features_valid[numeric] = scaler.transform(features_valid[numeric])\n",
      "/opt/conda/lib/python3.9/site-packages/pandas/core/indexing.py:1738: SettingWithCopyWarning: \n",
      "A value is trying to be set on a copy of a slice from a DataFrame.\n",
      "Try using .loc[row_indexer,col_indexer] = value instead\n",
      "\n",
      "See the caveats in the documentation: https://pandas.pydata.org/pandas-docs/stable/user_guide/indexing.html#returning-a-view-versus-a-copy\n",
      "  self._setitem_single_column(loc, value[:, i].tolist(), pi)\n",
      "/tmp/ipykernel_31/2088641741.py:8: SettingWithCopyWarning: \n",
      "A value is trying to be set on a copy of a slice from a DataFrame.\n",
      "Try using .loc[row_indexer,col_indexer] = value instead\n",
      "\n",
      "See the caveats in the documentation: https://pandas.pydata.org/pandas-docs/stable/user_guide/indexing.html#returning-a-view-versus-a-copy\n",
      "  features_test[numeric] = scaler.transform(features_test[numeric])\n",
      "/opt/conda/lib/python3.9/site-packages/pandas/core/indexing.py:1738: SettingWithCopyWarning: \n",
      "A value is trying to be set on a copy of a slice from a DataFrame.\n",
      "Try using .loc[row_indexer,col_indexer] = value instead\n",
      "\n",
      "See the caveats in the documentation: https://pandas.pydata.org/pandas-docs/stable/user_guide/indexing.html#returning-a-view-versus-a-copy\n",
      "  self._setitem_single_column(loc, value[:, i].tolist(), pi)\n",
      "/tmp/ipykernel_31/2088641741.py:9: SettingWithCopyWarning: \n",
      "A value is trying to be set on a copy of a slice from a DataFrame.\n",
      "Try using .loc[row_indexer,col_indexer] = value instead\n",
      "\n",
      "See the caveats in the documentation: https://pandas.pydata.org/pandas-docs/stable/user_guide/indexing.html#returning-a-view-versus-a-copy\n",
      "  features_train_valid[numeric] = scaler.transform(features_train_valid[numeric])\n",
      "/opt/conda/lib/python3.9/site-packages/pandas/core/indexing.py:1738: SettingWithCopyWarning: \n",
      "A value is trying to be set on a copy of a slice from a DataFrame.\n",
      "Try using .loc[row_indexer,col_indexer] = value instead\n",
      "\n",
      "See the caveats in the documentation: https://pandas.pydata.org/pandas-docs/stable/user_guide/indexing.html#returning-a-view-versus-a-copy\n",
      "  self._setitem_single_column(loc, value[:, i].tolist(), pi)\n"
     ]
    }
   ],
   "source": [
    "numeric = ['creditscore', 'age', 'tenure', 'balance','numofproducts','estimatedsalary']\n",
    "\n",
    "scaler = StandardScaler()\n",
    "scaler.fit(features_train[numeric])\n",
    "\n",
    "features_train[numeric] = scaler.transform(features_train[numeric])\n",
    "features_valid[numeric] = scaler.transform(features_valid[numeric])\n",
    "features_test[numeric] = scaler.transform(features_test[numeric])\n",
    "features_train_valid[numeric] = scaler.transform(features_train_valid[numeric])\n",
    "\n",
    "pd.options.mode.chained_assignment = None"
   ]
  },
  {
   "cell_type": "markdown",
   "metadata": {},
   "source": [
    "Выведем первые пять строк обучающей таблицы с признаками."
   ]
  },
  {
   "cell_type": "code",
   "execution_count": 21,
   "metadata": {
    "scrolled": true
   },
   "outputs": [
    {
     "data": {
      "text/html": [
       "<div>\n",
       "<style scoped>\n",
       "    .dataframe tbody tr th:only-of-type {\n",
       "        vertical-align: middle;\n",
       "    }\n",
       "\n",
       "    .dataframe tbody tr th {\n",
       "        vertical-align: top;\n",
       "    }\n",
       "\n",
       "    .dataframe thead th {\n",
       "        text-align: right;\n",
       "    }\n",
       "</style>\n",
       "<table border=\"1\" class=\"dataframe\">\n",
       "  <thead>\n",
       "    <tr style=\"text-align: right;\">\n",
       "      <th></th>\n",
       "      <th>creditscore</th>\n",
       "      <th>geography</th>\n",
       "      <th>gender</th>\n",
       "      <th>age</th>\n",
       "      <th>tenure</th>\n",
       "      <th>balance</th>\n",
       "      <th>numofproducts</th>\n",
       "      <th>hascrcard</th>\n",
       "      <th>isactivemember</th>\n",
       "      <th>estimatedsalary</th>\n",
       "    </tr>\n",
       "  </thead>\n",
       "  <tbody>\n",
       "    <tr>\n",
       "      <th>492</th>\n",
       "      <td>-0.134048</td>\n",
       "      <td>France</td>\n",
       "      <td>Female</td>\n",
       "      <td>-0.078068</td>\n",
       "      <td>-0.340483</td>\n",
       "      <td>0.076163</td>\n",
       "      <td>0.816929</td>\n",
       "      <td>0</td>\n",
       "      <td>1</td>\n",
       "      <td>0.331571</td>\n",
       "    </tr>\n",
       "    <tr>\n",
       "      <th>6655</th>\n",
       "      <td>-1.010798</td>\n",
       "      <td>France</td>\n",
       "      <td>Male</td>\n",
       "      <td>0.494555</td>\n",
       "      <td>-1.030419</td>\n",
       "      <td>0.136391</td>\n",
       "      <td>-0.896909</td>\n",
       "      <td>1</td>\n",
       "      <td>1</td>\n",
       "      <td>-0.727858</td>\n",
       "    </tr>\n",
       "    <tr>\n",
       "      <th>4287</th>\n",
       "      <td>0.639554</td>\n",
       "      <td>Germany</td>\n",
       "      <td>Male</td>\n",
       "      <td>1.353490</td>\n",
       "      <td>-1.375387</td>\n",
       "      <td>0.358435</td>\n",
       "      <td>-0.896909</td>\n",
       "      <td>1</td>\n",
       "      <td>1</td>\n",
       "      <td>-0.477006</td>\n",
       "    </tr>\n",
       "    <tr>\n",
       "      <th>42</th>\n",
       "      <td>-0.990168</td>\n",
       "      <td>France</td>\n",
       "      <td>Female</td>\n",
       "      <td>2.116987</td>\n",
       "      <td>-1.030419</td>\n",
       "      <td>0.651725</td>\n",
       "      <td>-0.896909</td>\n",
       "      <td>1</td>\n",
       "      <td>1</td>\n",
       "      <td>-0.100232</td>\n",
       "    </tr>\n",
       "    <tr>\n",
       "      <th>8178</th>\n",
       "      <td>0.567351</td>\n",
       "      <td>France</td>\n",
       "      <td>Female</td>\n",
       "      <td>0.685430</td>\n",
       "      <td>0.694420</td>\n",
       "      <td>0.813110</td>\n",
       "      <td>0.816929</td>\n",
       "      <td>1</td>\n",
       "      <td>1</td>\n",
       "      <td>0.801922</td>\n",
       "    </tr>\n",
       "  </tbody>\n",
       "</table>\n",
       "</div>"
      ],
      "text/plain": [
       "      creditscore geography  gender       age    tenure   balance  \\\n",
       "492     -0.134048    France  Female -0.078068 -0.340483  0.076163   \n",
       "6655    -1.010798    France    Male  0.494555 -1.030419  0.136391   \n",
       "4287     0.639554   Germany    Male  1.353490 -1.375387  0.358435   \n",
       "42      -0.990168    France  Female  2.116987 -1.030419  0.651725   \n",
       "8178     0.567351    France  Female  0.685430  0.694420  0.813110   \n",
       "\n",
       "      numofproducts  hascrcard  isactivemember  estimatedsalary  \n",
       "492        0.816929          0               1         0.331571  \n",
       "6655      -0.896909          1               1        -0.727858  \n",
       "4287      -0.896909          1               1        -0.477006  \n",
       "42        -0.896909          1               1        -0.100232  \n",
       "8178       0.816929          1               1         0.801922  "
      ]
     },
     "execution_count": 21,
     "metadata": {},
     "output_type": "execute_result"
    }
   ],
   "source": [
    "features_train.head()"
   ]
  },
  {
   "cell_type": "markdown",
   "metadata": {},
   "source": [
    "### Преобразование данных\n",
    "\n",
    "Для преобразования категориальных признаков воспользуемся принципом прямого кодирования OHE. Для стлбцов `'geography'` и `'gender'` создадим фиктивные столбцы со значениями `'1'` или `'0'`. Один стлбец с избыточной информацией удалим, чтобы избежать дамми-ловушки."
   ]
  },
  {
   "cell_type": "code",
   "execution_count": 22,
   "metadata": {},
   "outputs": [],
   "source": [
    "features_train = pd.get_dummies(features_train, drop_first=True)\n",
    "features_valid = pd.get_dummies(features_valid, drop_first=True)\n",
    "features_test = pd.get_dummies(features_test, drop_first=True)\n",
    "features_train_valid = pd.get_dummies(features_train_valid, drop_first=True)"
   ]
  },
  {
   "cell_type": "markdown",
   "metadata": {},
   "source": [
    "Выведем первые пять строк обучающей таблицы с признаками."
   ]
  },
  {
   "cell_type": "code",
   "execution_count": 23,
   "metadata": {
    "scrolled": true
   },
   "outputs": [
    {
     "data": {
      "text/html": [
       "<div>\n",
       "<style scoped>\n",
       "    .dataframe tbody tr th:only-of-type {\n",
       "        vertical-align: middle;\n",
       "    }\n",
       "\n",
       "    .dataframe tbody tr th {\n",
       "        vertical-align: top;\n",
       "    }\n",
       "\n",
       "    .dataframe thead th {\n",
       "        text-align: right;\n",
       "    }\n",
       "</style>\n",
       "<table border=\"1\" class=\"dataframe\">\n",
       "  <thead>\n",
       "    <tr style=\"text-align: right;\">\n",
       "      <th></th>\n",
       "      <th>creditscore</th>\n",
       "      <th>age</th>\n",
       "      <th>tenure</th>\n",
       "      <th>balance</th>\n",
       "      <th>numofproducts</th>\n",
       "      <th>hascrcard</th>\n",
       "      <th>isactivemember</th>\n",
       "      <th>estimatedsalary</th>\n",
       "      <th>geography_Germany</th>\n",
       "      <th>geography_Spain</th>\n",
       "      <th>gender_Male</th>\n",
       "    </tr>\n",
       "  </thead>\n",
       "  <tbody>\n",
       "    <tr>\n",
       "      <th>492</th>\n",
       "      <td>-0.134048</td>\n",
       "      <td>-0.078068</td>\n",
       "      <td>-0.340483</td>\n",
       "      <td>0.076163</td>\n",
       "      <td>0.816929</td>\n",
       "      <td>0</td>\n",
       "      <td>1</td>\n",
       "      <td>0.331571</td>\n",
       "      <td>0</td>\n",
       "      <td>0</td>\n",
       "      <td>0</td>\n",
       "    </tr>\n",
       "    <tr>\n",
       "      <th>6655</th>\n",
       "      <td>-1.010798</td>\n",
       "      <td>0.494555</td>\n",
       "      <td>-1.030419</td>\n",
       "      <td>0.136391</td>\n",
       "      <td>-0.896909</td>\n",
       "      <td>1</td>\n",
       "      <td>1</td>\n",
       "      <td>-0.727858</td>\n",
       "      <td>0</td>\n",
       "      <td>0</td>\n",
       "      <td>1</td>\n",
       "    </tr>\n",
       "    <tr>\n",
       "      <th>4287</th>\n",
       "      <td>0.639554</td>\n",
       "      <td>1.353490</td>\n",
       "      <td>-1.375387</td>\n",
       "      <td>0.358435</td>\n",
       "      <td>-0.896909</td>\n",
       "      <td>1</td>\n",
       "      <td>1</td>\n",
       "      <td>-0.477006</td>\n",
       "      <td>1</td>\n",
       "      <td>0</td>\n",
       "      <td>1</td>\n",
       "    </tr>\n",
       "    <tr>\n",
       "      <th>42</th>\n",
       "      <td>-0.990168</td>\n",
       "      <td>2.116987</td>\n",
       "      <td>-1.030419</td>\n",
       "      <td>0.651725</td>\n",
       "      <td>-0.896909</td>\n",
       "      <td>1</td>\n",
       "      <td>1</td>\n",
       "      <td>-0.100232</td>\n",
       "      <td>0</td>\n",
       "      <td>0</td>\n",
       "      <td>0</td>\n",
       "    </tr>\n",
       "    <tr>\n",
       "      <th>8178</th>\n",
       "      <td>0.567351</td>\n",
       "      <td>0.685430</td>\n",
       "      <td>0.694420</td>\n",
       "      <td>0.813110</td>\n",
       "      <td>0.816929</td>\n",
       "      <td>1</td>\n",
       "      <td>1</td>\n",
       "      <td>0.801922</td>\n",
       "      <td>0</td>\n",
       "      <td>0</td>\n",
       "      <td>0</td>\n",
       "    </tr>\n",
       "  </tbody>\n",
       "</table>\n",
       "</div>"
      ],
      "text/plain": [
       "      creditscore       age    tenure   balance  numofproducts  hascrcard  \\\n",
       "492     -0.134048 -0.078068 -0.340483  0.076163       0.816929          0   \n",
       "6655    -1.010798  0.494555 -1.030419  0.136391      -0.896909          1   \n",
       "4287     0.639554  1.353490 -1.375387  0.358435      -0.896909          1   \n",
       "42      -0.990168  2.116987 -1.030419  0.651725      -0.896909          1   \n",
       "8178     0.567351  0.685430  0.694420  0.813110       0.816929          1   \n",
       "\n",
       "      isactivemember  estimatedsalary  geography_Germany  geography_Spain  \\\n",
       "492                1         0.331571                  0                0   \n",
       "6655               1        -0.727858                  0                0   \n",
       "4287               1        -0.477006                  1                0   \n",
       "42                 1        -0.100232                  0                0   \n",
       "8178               1         0.801922                  0                0   \n",
       "\n",
       "      gender_Male  \n",
       "492             0  \n",
       "6655            1  \n",
       "4287            1  \n",
       "42              0  \n",
       "8178            0  "
      ]
     },
     "execution_count": 23,
     "metadata": {},
     "output_type": "execute_result"
    }
   ],
   "source": [
    "features_train.head()"
   ]
  },
  {
   "cell_type": "markdown",
   "metadata": {},
   "source": [
    "## Исследование задачи"
   ]
  },
  {
   "cell_type": "markdown",
   "metadata": {},
   "source": [
    "### Исследование дисбаланса классов\n",
    "\n",
    "Для анализа дисбаланса классов по целевому признаку построим столбчатую диаграмму."
   ]
  },
  {
   "cell_type": "code",
   "execution_count": 24,
   "metadata": {},
   "outputs": [
    {
     "data": {
      "image/png": "[encoded data removed]",
      "text/plain": [
       "<Figure size 288x216 with 1 Axes>"
      ]
     },
     "metadata": {
      "needs_background": "light"
     },
     "output_type": "display_data"
    }
   ],
   "source": [
    "(data.groupby(by='exited')['exited']\n",
    "     .count()\n",
    "     .plot(kind= 'bar', figsize=(4,3), rot = 0, legend = False, fontsize = 12)\n",
    "     .set_title('Распределение по классам' + \"\\n\",\n",
    "                fontsize = 16,\n",
    "                color = 'SteelBlue'));"
   ]
  },
  {
   "cell_type": "markdown",
   "metadata": {},
   "source": [
    "Количество объектов со значением `'0'` почти в 4 раза больше, чем со значением `'1'`. Это говорит о достаточно сильном дисбалансе классов, который лучше обработать увеличением выборки."
   ]
  },
  {
   "cell_type": "markdown",
   "metadata": {},
   "source": [
    "### Изучение моделей без учёта дисбаланса"
   ]
  },
  {
   "cell_type": "markdown",
   "metadata": {},
   "source": [
    "Поставленная задача относится к задачам классификации. Рассмострим три модели машинного обучения из библиотеки `sklearn`: \n",
    "- решающее дерево\n",
    "- случайный лес\n",
    "- логистическая регрессия. \n",
    "\n",
    "Будем менять гиперпараметры моделей, чтобы получить наилучшие результаты, затем выберем одну модель и проверим ее на тестовой выборке.\n",
    "\n",
    "Чтобы зафиксировать случайность в предсказании моделей, зафиксируем для каждой модели параметр случайного состояния `random_state`."
   ]
  },
  {
   "cell_type": "markdown",
   "metadata": {},
   "source": [
    "#### Модель решающего дерева"
   ]
  },
  {
   "cell_type": "markdown",
   "metadata": {},
   "source": [
    "<a id='2.2.1'></a>Первой обучим модель решающего дерева. Основные гиперпараметры модели, которые будем менять:\n",
    "\n",
    "- глубина дерева `max_depth` — это максимальное количество условий от «вершины» до финального ответа; считается по количеству переходов между узлами;\n",
    "- `min_samples_split` - число, ограничивающее минимальное количество объектов в узле для разделения;\n",
    "- `min_samples_leaf` - число, ограничивающее минимальное количество объектов в листе.\n",
    "\n",
    "С помощью цикла найдем оптимальное сочетание этих гиперпараметров для получения наибольшей метрики качества модели F1. Это среднее гармоническое полноты и точности. Единица в F1-мере означает, что соотношение полноты и точности равно 1:1. По заданию она должна быть не меньше 0,59. \n",
    "\n",
    "Также необходимо контролировать переобучение модели. Для этого нужно сравнивать F1-меру на обучающей и валидационной выборках - они должны быть примерно одинаковыми. Если F1-мера на обучающей выборке значительно больше, чем на валидационной, то модель переобучена.\n",
    "\n",
    "Напишем цикл по параметрам с помощью функции `product()` из библиотеки `itertools`. В цикле найдем модель с наилучшим значением F1-меры на валидационной выборке и сохраним значение гиперпараметров для нее в переменную `best_parameters`, а значения F1-меры на валидационной и обучающей выборках в переменные `best_f1` и `best_f1_train` соответственно. Также вычислим значение метрики AUC-ROC и сохраним его для лучшей модели в переменную `best_auc_roc`."
   ]
  },
  {
   "cell_type": "code",
   "execution_count": 25,
   "metadata": {},
   "outputs": [],
   "source": [
    "best_parameters = 0\n",
    "best_f1_valid = 0\n",
    "best_f1_train = 0\n",
    "best_auc_roc = 0\n",
    "\n",
    "for parameters in product(range(4,14),range(50,220,20),range(10,110,10)):\n",
    "    \n",
    "    depth,samples_split,samples_leaf = parameters\n",
    "    \n",
    "    model = DecisionTreeClassifier(random_state=12345, \n",
    "                                   max_depth=depth,\n",
    "                                   min_samples_split=samples_split,\n",
    "                                   min_samples_leaf=samples_leaf)\n",
    "    model.fit(features_train,target_train)\n",
    "    \n",
    "    predictions_train = model.predict(features_train) \n",
    "    f1_train = f1_score(target_train, predictions_train)\n",
    "    \n",
    "    predictions_valid = model.predict(features_valid)\n",
    "    f1_valid = f1_score(target_valid,predictions_valid)\n",
    "    \n",
    "    probabilities_valid = model.predict_proba(features_valid)\n",
    "    auc_roc = roc_auc_score(target_valid,probabilities_valid[:, 1])\n",
    "    \n",
    "    if f1_valid > best_f1_valid:\n",
    "        best_f1_train = f1_train\n",
    "        best_f1_valid = f1_valid\n",
    "        best_auc_roc = auc_roc       \n",
    "        best_parameters = parameters"
   ]
  },
  {
   "cell_type": "markdown",
   "metadata": {},
   "source": [
    "Выведем на экран лучший результат и соответствующие значения гиперпараметров."
   ]
  },
  {
   "cell_type": "code",
   "execution_count": 26,
   "metadata": {},
   "outputs": [
    {
     "name": "stdout",
     "output_type": "stream",
     "text": [
      "F1-мера на обучающей выборке: 0.6140018921475875 \n",
      "F1-мера ответов на валидационной выборке: 0.5822416302765647 \n",
      "AUC-ROC на валидационной выборке: 0.8414052031491658 \n",
      "Максимальная глубина дерева: 8 \n",
      "Минимальное количество объектов в узле: 150 \n",
      "Минимальное количество объектов в листе: 20\n"
     ]
    }
   ],
   "source": [
    "print(\"F1-мера на обучающей выборке:\", best_f1_train,\n",
    "      \"\\nF1-мера ответов на валидационной выборке:\", best_f1_valid,\n",
    "      \"\\nAUC-ROC на валидационной выборке:\", best_auc_roc,\n",
    "      \"\\nМаксимальная глубина дерева:\", best_parameters[0],\n",
    "      \"\\nМинимальное количество объектов в узле:\", best_parameters[1],\n",
    "      \"\\nМинимальное количество объектов в листе:\", best_parameters[2])"
   ]
  },
  {
   "cell_type": "markdown",
   "metadata": {},
   "source": [
    "Разница между значениями F1-меры на обучающей и валидационной выборках небольшая, переобучения нет. F1-мера на валидационной выборке ниже заданного порогового значения. Метрика AUC-ROC достаточно высокая.\n",
    "\n",
    "Запишем метрики для полученной модели в датафрейм `metrics`."
   ]
  },
  {
   "cell_type": "code",
   "execution_count": 27,
   "metadata": {},
   "outputs": [],
   "source": [
    "metrics = pd.DataFrame(columns=['f1_train','f1_valid','auc_roc'],index=['DecisionTreeClassifier'])\n",
    "metrics.loc['DecisionTreeClassifier'] = [best_f1_train,best_f1_valid,best_auc_roc]"
   ]
  },
  {
   "cell_type": "markdown",
   "metadata": {},
   "source": [
    "#### Модель случайного леса"
   ]
  },
  {
   "cell_type": "markdown",
   "metadata": {},
   "source": [
    "<a id='2.2.2'></a>Основные гиперпараметры модели случайного леса, которые будем менять:\n",
    "\n",
    "- `n_estimators` - количество деревьев;\n",
    "- `max_depth` - максимальная глубина дерева;\n",
    "- `min_samples_split` - число, ограничивающее минимальное количество объектов в узле для разделения;\n",
    "- `min_samples_leaf` - число, ограничивающее минимальное количество объектов в листе после разделения узла.\n",
    "\n",
    "Найдем оптимальное сочетание этих гиперпараметров аналогично [анализу модели решающего дерева](#2.2.1). Так же будем рассчитывать F1-меру на обучающей и валидационной выборках и значение AUC-ROC. "
   ]
  },
  {
   "cell_type": "code",
   "execution_count": 115,
   "metadata": {},
   "outputs": [
    {
     "name": "stderr",
     "output_type": "stream",
     "text": [
      "5400it [33:28,  2.69it/s]\n"
     ]
    }
   ],
   "source": [
    "best_parameters = 0\n",
    "best_f1_valid = 0\n",
    "best_f1_train = 0\n",
    "best_auc_roc = 0\n",
    "\n",
    "for parameters in tqdm(product(range(20,140,20),\n",
    "                               range(4,14),\n",
    "                               range(50,220,20),\n",
    "                               range(10,110,10))):\n",
    "    \n",
    "    est,depth,samples_split,samples_leaf = parameters\n",
    "    \n",
    "    model = RandomForestClassifier(random_state=12345, \n",
    "                                   n_estimators=est, \n",
    "                                   max_depth=depth,\n",
    "                                   min_samples_split=samples_split,\n",
    "                                   min_samples_leaf=samples_leaf)\n",
    "    model.fit(features_train,target_train)\n",
    "    \n",
    "    predictions_train = model.predict(features_train) \n",
    "    f1_train = f1_score(target_train, predictions_train)\n",
    "    \n",
    "    predictions_valid = model.predict(features_valid)\n",
    "    f1_valid = f1_score(target_valid,predictions_valid)\n",
    "    \n",
    "    probabilities_valid = model.predict_proba(features_valid)\n",
    "    auc_roc = roc_auc_score(target_valid,probabilities_valid[:, 1])\n",
    "    \n",
    "    if f1_valid > best_f1_valid:\n",
    "        best_f1_train = f1_train\n",
    "        best_f1_valid = f1_valid\n",
    "        best_auc_roc = auc_roc       \n",
    "        best_parameters = parameters"
   ]
  },
  {
   "cell_type": "markdown",
   "metadata": {},
   "source": [
    "Выведем на экран лучший результат и соответствующие значения гиперпараметров."
   ]
  },
  {
   "cell_type": "code",
   "execution_count": 116,
   "metadata": {},
   "outputs": [
    {
     "name": "stdout",
     "output_type": "stream",
     "text": [
      "F1-мера на обучающей выборке: 0.5862433862433862 \n",
      "F1-мера на валидационной выборке: 0.5603864734299517 \n",
      "AUC-ROC на валидационной выборке: 0.8464535326384992 \n",
      "Количество деревьев: 40 \n",
      "Максимальная глубина дерева: 13 \n",
      "Минимальное количество объектов в узле: 70 \n",
      "Минимальное количество объектов в листе: 10\n"
     ]
    }
   ],
   "source": [
    "print(\"F1-мера на обучающей выборке:\", best_f1_train,\n",
    "      \"\\nF1-мера на валидационной выборке:\", best_f1_valid,\n",
    "      \"\\nAUC-ROC на валидационной выборке:\", best_auc_roc,\n",
    "      \"\\nКоличество деревьев:\", best_parameters[0], \n",
    "      \"\\nМаксимальная глубина дерева:\", best_parameters[1],\n",
    "      \"\\nМинимальное количество объектов в узле:\", best_parameters[2],\n",
    "      \"\\nМинимальное количество объектов в листе:\", best_parameters[3])"
   ]
  },
  {
   "cell_type": "markdown",
   "metadata": {},
   "source": [
    "Наибольшее значение F1-меры на валидационной выборке, равное 0,56, меньше заданного порога. Переобучения нет, метрика AUC-ROC на валидационной выборке достаточно высокая. Запишем метрики для полученной модели в датафрейм `metrics`."
   ]
  },
  {
   "cell_type": "code",
   "execution_count": 32,
   "metadata": {},
   "outputs": [],
   "source": [
    "metrics = metrics.append(pd.Series(data={'f1_train':best_f1_train, \n",
    "                                         'f1_valid':best_f1_valid, \n",
    "                                         'auc_roc':best_auc_roc}, \n",
    "                                   name='RandomForestClassifier'),\n",
    "                         ignore_index=False)"
   ]
  },
  {
   "cell_type": "markdown",
   "metadata": {},
   "source": [
    "#### Модель логистической регрессии\n",
    "\n",
    "Вероятность переобучения модели логистической регрессии невелика. Зададим гиперпараметр `solver='liblinear'`, определяющий алгоритм, который будет строить модель, и обучим модель.<a id='2.2.3'></a>"
   ]
  },
  {
   "cell_type": "code",
   "execution_count": 33,
   "metadata": {},
   "outputs": [
    {
     "name": "stdout",
     "output_type": "stream",
     "text": [
      "F1-мера на обучающей выборке: 0.3321385902031064 \n",
      "F1-мера на валидационной выборке: 0.30131826741996237 \n",
      "AUC-ROC на валидационной выборке: 0.7700260205144018\n"
     ]
    }
   ],
   "source": [
    "model = LogisticRegression(solver='liblinear',random_state=12345)\n",
    "model.fit(features_train, target_train)\n",
    "\n",
    "predictions_train = model.predict(features_train) \n",
    "predictions_valid = model.predict(features_valid)\n",
    "probabilities_valid = model.predict_proba(features_valid)\n",
    "\n",
    "best_f1_train = f1_score(target_train, predictions_train)\n",
    "best_f1_valid = f1_score(target_valid,predictions_valid)\n",
    "best_auc_roc = roc_auc_score(target_valid,probabilities_valid[:, 1])\n",
    "\n",
    "print(\"F1-мера на обучающей выборке:\", best_f1_train,\n",
    "      \"\\nF1-мера на валидационной выборке:\", best_f1_valid,\n",
    "      \"\\nAUC-ROC на валидационной выборке:\", best_auc_roc,)"
   ]
  },
  {
   "cell_type": "markdown",
   "metadata": {},
   "source": [
    "F1-мера на валидационной выборке почти в 2 раза меньше заданного порогового значения, AUC-ROC ниже, чем у моделей решающего дерева и случайного леса. Запишем метрики для полученной модели в датафрейм `metrics`."
   ]
  },
  {
   "cell_type": "code",
   "execution_count": 34,
   "metadata": {},
   "outputs": [],
   "source": [
    "metrics = metrics.append(pd.Series(data={'f1_train':best_f1_train, \n",
    "                                         'f1_valid':best_f1_valid, \n",
    "                                         'auc_roc':best_auc_roc}, \n",
    "                                   name=('LogisticRegression')),\n",
    "                         ignore_index=False)"
   ]
  },
  {
   "cell_type": "markdown",
   "metadata": {},
   "source": [
    "### Выводы"
   ]
  },
  {
   "cell_type": "markdown",
   "metadata": {},
   "source": [
    "Выведем на экран метрики всех полученных моделей."
   ]
  },
  {
   "cell_type": "code",
   "execution_count": 67,
   "metadata": {},
   "outputs": [
    {
     "data": {
      "text/html": [
       "<div>\n",
       "<style scoped>\n",
       "    .dataframe tbody tr th:only-of-type {\n",
       "        vertical-align: middle;\n",
       "    }\n",
       "\n",
       "    .dataframe tbody tr th {\n",
       "        vertical-align: top;\n",
       "    }\n",
       "\n",
       "    .dataframe thead th {\n",
       "        text-align: right;\n",
       "    }\n",
       "</style>\n",
       "<table border=\"1\" class=\"dataframe\">\n",
       "  <thead>\n",
       "    <tr style=\"text-align: right;\">\n",
       "      <th></th>\n",
       "      <th>f1_train</th>\n",
       "      <th>f1_valid</th>\n",
       "      <th>auc_roc</th>\n",
       "    </tr>\n",
       "  </thead>\n",
       "  <tbody>\n",
       "    <tr>\n",
       "      <th>DecisionTreeClassifier</th>\n",
       "      <td>0.614002</td>\n",
       "      <td>0.582242</td>\n",
       "      <td>0.841405</td>\n",
       "    </tr>\n",
       "    <tr>\n",
       "      <th>RandomForestClassifier</th>\n",
       "      <td>0.586243</td>\n",
       "      <td>0.560386</td>\n",
       "      <td>0.846454</td>\n",
       "    </tr>\n",
       "    <tr>\n",
       "      <th>LogisticRegression</th>\n",
       "      <td>0.332139</td>\n",
       "      <td>0.301318</td>\n",
       "      <td>0.770026</td>\n",
       "    </tr>\n",
       "  </tbody>\n",
       "</table>\n",
       "</div>"
      ],
      "text/plain": [
       "                        f1_train  f1_valid   auc_roc\n",
       "DecisionTreeClassifier  0.614002  0.582242  0.841405\n",
       "RandomForestClassifier  0.586243  0.560386  0.846454\n",
       "LogisticRegression      0.332139  0.301318  0.770026"
      ]
     },
     "execution_count": 67,
     "metadata": {},
     "output_type": "execute_result"
    }
   ],
   "source": [
    "metrics"
   ]
  },
  {
   "cell_type": "markdown",
   "metadata": {},
   "source": [
    "Самое большое значение F1-меры на валидационной выборке дает модель решающего дерева. F1-мера на обучающей выборке здесь незначительно выше, чем у модели случайного леса, а AUC-ROC немного ниже.\n",
    "\n",
    "Без учета дисбаланса модель случайного леса с поставленной задачей справляется хуже. Метрика AUC-ROC немного больше, чем у модели решающего дерева, но определяющим фактором является F1-мера на валидационной выборке.\n",
    "\n",
    "Худшие результаты без учета дисбаланса дает модель логистической регрессии. F1-мера на валидационной и обучающей выборках почти в 2 раза меньше, чем у моделей решающего дерева и случайного леса, AUC-ROC здесь тоже наименьшая.\n",
    "\n",
    "Ни одна из рассмотренных моделей не дает значение F1-меры на валидационной выборке выше заданного порога."
   ]
  },
  {
   "cell_type": "markdown",
   "metadata": {},
   "source": [
    "## Борьба с дисбалансом"
   ]
  },
  {
   "cell_type": "markdown",
   "metadata": {},
   "source": [
    "Рассмотрим несколько способов устранения дисбаланса классов:\n",
    "- взвешивание классов\n",
    "- upsampling\n",
    "- downsampling"
   ]
  },
  {
   "cell_type": "markdown",
   "metadata": {},
   "source": [
    "### Взвешивание классов\n",
    "\n",
    "Взвешивание классов задается параметром `class_weight`, ему надо передать аргумент `'balanced'`. Обучим модели решающего дерева, случайного леса и логистической регресии."
   ]
  },
  {
   "cell_type": "markdown",
   "metadata": {},
   "source": [
    "#### Модель решающего дерева\n",
    "\n",
    "[Аналогично](#2.2.1) найдем оптимальные гиперпараметры модели решающего дерева с заданным параметром `class_weight = 'balanced'`."
   ]
  },
  {
   "cell_type": "code",
   "execution_count": 24,
   "metadata": {},
   "outputs": [],
   "source": [
    "best_parameters = 0\n",
    "best_f1_valid = 0\n",
    "best_f1_train = 0\n",
    "best_auc_roc = 0\n",
    "\n",
    "for parameters in product(range(4,14),range(50,220,20),range(10,110,10)):\n",
    "    \n",
    "    depth,samples_split,samples_leaf = parameters\n",
    "    \n",
    "    model = DecisionTreeClassifier(random_state=12345, \n",
    "                                   max_depth=depth,\n",
    "                                   min_samples_split=samples_split,\n",
    "                                   min_samples_leaf=samples_leaf,\n",
    "                                   class_weight = 'balanced')\n",
    "    model.fit(features_train,target_train)\n",
    "    \n",
    "    predictions_train = model.predict(features_train) \n",
    "    f1_train = f1_score(target_train, predictions_train)\n",
    "    \n",
    "    predictions_valid = model.predict(features_valid)\n",
    "    f1_valid = f1_score(target_valid,predictions_valid)\n",
    "    \n",
    "    probabilities_valid = model.predict_proba(features_valid)\n",
    "    auc_roc = roc_auc_score(target_valid,probabilities_valid[:, 1])\n",
    "    \n",
    "    if f1_valid > best_f1_valid:\n",
    "        best_f1_train = f1_train\n",
    "        best_f1_valid = f1_valid\n",
    "        best_auc_roc = auc_roc       \n",
    "        best_parameters = parameters"
   ]
  },
  {
   "cell_type": "markdown",
   "metadata": {},
   "source": [
    "Выведем на экран лучший результат и соответствующие значения гиперпараметров."
   ]
  },
  {
   "cell_type": "code",
   "execution_count": 25,
   "metadata": {},
   "outputs": [
    {
     "name": "stdout",
     "output_type": "stream",
     "text": [
      "F1-мера на обучающей выборке: 0.6283902782669953 \n",
      "F1-мера ответов на валидационной выборке: 0.5910064239828694 \n",
      "AUC-ROC на валидационной выборке: 0.8432999162320641 \n",
      "Максимальная глубина дерева: 8 \n",
      "Минимальное количество объектов в узле: 150 \n",
      "Минимальное количество объектов в листе: 30\n"
     ]
    }
   ],
   "source": [
    "print(\"F1-мера на обучающей выборке:\", best_f1_train,\n",
    "      \"\\nF1-мера ответов на валидационной выборке:\", best_f1_valid,\n",
    "      \"\\nAUC-ROC на валидационной выборке:\", best_auc_roc,\n",
    "      \"\\nМаксимальная глубина дерева:\", best_parameters[0],\n",
    "      \"\\nМинимальное количество объектов в узле:\", best_parameters[1],\n",
    "      \"\\nМинимальное количество объектов в листе:\", best_parameters[2])"
   ]
  },
  {
   "cell_type": "markdown",
   "metadata": {},
   "source": [
    "Разница между значениями F1-меры на обучающей и валидационной выборках небольшая, переобучения нет. F1-мера на валидационной выборке выше заданного порогового значения. Метрика AUC-ROC достаточно высокая. В целом эта модель удовлетворительно решает поставленную задачу. \n",
    "\n",
    "Запишем метрики для полученной модели в датафрейм `metrics`."
   ]
  },
  {
   "cell_type": "code",
   "execution_count": 26,
   "metadata": {},
   "outputs": [],
   "source": [
    "metrics_balanced = pd.DataFrame(columns=['f1_train','f1_valid','auc_roc'],index=[['class_weight'],['DecisionTreeClassifier']])\n",
    "metrics_balanced.loc['class_weight','DecisionTreeClassifier'] = [best_f1_train,best_f1_valid,best_auc_roc]"
   ]
  },
  {
   "cell_type": "markdown",
   "metadata": {},
   "source": [
    "#### Модель случайного леса\n",
    "\n",
    "[Аналогично](#2.2.2) обучим модель случайного леса. Найдем оптимальное сочетание гиперпараметров с заданным параметром `class_weight = 'balanced'`"
   ]
  },
  {
   "cell_type": "code",
   "execution_count": 28,
   "metadata": {},
   "outputs": [
    {
     "name": "stderr",
     "output_type": "stream",
     "text": [
      "5400it [30:43,  2.93it/s]\n"
     ]
    }
   ],
   "source": [
    "best_parameters = 0\n",
    "best_f1_valid = 0\n",
    "best_f1_train = 0\n",
    "best_auc_roc = 0\n",
    "\n",
    "for parameters in tqdm(product(range(20,140,20),\n",
    "                               range(4,14),\n",
    "                               range(50,220,20),\n",
    "                               range(10,110,10))):\n",
    "    \n",
    "    est,depth,samples_split,samples_leaf = parameters\n",
    "    \n",
    "    model = RandomForestClassifier(random_state=12345, \n",
    "                                   n_estimators=est, \n",
    "                                   max_depth=depth,\n",
    "                                   min_samples_split=samples_split,\n",
    "                                   min_samples_leaf=samples_leaf,\n",
    "                                   class_weight = 'balanced')\n",
    "    model.fit(features_train,target_train)\n",
    "    \n",
    "    predictions_train = model.predict(features_train) \n",
    "    f1_train = f1_score(target_train, predictions_train)\n",
    "    \n",
    "    predictions_valid = model.predict(features_valid)\n",
    "    f1_valid = f1_score(target_valid,predictions_valid)\n",
    "    \n",
    "    probabilities_valid = model.predict_proba(features_valid)\n",
    "    auc_roc = roc_auc_score(target_valid,probabilities_valid[:, 1])\n",
    "    \n",
    "    if f1_valid > best_f1_valid:\n",
    "        best_f1_train = f1_train\n",
    "        best_f1_valid = f1_valid\n",
    "        best_auc_roc = auc_roc       \n",
    "        best_parameters = parameters"
   ]
  },
  {
   "cell_type": "markdown",
   "metadata": {},
   "source": [
    "Выведем на экран лучший результат и соответствующие значения гиперпараметров."
   ]
  },
  {
   "cell_type": "code",
   "execution_count": 29,
   "metadata": {},
   "outputs": [
    {
     "name": "stdout",
     "output_type": "stream",
     "text": [
      "F1-мера на обучающей выборке: 0.6914629826425788 \n",
      "F1-мера на валидационной выборке: 0.6079295154185023 \n",
      "AUC-ROC на валидационной выборке: 0.855728407503191 \n",
      "Количество деревьев: 100 \n",
      "Максимальная глубина дерева: 13 \n",
      "Минимальное количество объектов в узле: 50 \n",
      "Минимальное количество объектов в листе: 10\n"
     ]
    }
   ],
   "source": [
    "print(\"F1-мера на обучающей выборке:\", best_f1_train,\n",
    "      \"\\nF1-мера на валидационной выборке:\", best_f1_valid,\n",
    "      \"\\nAUC-ROC на валидационной выборке:\", best_auc_roc,\n",
    "      \"\\nКоличество деревьев:\", best_parameters[0], \n",
    "      \"\\nМаксимальная глубина дерева:\", best_parameters[1],\n",
    "      \"\\nМинимальное количество объектов в узле:\", best_parameters[2],\n",
    "      \"\\nМинимальное количество объектов в листе:\", best_parameters[3])"
   ]
  },
  {
   "cell_type": "markdown",
   "metadata": {},
   "source": [
    "Наилучшая обученная модель дает значение F1-меры, равное 0,608, что больше заданного порогового значения. Разница между F1-мерой на валидационной и обучающей выборках здесь немного больше, чем у всех предыдущих моделей, значит, эта модель переобучается немного больше, но все равно незначительно. Метрика AUC-ROC достаточно большая.\n",
    "\n",
    "Запишем метрики для полученной модели в датафрейм `metrics_balanced`."
   ]
  },
  {
   "cell_type": "code",
   "execution_count": 40,
   "metadata": {},
   "outputs": [],
   "source": [
    "metrics_balanced = metrics_balanced.append(pd.Series(data={'f1_train':best_f1_train, \n",
    "                                                  'f1_valid':best_f1_valid, \n",
    "                                                  'auc_roc':best_auc_roc}, \n",
    "                                            name=('class_weight','RandomForestClassifier')),\n",
    "                                  ignore_index=False)"
   ]
  },
  {
   "cell_type": "markdown",
   "metadata": {},
   "source": [
    "#### Модель логистической регрессии"
   ]
  },
  {
   "cell_type": "markdown",
   "metadata": {},
   "source": [
    "Обучим модель логистической регресии с балансировкой классов."
   ]
  },
  {
   "cell_type": "code",
   "execution_count": 30,
   "metadata": {},
   "outputs": [
    {
     "name": "stdout",
     "output_type": "stream",
     "text": [
      "F1-мера на обучающей выборке: 0.4935972060535507 \n",
      "F1-мера на валидационной выборке: 0.4799286351471901 \n",
      "AUC-ROC на валидационной выборке: 0.7732877245799284\n"
     ]
    }
   ],
   "source": [
    "model = LogisticRegression(solver='liblinear',random_state=12345,class_weight='balanced')\n",
    "model.fit(features_train, target_train)\n",
    "\n",
    "predictions_train = model.predict(features_train) \n",
    "predictions_valid = model.predict(features_valid)\n",
    "probabilities_valid = model.predict_proba(features_valid)\n",
    "\n",
    "best_f1_train = f1_score(target_train, predictions_train)\n",
    "best_f1_valid = f1_score(target_valid,predictions_valid)\n",
    "best_auc_roc = roc_auc_score(target_valid,probabilities_valid[:, 1])\n",
    "\n",
    "print(\"F1-мера на обучающей выборке:\", best_f1_train,\n",
    "      \"\\nF1-мера на валидационной выборке:\", best_f1_valid,\n",
    "      \"\\nAUC-ROC на валидационной выборке:\", best_auc_roc,)"
   ]
  },
  {
   "cell_type": "markdown",
   "metadata": {},
   "source": [
    "С учетом дисбаланса F1-мера как на валидационной, так и на обучающей выборках заметно лучше, но все еще слишком низкая. Метрика AUC-ROC незначительно выросла по сравнению с [моделью без учета дисбаланса](#2.2.3).\n",
    "\n",
    "Запишем метрики для полученной модели в датафрейм `metrics_balanced`."
   ]
  },
  {
   "cell_type": "code",
   "execution_count": 31,
   "metadata": {},
   "outputs": [],
   "source": [
    "metrics_balanced = metrics_balanced.append(pd.Series(data={'f1_train':best_f1_train, \n",
    "                                                  'f1_valid':best_f1_valid, \n",
    "                                                  'auc_roc':best_auc_roc}, \n",
    "                                            name=('class_weight','LogisticRegression')),\n",
    "                                  ignore_index=False)"
   ]
  },
  {
   "cell_type": "markdown",
   "metadata": {},
   "source": [
    "### Upsampling\n"
   ]
  },
  {
   "cell_type": "markdown",
   "metadata": {},
   "source": [
    "Для устранения дисбаланса классов можно продублировать объекты редкого класса. Для этого напишем функцию `upsample()`, которая принимает на вход признаки, целевой признак и во сколько раз надо увеличить число объектов редкого класса.\n",
    "\n",
    "Признаки и целевой признак разделяются на положительные и отрицательные объекты. Затем функцией `concat()` отрицательные объекты объединяются с положительными, продублированными нужное количество раз, и перемешиваются функцией `shuffle()`. Функция возвращает полученные новые датафреймы из признаков и целевого признака."
   ]
  },
  {
   "cell_type": "code",
   "execution_count": 34,
   "metadata": {},
   "outputs": [],
   "source": [
    "def upsample(features, target, repeat):\n",
    "    \n",
    "    features_zeros = features[target == 0]\n",
    "    features_ones = features[target == 1]\n",
    "    target_zeros = target[target == 0]\n",
    "    target_ones = target[target == 1]\n",
    "\n",
    "    features_upsampled = pd.concat([features_zeros] + [features_ones] * repeat)\n",
    "    target_upsampled = pd.concat([target_zeros] + [target_ones] * repeat)\n",
    "    \n",
    "    features_upsampled, target_upsampled = shuffle(features_upsampled, \n",
    "                                                   target_upsampled, \n",
    "                                                   random_state=12345)\n",
    "    \n",
    "    return features_upsampled, target_upsampled"
   ]
  },
  {
   "cell_type": "markdown",
   "metadata": {},
   "source": [
    "Получим новые обучающие выборки с помощью описанной функции. Так как отрицательных объектов почти в 4 раза больше положительных, ограничимся кратностью дублирования положительных объектов, равной 4. Новые выборки запишем в переменные `features_upsampled` и `target_upsampled`."
   ]
  },
  {
   "cell_type": "code",
   "execution_count": 35,
   "metadata": {},
   "outputs": [],
   "source": [
    "features_upsampled, target_upsampled = upsample(features_train, target_train, 4)"
   ]
  },
  {
   "cell_type": "markdown",
   "metadata": {},
   "source": [
    "Найдем долю положительных объектов."
   ]
  },
  {
   "cell_type": "code",
   "execution_count": 36,
   "metadata": {},
   "outputs": [
    {
     "data": {
      "text/plain": [
       "0.5049187118152635"
      ]
     },
     "execution_count": 36,
     "metadata": {},
     "output_type": "execute_result"
    }
   ],
   "source": [
    "target_upsampled.mean()"
   ]
  },
  {
   "cell_type": "markdown",
   "metadata": {},
   "source": [
    "Она близка к половине."
   ]
  },
  {
   "cell_type": "markdown",
   "metadata": {},
   "source": [
    "#### Модель решающего дерева"
   ]
  },
  {
   "cell_type": "markdown",
   "metadata": {},
   "source": [
    "[Аналогично](#2.2.1) обучим на полученных выборках модель решающего дерева и найдем гипермараметры, с которыми модель нает наибольшую F1-меру."
   ]
  },
  {
   "cell_type": "code",
   "execution_count": 37,
   "metadata": {},
   "outputs": [],
   "source": [
    "best_parameters = 0\n",
    "best_f1_valid = 0\n",
    "best_f1_train = 0\n",
    "best_auc_roc = 0\n",
    "\n",
    "for parameters in product(range(4,14),range(50,220,20),range(10,110,10)):\n",
    "    \n",
    "    depth,samples_split,samples_leaf = parameters\n",
    "    \n",
    "    model = DecisionTreeClassifier(random_state=12345, \n",
    "                                   max_depth=depth,\n",
    "                                   min_samples_split=samples_split,\n",
    "                                   min_samples_leaf=samples_leaf)\n",
    "    model.fit(features_upsampled, target_upsampled)\n",
    "    \n",
    "    predictions_train = model.predict(features_upsampled) \n",
    "    f1_train = f1_score(target_upsampled, predictions_train)\n",
    "    \n",
    "    predictions_valid = model.predict(features_valid)\n",
    "    f1_valid = f1_score(target_valid,predictions_valid)\n",
    "    \n",
    "    probabilities_valid = model.predict_proba(features_valid)\n",
    "    auc_roc = roc_auc_score(target_valid,probabilities_valid[:, 1])\n",
    "    \n",
    "    if f1_valid > best_f1_valid:\n",
    "        best_f1_train = f1_train\n",
    "        best_f1_valid = f1_valid\n",
    "        best_auc_roc = auc_roc       \n",
    "        best_parameters = parameters"
   ]
  },
  {
   "cell_type": "markdown",
   "metadata": {},
   "source": [
    "Выведем на экран лучший результат и соответствующие значения гиперпараметров."
   ]
  },
  {
   "cell_type": "code",
   "execution_count": 38,
   "metadata": {},
   "outputs": [
    {
     "name": "stdout",
     "output_type": "stream",
     "text": [
      "F1-мера на обучающей выборке: 0.7756403209849402 \n",
      "F1-мера ответов на валидационной выборке: 0.5973741794310722 \n",
      "AUC-ROC на валидационной выборке: 0.8502874654874516 \n",
      "Максимальная глубина дерева: 8 \n",
      "Минимальное количество объектов в узле: 170 \n",
      "Минимальное количество объектов в листе: 70\n"
     ]
    }
   ],
   "source": [
    "print(\"F1-мера на обучающей выборке:\", best_f1_train,\n",
    "      \"\\nF1-мера ответов на валидационной выборке:\", best_f1_valid,\n",
    "      \"\\nAUC-ROC на валидационной выборке:\", best_auc_roc,\n",
    "      \"\\nМаксимальная глубина дерева:\", best_parameters[0],\n",
    "      \"\\nМинимальное количество объектов в узле:\", best_parameters[1],\n",
    "      \"\\nМинимальное количество объектов в листе:\", best_parameters[2])"
   ]
  },
  {
   "cell_type": "markdown",
   "metadata": {},
   "source": [
    "F1-мера на валидационной выборке выше порогового значения. На обучающей выборке F1-мера сильно превышает F1-меру на валидационной, что говорит о переобучении модели. Метрика AUC-ROC достаточно высокая.\n",
    "\n",
    "Запишем метрики для полученной модели в датафрейм `metrics_balanced`."
   ]
  },
  {
   "cell_type": "code",
   "execution_count": 41,
   "metadata": {},
   "outputs": [],
   "source": [
    "metrics_balanced = metrics_balanced.append(pd.Series(data={'f1_train':best_f1_train, \n",
    "                                                  'f1_valid':best_f1_valid, \n",
    "                                                  'auc_roc':best_auc_roc}, \n",
    "                                            name=('upsampling','DecisionTreeClassifier')),\n",
    "                                  ignore_index=False)"
   ]
  },
  {
   "cell_type": "markdown",
   "metadata": {},
   "source": [
    "#### Модель случайного леса"
   ]
  },
  {
   "cell_type": "markdown",
   "metadata": {},
   "source": [
    "[Аналогично](#2.2.1) обучим модель случайного леса на новых обучающих выборках и найдем оптимальные гиперпараметры."
   ]
  },
  {
   "cell_type": "code",
   "execution_count": 43,
   "metadata": {},
   "outputs": [
    {
     "name": "stderr",
     "output_type": "stream",
     "text": [
      "5400it [42:16,  2.13it/s]\n"
     ]
    }
   ],
   "source": [
    "best_parameters = 0\n",
    "best_f1_valid = 0\n",
    "best_f1_train = 0\n",
    "best_auc_roc = 0\n",
    "\n",
    "for parameters in tqdm(product(range(20,140,20),\n",
    "                               range(4,14),\n",
    "                               range(50,220,20),\n",
    "                               range(10,110,10))):\n",
    "    \n",
    "    est,depth,samples_split,samples_leaf = parameters\n",
    "    \n",
    "    model = RandomForestClassifier(random_state=12345, \n",
    "                                   n_estimators=est, \n",
    "                                   max_depth=depth,\n",
    "                                   min_samples_split=samples_split,\n",
    "                                   min_samples_leaf=samples_leaf)\n",
    "    model.fit(features_upsampled, target_upsampled)\n",
    "    \n",
    "    predictions_train = model.predict(features_upsampled) \n",
    "    f1_train = f1_score(target_upsampled, predictions_train)\n",
    "    \n",
    "    predictions_valid = model.predict(features_valid)\n",
    "    f1_valid = f1_score(target_valid,predictions_valid)\n",
    "    \n",
    "    probabilities_valid = model.predict_proba(features_valid)\n",
    "    auc_roc = roc_auc_score(target_valid,probabilities_valid[:, 1])\n",
    "    \n",
    "    if f1_valid > best_f1_valid:\n",
    "        best_f1_train = f1_train\n",
    "        best_f1_valid = f1_valid\n",
    "        best_auc_roc = auc_roc       \n",
    "        best_parameters = parameters"
   ]
  },
  {
   "cell_type": "markdown",
   "metadata": {},
   "source": [
    "Выведем на экран лучший результат и соответствующие значения гиперпараметров."
   ]
  },
  {
   "cell_type": "code",
   "execution_count": 44,
   "metadata": {
    "scrolled": true
   },
   "outputs": [
    {
     "name": "stdout",
     "output_type": "stream",
     "text": [
      "F1-мера на обучающей выборке: 0.8609492089925063 \n",
      "F1-мера на валидационной выборке: 0.5995717344753748 \n",
      "AUC-ROC на валидационной выборке: 0.8559318666261868 \n",
      "Количество деревьев: 120 \n",
      "Максимальная глубина дерева: 13 \n",
      "Минимальное количество объектов в узле: 50 \n",
      "Минимальное количество объектов в листе: 10\n"
     ]
    }
   ],
   "source": [
    "print(\"F1-мера на обучающей выборке:\", best_f1_train,\n",
    "      \"\\nF1-мера на валидационной выборке:\", best_f1_valid,\n",
    "      \"\\nAUC-ROC на валидационной выборке:\", best_auc_roc,\n",
    "      \"\\nКоличество деревьев:\", best_parameters[0], \n",
    "      \"\\nМаксимальная глубина дерева:\", best_parameters[1],\n",
    "      \"\\nМинимальное количество объектов в узле:\", best_parameters[2],\n",
    "      \"\\nМинимальное количество объектов в листе:\", best_parameters[3])"
   ]
  },
  {
   "cell_type": "markdown",
   "metadata": {},
   "source": [
    "F1-мера на валидационной выборке выше заданного порога, а на обучающей значительно превышает F1-меру на валидационной, значит, модель переобучается. Метрика AUC-ROC практически не изменилась, она остается достаточно высокой.\n",
    "\n",
    "Запишем метрики для полученной модели в датафрейм `metrics_balanced`."
   ]
  },
  {
   "cell_type": "code",
   "execution_count": 45,
   "metadata": {},
   "outputs": [],
   "source": [
    "metrics_balanced = metrics_balanced.append(pd.Series(data={'f1_train':best_f1_train, \n",
    "                                                  'f1_valid':best_f1_valid, \n",
    "                                                  'auc_roc':best_auc_roc}, \n",
    "                                            name=('upsampling','RandomForestClassifier')),\n",
    "                                  ignore_index=False)"
   ]
  },
  {
   "cell_type": "markdown",
   "metadata": {},
   "source": [
    "#### Модель логистической регрессии"
   ]
  },
  {
   "cell_type": "markdown",
   "metadata": {},
   "source": [
    "Обучим модель логистической регресии на новых выборках.<a id='3.2.3'></a>"
   ]
  },
  {
   "cell_type": "code",
   "execution_count": 46,
   "metadata": {},
   "outputs": [
    {
     "name": "stdout",
     "output_type": "stream",
     "text": [
      "F1-мера на обучающей выборке: 0.7066090179122916 \n",
      "F1-мера на валидационной выборке: 0.4776119402985074 \n",
      "AUC-ROC на валидационной выборке: 0.7733163360190998\n"
     ]
    }
   ],
   "source": [
    "model = LogisticRegression(solver='liblinear',random_state=12345)\n",
    "model.fit(features_upsampled, target_upsampled)\n",
    "\n",
    "predictions_train = model.predict(features_upsampled) \n",
    "predictions_valid = model.predict(features_valid)\n",
    "probabilities_valid = model.predict_proba(features_valid)\n",
    "\n",
    "best_f1_train = f1_score(target_upsampled, predictions_train)\n",
    "best_f1_valid = f1_score(target_valid,predictions_valid)\n",
    "best_auc_roc = roc_auc_score(target_valid,probabilities_valid[:, 1])\n",
    "\n",
    "print(\"F1-мера на обучающей выборке:\", best_f1_train,\n",
    "      \"\\nF1-мера на валидационной выборке:\", best_f1_valid,\n",
    "      \"\\nAUC-ROC на валидационной выборке:\", best_auc_roc,)"
   ]
  },
  {
   "cell_type": "markdown",
   "metadata": {},
   "source": [
    "F1-мера на валидационной выборке значительно меньше заданного порогового значения, метрика AUC-ROC практически не изменилась. F1-мера на обучающей выборке заметно больше, чем на валидационной, значит, есть переобучение модели.\n",
    "\n",
    "Запишем метрики для полученной модели в датафрейм `metrics_balanced`."
   ]
  },
  {
   "cell_type": "code",
   "execution_count": 47,
   "metadata": {},
   "outputs": [],
   "source": [
    "metrics_balanced = metrics_balanced.append(pd.Series(data={'f1_train':best_f1_train, \n",
    "                                                  'f1_valid':best_f1_valid, \n",
    "                                                  'auc_roc':best_auc_roc}, \n",
    "                                            name=('upsampling','LogisticRegression')),\n",
    "                                  ignore_index=False)"
   ]
  },
  {
   "cell_type": "markdown",
   "metadata": {},
   "source": [
    "### Downsampling"
   ]
  },
  {
   "cell_type": "markdown",
   "metadata": {},
   "source": [
    "Для устранения дисбаланса классов можно удалить часть объектов более распространенного класса. Для этого напишем функцию `downsample()`, которая принимает на вход признаки, целевой признак и долю объектов определенного класса, которую нужно оставить.\n",
    "\n",
    "Признаки и целевой признак разделяются на положительные и отрицательные объекты. Затем функцией `concat()` положительные объекты объединяются с долей отрицательных, выделенных случайным образом методом `sample()` в соответствии с заданной долей. Новые датафреймы с признаками и целевым признаком перемешиваются функцией `shuffle()`. Функция возвращает полученные новые датафреймы из признаков и целевого признака."
   ]
  },
  {
   "cell_type": "code",
   "execution_count": 48,
   "metadata": {},
   "outputs": [],
   "source": [
    "def downsample(features, target, fraction):\n",
    "    \n",
    "    features_zeros = features[target == 0]\n",
    "    features_ones = features[target == 1]\n",
    "    target_zeros = target[target == 0]\n",
    "    target_ones = target[target == 1]\n",
    "\n",
    "    features_downsampled = pd.concat(\n",
    "        [features_zeros.sample(frac=fraction, random_state=12345)] + [features_ones])\n",
    "    target_downsampled = pd.concat(\n",
    "        [target_zeros.sample(frac=fraction, random_state=12345)] + [target_ones])\n",
    "    \n",
    "    features_downsampled, target_downsampled = shuffle(\n",
    "        features_downsampled, target_downsampled, random_state=12345)\n",
    "    \n",
    "    return features_downsampled, target_downsampled"
   ]
  },
  {
   "cell_type": "markdown",
   "metadata": {},
   "source": [
    "Получим новые обучающие выборки с помощью описанной функции. Так как отрицательных объектов почти в 4 раза больше положительных, ограничимся долей отрицательных объектов, равной 0,25. Новые выборки запишем в переменные `features_downsampled` и `target_downsampled`."
   ]
  },
  {
   "cell_type": "code",
   "execution_count": 49,
   "metadata": {},
   "outputs": [],
   "source": [
    "features_downsampled, target_downsampled = downsample(features_train, target_train, 0.25)"
   ]
  },
  {
   "cell_type": "markdown",
   "metadata": {},
   "source": [
    "Найдем долю положительных объектов."
   ]
  },
  {
   "cell_type": "code",
   "execution_count": 50,
   "metadata": {},
   "outputs": [
    {
     "data": {
      "text/plain": [
       "0.5049710024855012"
      ]
     },
     "execution_count": 50,
     "metadata": {},
     "output_type": "execute_result"
    }
   ],
   "source": [
    "target_downsampled.mean()"
   ]
  },
  {
   "cell_type": "markdown",
   "metadata": {},
   "source": [
    "Количество объектов двух классов почти одинаковое."
   ]
  },
  {
   "cell_type": "markdown",
   "metadata": {},
   "source": [
    "#### Модель решающего дерева"
   ]
  },
  {
   "cell_type": "markdown",
   "metadata": {},
   "source": [
    "Обучим на полученных выборках модель решающего дерева с параметром `min_samples_split`, изменяющимся от 80 до 260 "
   ]
  },
  {
   "cell_type": "code",
   "execution_count": 51,
   "metadata": {},
   "outputs": [],
   "source": [
    "best_parameters = 0\n",
    "best_f1_valid = 0\n",
    "best_f1_train = 0\n",
    "best_auc_roc = 0\n",
    "\n",
    "for parameters in product(range(4,14),range(50,220,20),range(10,110,10)):\n",
    "    \n",
    "    depth,samples_split,samples_leaf = parameters\n",
    "    \n",
    "    model = DecisionTreeClassifier(random_state=12345, \n",
    "                                   max_depth=depth,\n",
    "                                   min_samples_split=samples_split,\n",
    "                                   min_samples_leaf=samples_leaf)\n",
    "    model.fit(features_downsampled, target_downsampled)\n",
    "    \n",
    "    predictions_train = model.predict(features_downsampled) \n",
    "    f1_train = f1_score(target_downsampled, predictions_train)\n",
    "    \n",
    "    predictions_valid = model.predict(features_valid)\n",
    "    f1_valid = f1_score(target_valid,predictions_valid)\n",
    "    \n",
    "    probabilities_valid = model.predict_proba(features_valid)\n",
    "    auc_roc = roc_auc_score(target_valid,probabilities_valid[:, 1])\n",
    "    \n",
    "    if f1_valid > best_f1_valid:\n",
    "        best_f1_train = f1_train\n",
    "        best_f1_valid = f1_valid\n",
    "        best_auc_roc = auc_roc       \n",
    "        best_parameters = parameters"
   ]
  },
  {
   "cell_type": "markdown",
   "metadata": {},
   "source": [
    "Выведем на экран лучший результат и соответствующие гиперпараметры."
   ]
  },
  {
   "cell_type": "code",
   "execution_count": 52,
   "metadata": {
    "scrolled": true
   },
   "outputs": [
    {
     "name": "stdout",
     "output_type": "stream",
     "text": [
      "F1-мера на обучающей выборке: 0.7888611803823775 \n",
      "F1-мера ответов на валидационной выборке: 0.553072625698324 \n",
      "AUC-ROC на валидационной выборке: 0.8233442321722919 \n",
      "Максимальная глубина дерева: 8 \n",
      "Минимальное количество объектов в узле: 50 \n",
      "Минимальное количество объектов в листе: 20\n"
     ]
    }
   ],
   "source": [
    "print(\"F1-мера на обучающей выборке:\", best_f1_train,\n",
    "      \"\\nF1-мера ответов на валидационной выборке:\", best_f1_valid,\n",
    "      \"\\nAUC-ROC на валидационной выборке:\", best_auc_roc,\n",
    "      \"\\nМаксимальная глубина дерева:\", best_parameters[0],\n",
    "      \"\\nМинимальное количество объектов в узле:\", best_parameters[1],\n",
    "      \"\\nМинимальное количество объектов в листе:\", best_parameters[2])"
   ]
  },
  {
   "cell_type": "markdown",
   "metadata": {},
   "source": [
    "F1-мера на валидационной выборке меньше заданного порога, есть переобучение, метрика AUC-ROC достаточно высокая.\n",
    "\n",
    "Запишем метрики для полученной модели в датафрейм `metrics_balanced`."
   ]
  },
  {
   "cell_type": "code",
   "execution_count": 53,
   "metadata": {},
   "outputs": [],
   "source": [
    "metrics_balanced = metrics_balanced.append(pd.Series(data={'f1_train':best_f1_train, \n",
    "                                                  'f1_valid':best_f1_valid, \n",
    "                                                  'auc_roc':best_auc_roc}, \n",
    "                                            name=('downsampling','DecisionTreeClassifier')),\n",
    "                                  ignore_index=False)"
   ]
  },
  {
   "cell_type": "markdown",
   "metadata": {},
   "source": [
    "#### Модель случайного леса"
   ]
  },
  {
   "cell_type": "markdown",
   "metadata": {},
   "source": [
    "Обучим модель случайного леса на новых обучающих выборках. Количество деревьев изменяется от 20 до 80, а минимальное количество объектов в узле изменяется от 80 до 180."
   ]
  },
  {
   "cell_type": "code",
   "execution_count": 54,
   "metadata": {},
   "outputs": [
    {
     "name": "stderr",
     "output_type": "stream",
     "text": [
      "5400it [17:13,  5.22it/s]\n"
     ]
    }
   ],
   "source": [
    "best_parameters = 0\n",
    "best_f1_valid = 0\n",
    "best_f1_train = 0\n",
    "best_auc_roc = 0\n",
    "\n",
    "for parameters in tqdm(product(range(20,140,20),\n",
    "                               range(4,14),\n",
    "                               range(50,220,20),\n",
    "                               range(10,110,10))):\n",
    "    \n",
    "    est,depth,samples_split,samples_leaf = parameters\n",
    "    \n",
    "    model = RandomForestClassifier(random_state=12345, \n",
    "                                   n_estimators=est, \n",
    "                                   max_depth=depth,\n",
    "                                   min_samples_split=samples_split,\n",
    "                                   min_samples_leaf=samples_leaf)\n",
    "    model.fit(features_downsampled, target_downsampled)\n",
    "    \n",
    "    predictions_train = model.predict(features_downsampled) \n",
    "    f1_train = f1_score(target_downsampled, predictions_train)\n",
    "    \n",
    "    predictions_valid = model.predict(features_valid)\n",
    "    f1_valid = f1_score(target_valid,predictions_valid)\n",
    "    \n",
    "    probabilities_valid = model.predict_proba(features_valid)\n",
    "    auc_roc = roc_auc_score(target_valid,probabilities_valid[:, 1])\n",
    "    \n",
    "    if f1_valid > best_f1_valid:\n",
    "        best_f1_train = f1_train\n",
    "        best_f1_valid = f1_valid\n",
    "        best_auc_roc = auc_roc       \n",
    "        best_parameters = parameters"
   ]
  },
  {
   "cell_type": "markdown",
   "metadata": {},
   "source": [
    "Выведем на экран лучший результат и соответствующие значения количества деревьев и минимального количества объектов в узле."
   ]
  },
  {
   "cell_type": "code",
   "execution_count": 55,
   "metadata": {},
   "outputs": [
    {
     "name": "stdout",
     "output_type": "stream",
     "text": [
      "F1-мера на обучающей выборке: 0.8093645484949833 \n",
      "F1-мера на валидационной выборке: 0.5634075508228461 \n",
      "AUC-ROC на валидационной выборке: 0.8456476437685081 \n",
      "Количество деревьев: 20 \n",
      "Максимальная глубина дерева: 10 \n",
      "Минимальное количество объектов в узле: 50 \n",
      "Минимальное количество объектов в листе: 10\n"
     ]
    }
   ],
   "source": [
    "print(\"F1-мера на обучающей выборке:\", best_f1_train,\n",
    "      \"\\nF1-мера на валидационной выборке:\", best_f1_valid,\n",
    "      \"\\nAUC-ROC на валидационной выборке:\", best_auc_roc,\n",
    "      \"\\nКоличество деревьев:\", best_parameters[0], \n",
    "      \"\\nМаксимальная глубина дерева:\", best_parameters[1],\n",
    "      \"\\nМинимальное количество объектов в узле:\", best_parameters[2],\n",
    "      \"\\nМинимальное количество объектов в листе:\", best_parameters[3])"
   ]
  },
  {
   "cell_type": "markdown",
   "metadata": {},
   "source": [
    "F1-мера на валидационной выборке меньше заданного порога. F1-мера на обучающей выборке слишком большая, значит, есть переобучние. Метрика AUC-ROC практически не изменилась, она остается достаточно высокой.\n",
    "\n",
    "Запишем метрики для полученной модели в датафрейм `metrics_balanced`."
   ]
  },
  {
   "cell_type": "code",
   "execution_count": 56,
   "metadata": {},
   "outputs": [],
   "source": [
    "metrics_balanced = metrics_balanced.append(pd.Series(data={'f1_train':best_f1_train, \n",
    "                                                  'f1_valid':best_f1_valid, \n",
    "                                                  'auc_roc':best_auc_roc}, \n",
    "                                            name=('downsampling','RandomForestClassifier')),\n",
    "                                  ignore_index=False)"
   ]
  },
  {
   "cell_type": "markdown",
   "metadata": {},
   "source": [
    "#### Модель логистической регрессии"
   ]
  },
  {
   "cell_type": "markdown",
   "metadata": {},
   "source": [
    "Обучим модель логистической регресии на новых выборках."
   ]
  },
  {
   "cell_type": "code",
   "execution_count": 57,
   "metadata": {},
   "outputs": [
    {
     "name": "stdout",
     "output_type": "stream",
     "text": [
      "F1-мера на обучающей выборке: 0.7116968698517296 \n",
      "F1-мера на валидационной выборке: 0.4744268077601411 \n",
      "AUC-ROC на валидационной выборке: 0.7741969325358159\n"
     ]
    }
   ],
   "source": [
    "model = LogisticRegression(solver='liblinear',random_state=12345)\n",
    "model.fit(features_downsampled, target_downsampled)\n",
    "\n",
    "predictions_train = model.predict(features_downsampled) \n",
    "predictions_valid = model.predict(features_valid)\n",
    "probabilities_valid = model.predict_proba(features_valid)\n",
    "\n",
    "best_f1_train = f1_score(target_downsampled, predictions_train)\n",
    "best_f1_valid = f1_score(target_valid,predictions_valid)\n",
    "best_auc_roc = roc_auc_score(target_valid,probabilities_valid[:, 1])\n",
    "\n",
    "print(\"F1-мера на обучающей выборке:\", best_f1_train,\n",
    "      \"\\nF1-мера на валидационной выборке:\", best_f1_valid,\n",
    "      \"\\nAUC-ROC на валидационной выборке:\", best_auc_roc,)"
   ]
  },
  {
   "cell_type": "markdown",
   "metadata": {},
   "source": [
    "F1-мера на валидационной выборке немного уменьшилась, а на обучающей немного увеличилась по сравнению с использованием техники [upsampling](#3.2.3). Модель стала предсказывать немного хуже. Метрика AUC-ROC немного увеличилась. Есть переобучение модели.\n",
    "\n",
    "Запишем метрики для полученной модели в датафрейм `metrics_balanced`."
   ]
  },
  {
   "cell_type": "code",
   "execution_count": 58,
   "metadata": {},
   "outputs": [],
   "source": [
    "metrics_balanced = metrics_balanced.append(pd.Series(data={'f1_train':best_f1_train, \n",
    "                                                  'f1_valid':best_f1_valid, \n",
    "                                                  'auc_roc':best_auc_roc}, \n",
    "                                            name=('downsampling','LogisticRegression')),\n",
    "                                  ignore_index=False)"
   ]
  },
  {
   "cell_type": "markdown",
   "metadata": {},
   "source": [
    "### Выводы"
   ]
  },
  {
   "cell_type": "markdown",
   "metadata": {},
   "source": [
    "Выведем на экран метрики всех полученных без учета и с учетом дисбаланса моделей."
   ]
  },
  {
   "cell_type": "code",
   "execution_count": 64,
   "metadata": {},
   "outputs": [
    {
     "data": {
      "text/html": [
       "<div>\n",
       "<style scoped>\n",
       "    .dataframe tbody tr th:only-of-type {\n",
       "        vertical-align: middle;\n",
       "    }\n",
       "\n",
       "    .dataframe tbody tr th {\n",
       "        vertical-align: top;\n",
       "    }\n",
       "\n",
       "    .dataframe thead th {\n",
       "        text-align: right;\n",
       "    }\n",
       "</style>\n",
       "<table border=\"1\" class=\"dataframe\">\n",
       "  <thead>\n",
       "    <tr style=\"text-align: right;\">\n",
       "      <th></th>\n",
       "      <th>f1_train</th>\n",
       "      <th>f1_valid</th>\n",
       "      <th>auc_roc</th>\n",
       "    </tr>\n",
       "  </thead>\n",
       "  <tbody>\n",
       "    <tr>\n",
       "      <th>DecisionTreeClassifier</th>\n",
       "      <td>0.614002</td>\n",
       "      <td>0.582242</td>\n",
       "      <td>0.841405</td>\n",
       "    </tr>\n",
       "    <tr>\n",
       "      <th>RandomForestClassifier</th>\n",
       "      <td>0.586243</td>\n",
       "      <td>0.560386</td>\n",
       "      <td>0.846454</td>\n",
       "    </tr>\n",
       "    <tr>\n",
       "      <th>LogisticRegression</th>\n",
       "      <td>0.332139</td>\n",
       "      <td>0.301318</td>\n",
       "      <td>0.770026</td>\n",
       "    </tr>\n",
       "  </tbody>\n",
       "</table>\n",
       "</div>"
      ],
      "text/plain": [
       "                        f1_train  f1_valid   auc_roc\n",
       "DecisionTreeClassifier  0.614002  0.582242  0.841405\n",
       "RandomForestClassifier  0.586243  0.560386  0.846454\n",
       "LogisticRegression      0.332139  0.301318  0.770026"
      ]
     },
     "execution_count": 64,
     "metadata": {},
     "output_type": "execute_result"
    }
   ],
   "source": [
    "metrics"
   ]
  },
  {
   "cell_type": "code",
   "execution_count": 77,
   "metadata": {},
   "outputs": [
    {
     "data": {
      "text/html": [
       "<div>\n",
       "<style scoped>\n",
       "    .dataframe tbody tr th:only-of-type {\n",
       "        vertical-align: middle;\n",
       "    }\n",
       "\n",
       "    .dataframe tbody tr th {\n",
       "        vertical-align: top;\n",
       "    }\n",
       "\n",
       "    .dataframe thead th {\n",
       "        text-align: right;\n",
       "    }\n",
       "</style>\n",
       "<table border=\"1\" class=\"dataframe\">\n",
       "  <thead>\n",
       "    <tr style=\"text-align: right;\">\n",
       "      <th></th>\n",
       "      <th></th>\n",
       "      <th>f1_train</th>\n",
       "      <th>f1_valid</th>\n",
       "      <th>auc_roc</th>\n",
       "    </tr>\n",
       "  </thead>\n",
       "  <tbody>\n",
       "    <tr>\n",
       "      <th rowspan=\"3\" valign=\"top\">class_weight</th>\n",
       "      <th>DecisionTreeClassifier</th>\n",
       "      <td>0.62839</td>\n",
       "      <td>0.591006</td>\n",
       "      <td>0.8433</td>\n",
       "    </tr>\n",
       "    <tr>\n",
       "      <th>RandomForestClassifier</th>\n",
       "      <td>0.691463</td>\n",
       "      <td>0.60793</td>\n",
       "      <td>0.855728</td>\n",
       "    </tr>\n",
       "    <tr>\n",
       "      <th>LogisticRegression</th>\n",
       "      <td>0.493597</td>\n",
       "      <td>0.479929</td>\n",
       "      <td>0.773288</td>\n",
       "    </tr>\n",
       "    <tr>\n",
       "      <th rowspan=\"3\" valign=\"top\">upsampling</th>\n",
       "      <th>DecisionTreeClassifier</th>\n",
       "      <td>0.77564</td>\n",
       "      <td>0.597374</td>\n",
       "      <td>0.850287</td>\n",
       "    </tr>\n",
       "    <tr>\n",
       "      <th>RandomForestClassifier</th>\n",
       "      <td>0.860949</td>\n",
       "      <td>0.599572</td>\n",
       "      <td>0.855932</td>\n",
       "    </tr>\n",
       "    <tr>\n",
       "      <th>LogisticRegression</th>\n",
       "      <td>0.706609</td>\n",
       "      <td>0.477612</td>\n",
       "      <td>0.773316</td>\n",
       "    </tr>\n",
       "    <tr>\n",
       "      <th rowspan=\"3\" valign=\"top\">downsampling</th>\n",
       "      <th>DecisionTreeClassifier</th>\n",
       "      <td>0.788861</td>\n",
       "      <td>0.553073</td>\n",
       "      <td>0.823344</td>\n",
       "    </tr>\n",
       "    <tr>\n",
       "      <th>RandomForestClassifier</th>\n",
       "      <td>0.809365</td>\n",
       "      <td>0.563408</td>\n",
       "      <td>0.845647</td>\n",
       "    </tr>\n",
       "    <tr>\n",
       "      <th>LogisticRegression</th>\n",
       "      <td>0.711697</td>\n",
       "      <td>0.474427</td>\n",
       "      <td>0.774197</td>\n",
       "    </tr>\n",
       "  </tbody>\n",
       "</table>\n",
       "</div>"
      ],
      "text/plain": [
       "                                     f1_train  f1_valid   auc_roc\n",
       "class_weight DecisionTreeClassifier   0.62839  0.591006    0.8433\n",
       "             RandomForestClassifier  0.691463   0.60793  0.855728\n",
       "             LogisticRegression      0.493597  0.479929  0.773288\n",
       "upsampling   DecisionTreeClassifier   0.77564  0.597374  0.850287\n",
       "             RandomForestClassifier  0.860949  0.599572  0.855932\n",
       "             LogisticRegression      0.706609  0.477612  0.773316\n",
       "downsampling DecisionTreeClassifier  0.788861  0.553073  0.823344\n",
       "             RandomForestClassifier  0.809365  0.563408  0.845647\n",
       "             LogisticRegression      0.711697  0.474427  0.774197"
      ]
     },
     "execution_count": 77,
     "metadata": {},
     "output_type": "execute_result"
    }
   ],
   "source": [
    "metrics_balanced"
   ]
  },
  {
   "cell_type": "markdown",
   "metadata": {},
   "source": [
    "Устранение дисбаланса методом взвешивания классов привело к увеличению F1-меры на валидационной и обучающей выборках для всех моделей, метрика AUC-ROC почти не изменилась. F1-мера на обучающей выборке не сильно превышает F1-меру на валидационной, переобучения у моделей с взвешиванием классов нет. Без учета дисбаланса наибольшее значение F1-меры на валидационной выборке было у модели решающего дерева. С учетом дисбаланса наибольшее значение F1-меры на валидационной выборке соответствует моделям случайного леса.\n",
    "\n",
    "Использование метода upsampling также приводит к росту F1-меры на валидационной выборке, они почти такие же, как у моделей с взвешиванием классов. Однако для этих моделей F1-мера на обучающей выборке значительно больше, чем на валидационной, что говорит о переобучении моделей. Особенно это заметно для модели случайного леса. Метрика AUC-ROC почти не изменилась.\n",
    "\n",
    "С методом downsampling модели тоже заметно переобучаются, а значения F1-меры на валидационной выборке самые низкие среди моделей с учетом дисбаланса. Метрика AUC-ROC изменяется слабо.\n",
    "\n",
    "В целом наилучшим образом на моделях сказалось взвешивание классов.\n",
    "\n",
    "В качестве наилучшей модели можно выбрать модель случайного леса с учетом дисбаланса классов методом взвешивания классов, так как она имеет наибольшее значение F1-меры на валидационной выборке, не переобучается и имеет достаточно большое значение метрики AUC-ROC. Модель имеет следующие гиперпараметры: \n",
    "- количество деревьев - 100\n",
    "- максимальная глубина дерева - 13\n",
    "- минимальное количество объектов в узле - 50\n",
    "- минимальное количество объектов в листе - 10"
   ]
  },
  {
   "cell_type": "markdown",
   "metadata": {},
   "source": [
    "## Тестирование модели"
   ]
  },
  {
   "cell_type": "markdown",
   "metadata": {},
   "source": [
    "Обучим выбранную модель с учетом дисбаланса классов методом взвешивания классов и заданными гиперпараметрами:\n",
    "\n",
    "- количество деревьев - 100\n",
    "- максимальная глубина дерева - 13\n",
    "- минимальное количество объектов в узле - 50\n",
    "- минимальное количество объектов в листе - 10\n",
    "\n",
    "Для этого используем выборку, включающую обучающую и валидационную выборки. "
   ]
  },
  {
   "cell_type": "code",
   "execution_count": 78,
   "metadata": {},
   "outputs": [
    {
     "name": "stdout",
     "output_type": "stream",
     "text": [
      "F1-мера на обучающей выборке: 0.6859592711682744 \n",
      "F1-мера на тестовой выборке: 0.6402439024390244 \n",
      "AUC-ROC на тестовой выборке: 0.8700911607021891\n"
     ]
    }
   ],
   "source": [
    "model = RandomForestClassifier(random_state=12345, \n",
    "                               n_estimators=100, \n",
    "                               max_depth = 13,\n",
    "                               min_samples_split=50,\n",
    "                               min_samples_leaf = 10,\n",
    "                               class_weight='balanced')\n",
    "model.fit(features_train_valid,target_train_valid)\n",
    "\n",
    "predictions_train_valid = model.predict(features_train_valid) \n",
    "f1_train_valid = f1_score(target_train_valid, predictions_train_valid)\n",
    "\n",
    "predictions_test = model.predict(features_test) \n",
    "f1_test = f1_score(target_test, predictions_test)\n",
    "\n",
    "probabilities_test = model.predict_proba(features_test)\n",
    "auc_roc = roc_auc_score(target_test,probabilities_test[:, 1])\n",
    "\n",
    "print(\"F1-мера на обучающей выборке:\", f1_train_valid,\n",
    "      \"\\nF1-мера на тестовой выборке:\", f1_test,\n",
    "      \"\\nAUC-ROC на тестовой выборке:\", auc_roc,)"
   ]
  },
  {
   "cell_type": "markdown",
   "metadata": {},
   "source": [
    "F1-мера на тестовой выборке больше заданного порогового значения, равного 0,59. Переобучения нет. AUC-ROC на тестовой выборке достаточно высокая. Найденная модель хорошо решает поставленную задачу."
   ]
  }
 ],
 "metadata": {
  "ExecuteTimeLog": [
   {
    "duration": 1224,
    "start_time": "2022-09-26T13:33:06.624Z"
   },
   {
    "duration": 92,
    "start_time": "2022-09-26T13:33:07.851Z"
   },
   {
    "duration": 20,
    "start_time": "2022-09-26T13:33:33.203Z"
   },
   {
    "duration": 29,
    "start_time": "2022-09-26T13:33:58.880Z"
   },
   {
    "duration": 21,
    "start_time": "2022-09-26T13:34:08.743Z"
   },
   {
    "duration": 27,
    "start_time": "2022-09-26T13:42:05.743Z"
   },
   {
    "duration": 13,
    "start_time": "2022-09-26T13:48:05.980Z"
   },
   {
    "duration": 4,
    "start_time": "2022-09-26T13:49:52.150Z"
   },
   {
    "duration": 5,
    "start_time": "2022-09-26T13:50:10.859Z"
   },
   {
    "duration": 4,
    "start_time": "2022-09-26T13:54:27.643Z"
   },
   {
    "duration": 15,
    "start_time": "2022-09-26T13:56:15.840Z"
   },
   {
    "duration": 22,
    "start_time": "2022-09-26T13:56:58.626Z"
   },
   {
    "duration": 16,
    "start_time": "2022-09-26T14:00:24.303Z"
   },
   {
    "duration": 9,
    "start_time": "2022-09-26T14:01:36.147Z"
   },
   {
    "duration": 7,
    "start_time": "2022-09-26T14:01:52.523Z"
   },
   {
    "duration": 7,
    "start_time": "2022-09-26T14:04:47.812Z"
   },
   {
    "duration": 7,
    "start_time": "2022-09-26T14:04:52.535Z"
   },
   {
    "duration": 6,
    "start_time": "2022-09-26T14:05:40.260Z"
   },
   {
    "duration": 10,
    "start_time": "2022-09-26T14:07:23.757Z"
   },
   {
    "duration": 9,
    "start_time": "2022-09-26T14:08:09.548Z"
   },
   {
    "duration": 6,
    "start_time": "2022-09-26T14:09:10.845Z"
   },
   {
    "duration": 7,
    "start_time": "2022-09-26T14:14:35.550Z"
   },
   {
    "duration": 6,
    "start_time": "2022-09-26T14:14:54.225Z"
   },
   {
    "duration": 4,
    "start_time": "2022-09-26T14:32:25.709Z"
   },
   {
    "duration": 21,
    "start_time": "2022-09-26T14:33:14.117Z"
   },
   {
    "duration": 1148,
    "start_time": "2022-09-27T19:46:57.814Z"
   },
   {
    "duration": 79,
    "start_time": "2022-09-27T19:46:58.964Z"
   },
   {
    "duration": 11,
    "start_time": "2022-09-27T19:46:59.045Z"
   },
   {
    "duration": 17,
    "start_time": "2022-09-27T19:46:59.058Z"
   },
   {
    "duration": 2,
    "start_time": "2022-09-27T19:46:59.077Z"
   },
   {
    "duration": 7,
    "start_time": "2022-09-27T19:46:59.081Z"
   },
   {
    "duration": 8,
    "start_time": "2022-09-27T19:46:59.089Z"
   },
   {
    "duration": 7,
    "start_time": "2022-09-27T19:46:59.098Z"
   },
   {
    "duration": 13,
    "start_time": "2022-09-27T19:46:59.108Z"
   },
   {
    "duration": 4,
    "start_time": "2022-09-27T19:46:59.123Z"
   },
   {
    "duration": 4,
    "start_time": "2022-09-27T19:46:59.128Z"
   },
   {
    "duration": 14,
    "start_time": "2022-09-27T19:46:59.134Z"
   },
   {
    "duration": 4,
    "start_time": "2022-09-27T19:46:59.149Z"
   },
   {
    "duration": 15,
    "start_time": "2022-09-27T19:46:59.155Z"
   },
   {
    "duration": 7,
    "start_time": "2022-09-27T19:53:30.295Z"
   },
   {
    "duration": 905,
    "start_time": "2022-09-27T19:54:48.749Z"
   },
   {
    "duration": 140,
    "start_time": "2022-09-27T19:55:53.230Z"
   },
   {
    "duration": 139,
    "start_time": "2022-09-27T19:58:35.799Z"
   },
   {
    "duration": 145,
    "start_time": "2022-09-27T19:58:46.038Z"
   },
   {
    "duration": 135,
    "start_time": "2022-09-27T19:58:55.151Z"
   },
   {
    "duration": 141,
    "start_time": "2022-09-27T19:59:02.956Z"
   },
   {
    "duration": 189,
    "start_time": "2022-09-27T19:59:17.511Z"
   },
   {
    "duration": 105,
    "start_time": "2022-09-27T19:59:26.855Z"
   },
   {
    "duration": 99,
    "start_time": "2022-09-27T19:59:35.391Z"
   },
   {
    "duration": 98,
    "start_time": "2022-09-27T20:00:01.614Z"
   },
   {
    "duration": 99,
    "start_time": "2022-09-27T20:00:11.789Z"
   },
   {
    "duration": 96,
    "start_time": "2022-09-27T20:00:16.036Z"
   },
   {
    "duration": 98,
    "start_time": "2022-09-27T20:01:10.217Z"
   },
   {
    "duration": 104,
    "start_time": "2022-09-27T20:01:33.215Z"
   },
   {
    "duration": 91,
    "start_time": "2022-09-27T20:02:03.935Z"
   },
   {
    "duration": 129,
    "start_time": "2022-09-27T20:02:55.737Z"
   },
   {
    "duration": 97,
    "start_time": "2022-09-27T20:04:55.215Z"
   },
   {
    "duration": 102,
    "start_time": "2022-09-27T20:06:12.156Z"
   },
   {
    "duration": 91,
    "start_time": "2022-09-27T20:07:11.272Z"
   },
   {
    "duration": 88,
    "start_time": "2022-09-27T20:07:42.895Z"
   },
   {
    "duration": 153,
    "start_time": "2022-09-27T20:16:04.814Z"
   },
   {
    "duration": 1127,
    "start_time": "2022-09-28T07:15:21.791Z"
   },
   {
    "duration": 108,
    "start_time": "2022-09-28T07:15:22.920Z"
   },
   {
    "duration": 24,
    "start_time": "2022-09-28T07:15:23.029Z"
   },
   {
    "duration": 37,
    "start_time": "2022-09-28T07:15:23.060Z"
   },
   {
    "duration": 4,
    "start_time": "2022-09-28T07:15:23.099Z"
   },
   {
    "duration": 9,
    "start_time": "2022-09-28T07:15:23.105Z"
   },
   {
    "duration": 15,
    "start_time": "2022-09-28T07:15:23.117Z"
   },
   {
    "duration": 35,
    "start_time": "2022-09-28T07:15:23.140Z"
   },
   {
    "duration": 16,
    "start_time": "2022-09-28T07:15:23.177Z"
   },
   {
    "duration": 4,
    "start_time": "2022-09-28T07:15:23.196Z"
   },
   {
    "duration": 9,
    "start_time": "2022-09-28T07:15:23.201Z"
   },
   {
    "duration": 16,
    "start_time": "2022-09-28T07:15:23.211Z"
   },
   {
    "duration": 4,
    "start_time": "2022-09-28T07:15:23.229Z"
   },
   {
    "duration": 644,
    "start_time": "2022-09-28T07:15:23.235Z"
   },
   {
    "duration": 4,
    "start_time": "2022-09-28T07:15:23.881Z"
   },
   {
    "duration": 12,
    "start_time": "2022-09-28T07:15:23.887Z"
   },
   {
    "duration": 8,
    "start_time": "2022-09-28T07:15:23.901Z"
   },
   {
    "duration": 4,
    "start_time": "2022-09-28T07:15:23.911Z"
   },
   {
    "duration": 7,
    "start_time": "2022-09-28T07:20:50.668Z"
   },
   {
    "duration": 53,
    "start_time": "2022-09-28T07:20:50.678Z"
   },
   {
    "duration": 18,
    "start_time": "2022-09-28T07:20:50.733Z"
   },
   {
    "duration": 44,
    "start_time": "2022-09-28T07:20:50.753Z"
   },
   {
    "duration": 8,
    "start_time": "2022-09-28T07:20:50.799Z"
   },
   {
    "duration": 12,
    "start_time": "2022-09-28T07:20:50.809Z"
   },
   {
    "duration": 56,
    "start_time": "2022-09-28T07:20:50.823Z"
   },
   {
    "duration": 27,
    "start_time": "2022-09-28T07:20:50.881Z"
   },
   {
    "duration": 18,
    "start_time": "2022-09-28T07:20:50.910Z"
   },
   {
    "duration": 9,
    "start_time": "2022-09-28T07:20:50.930Z"
   },
   {
    "duration": 51,
    "start_time": "2022-09-28T07:20:50.949Z"
   },
   {
    "duration": 19,
    "start_time": "2022-09-28T07:20:51.002Z"
   },
   {
    "duration": 37,
    "start_time": "2022-09-28T07:20:51.023Z"
   },
   {
    "duration": 39,
    "start_time": "2022-09-28T07:20:51.061Z"
   },
   {
    "duration": 12,
    "start_time": "2022-09-28T07:20:51.103Z"
   },
   {
    "duration": 12,
    "start_time": "2022-09-28T07:20:51.116Z"
   },
   {
    "duration": 7,
    "start_time": "2022-09-28T07:20:51.228Z"
   },
   {
    "duration": 145,
    "start_time": "2022-09-28T07:20:51.237Z"
   },
   {
    "duration": 4,
    "start_time": "2022-09-28T07:42:40.760Z"
   },
   {
    "duration": 51,
    "start_time": "2022-09-28T07:42:40.765Z"
   },
   {
    "duration": 12,
    "start_time": "2022-09-28T07:42:40.817Z"
   },
   {
    "duration": 52,
    "start_time": "2022-09-28T07:42:40.831Z"
   },
   {
    "duration": 4,
    "start_time": "2022-09-28T07:42:40.886Z"
   },
   {
    "duration": 20,
    "start_time": "2022-09-28T07:42:40.891Z"
   },
   {
    "duration": 8,
    "start_time": "2022-09-28T07:42:40.912Z"
   },
   {
    "duration": 8,
    "start_time": "2022-09-28T07:42:40.922Z"
   },
   {
    "duration": 48,
    "start_time": "2022-09-28T07:42:40.932Z"
   },
   {
    "duration": 16,
    "start_time": "2022-09-28T07:42:40.982Z"
   },
   {
    "duration": 8,
    "start_time": "2022-09-28T07:42:41.000Z"
   },
   {
    "duration": 15,
    "start_time": "2022-09-28T07:42:41.009Z"
   },
   {
    "duration": 4,
    "start_time": "2022-09-28T07:42:41.026Z"
   },
   {
    "duration": 50,
    "start_time": "2022-09-28T07:42:41.033Z"
   },
   {
    "duration": 14,
    "start_time": "2022-09-28T07:42:41.085Z"
   },
   {
    "duration": 9,
    "start_time": "2022-09-28T07:42:41.102Z"
   },
   {
    "duration": 13,
    "start_time": "2022-09-28T07:42:41.113Z"
   },
   {
    "duration": 117,
    "start_time": "2022-09-28T07:42:41.128Z"
   },
   {
    "duration": 143,
    "start_time": "2022-09-28T07:42:41.247Z"
   },
   {
    "duration": 0,
    "start_time": "2022-09-28T07:42:41.393Z"
   },
   {
    "duration": 44,
    "start_time": "2022-09-28T13:07:00.962Z"
   },
   {
    "duration": 1100,
    "start_time": "2022-09-28T13:07:15.718Z"
   },
   {
    "duration": 3,
    "start_time": "2022-09-28T13:07:26.797Z"
   },
   {
    "duration": 172,
    "start_time": "2022-09-28T13:07:26.803Z"
   },
   {
    "duration": 12,
    "start_time": "2022-09-28T13:07:26.977Z"
   },
   {
    "duration": 17,
    "start_time": "2022-09-28T13:07:26.991Z"
   },
   {
    "duration": 2,
    "start_time": "2022-09-28T13:07:27.010Z"
   },
   {
    "duration": 6,
    "start_time": "2022-09-28T13:07:27.014Z"
   },
   {
    "duration": 6,
    "start_time": "2022-09-28T13:07:27.021Z"
   },
   {
    "duration": 44,
    "start_time": "2022-09-28T13:07:27.028Z"
   },
   {
    "duration": 12,
    "start_time": "2022-09-28T13:07:27.073Z"
   },
   {
    "duration": 6,
    "start_time": "2022-09-28T13:07:27.087Z"
   },
   {
    "duration": 5,
    "start_time": "2022-09-28T13:07:27.094Z"
   },
   {
    "duration": 12,
    "start_time": "2022-09-28T13:07:27.100Z"
   },
   {
    "duration": 3,
    "start_time": "2022-09-28T13:07:27.114Z"
   },
   {
    "duration": 21,
    "start_time": "2022-09-28T13:07:27.118Z"
   },
   {
    "duration": 12,
    "start_time": "2022-09-28T13:15:19.750Z"
   },
   {
    "duration": 11,
    "start_time": "2022-09-28T13:20:23.037Z"
   },
   {
    "duration": 7,
    "start_time": "2022-09-28T13:20:31.342Z"
   },
   {
    "duration": 3,
    "start_time": "2022-09-28T13:24:05.297Z"
   },
   {
    "duration": 41,
    "start_time": "2022-09-28T13:24:05.302Z"
   },
   {
    "duration": 11,
    "start_time": "2022-09-28T13:24:05.344Z"
   },
   {
    "duration": 11,
    "start_time": "2022-09-28T13:24:05.358Z"
   },
   {
    "duration": 7,
    "start_time": "2022-09-28T13:24:05.371Z"
   },
   {
    "duration": 17,
    "start_time": "2022-09-28T13:24:05.380Z"
   },
   {
    "duration": 5,
    "start_time": "2022-09-28T13:24:05.399Z"
   },
   {
    "duration": 7,
    "start_time": "2022-09-28T13:24:05.405Z"
   },
   {
    "duration": 12,
    "start_time": "2022-09-28T13:24:05.414Z"
   },
   {
    "duration": 4,
    "start_time": "2022-09-28T13:24:05.428Z"
   },
   {
    "duration": 4,
    "start_time": "2022-09-28T13:24:05.433Z"
   },
   {
    "duration": 11,
    "start_time": "2022-09-28T13:24:05.439Z"
   },
   {
    "duration": 3,
    "start_time": "2022-09-28T13:24:05.452Z"
   },
   {
    "duration": 49,
    "start_time": "2022-09-28T13:24:05.458Z"
   },
   {
    "duration": 11,
    "start_time": "2022-09-28T13:24:05.605Z"
   },
   {
    "duration": 10,
    "start_time": "2022-09-28T13:24:05.741Z"
   },
   {
    "duration": 9,
    "start_time": "2022-09-28T13:24:05.753Z"
   },
   {
    "duration": 11,
    "start_time": "2022-09-28T13:24:11.039Z"
   },
   {
    "duration": 3,
    "start_time": "2022-09-28T13:33:58.559Z"
   },
   {
    "duration": 44,
    "start_time": "2022-09-28T13:33:58.564Z"
   },
   {
    "duration": 11,
    "start_time": "2022-09-28T13:33:58.610Z"
   },
   {
    "duration": 11,
    "start_time": "2022-09-28T13:33:58.622Z"
   },
   {
    "duration": 4,
    "start_time": "2022-09-28T13:33:58.634Z"
   },
   {
    "duration": 6,
    "start_time": "2022-09-28T13:33:58.639Z"
   },
   {
    "duration": 5,
    "start_time": "2022-09-28T13:33:58.647Z"
   },
   {
    "duration": 7,
    "start_time": "2022-09-28T13:33:58.653Z"
   },
   {
    "duration": 13,
    "start_time": "2022-09-28T13:33:58.661Z"
   },
   {
    "duration": 3,
    "start_time": "2022-09-28T13:33:58.675Z"
   },
   {
    "duration": 3,
    "start_time": "2022-09-28T13:33:58.706Z"
   },
   {
    "duration": 15,
    "start_time": "2022-09-28T13:33:58.710Z"
   },
   {
    "duration": 3,
    "start_time": "2022-09-28T13:33:58.727Z"
   },
   {
    "duration": 26,
    "start_time": "2022-09-28T13:33:58.731Z"
   },
   {
    "duration": 11,
    "start_time": "2022-09-28T13:33:58.759Z"
   },
   {
    "duration": 12,
    "start_time": "2022-09-28T13:33:58.771Z"
   },
   {
    "duration": 27,
    "start_time": "2022-09-28T13:33:58.785Z"
   },
   {
    "duration": 8,
    "start_time": "2022-09-28T13:33:58.814Z"
   },
   {
    "duration": 8,
    "start_time": "2022-09-28T13:33:58.823Z"
   },
   {
    "duration": 6,
    "start_time": "2022-09-28T13:33:58.832Z"
   },
   {
    "duration": 5,
    "start_time": "2022-09-28T13:33:58.840Z"
   },
   {
    "duration": 474,
    "start_time": "2022-09-28T13:33:58.847Z"
   },
   {
    "duration": 84,
    "start_time": "2022-09-28T13:33:59.322Z"
   },
   {
    "duration": 0,
    "start_time": "2022-09-28T13:33:59.408Z"
   },
   {
    "duration": 0,
    "start_time": "2022-09-28T13:33:59.409Z"
   },
   {
    "duration": 3,
    "start_time": "2022-09-28T13:34:24.762Z"
   },
   {
    "duration": 51,
    "start_time": "2022-09-28T13:34:24.767Z"
   },
   {
    "duration": 14,
    "start_time": "2022-09-28T13:34:24.820Z"
   },
   {
    "duration": 12,
    "start_time": "2022-09-28T13:34:24.835Z"
   },
   {
    "duration": 6,
    "start_time": "2022-09-28T13:34:24.849Z"
   },
   {
    "duration": 5,
    "start_time": "2022-09-28T13:34:24.857Z"
   },
   {
    "duration": 4,
    "start_time": "2022-09-28T13:34:24.864Z"
   },
   {
    "duration": 36,
    "start_time": "2022-09-28T13:34:24.870Z"
   },
   {
    "duration": 13,
    "start_time": "2022-09-28T13:34:24.908Z"
   },
   {
    "duration": 7,
    "start_time": "2022-09-28T13:34:24.923Z"
   },
   {
    "duration": 7,
    "start_time": "2022-09-28T13:34:24.931Z"
   },
   {
    "duration": 12,
    "start_time": "2022-09-28T13:34:24.939Z"
   },
   {
    "duration": 4,
    "start_time": "2022-09-28T13:34:24.953Z"
   },
   {
    "duration": 21,
    "start_time": "2022-09-28T13:34:24.958Z"
   },
   {
    "duration": 34,
    "start_time": "2022-09-28T13:34:24.981Z"
   },
   {
    "duration": 12,
    "start_time": "2022-09-28T13:34:25.016Z"
   },
   {
    "duration": 11,
    "start_time": "2022-09-28T13:34:25.029Z"
   },
   {
    "duration": 7,
    "start_time": "2022-09-28T13:34:25.041Z"
   },
   {
    "duration": 6,
    "start_time": "2022-09-28T13:34:25.049Z"
   },
   {
    "duration": 6,
    "start_time": "2022-09-28T13:34:25.056Z"
   },
   {
    "duration": 6,
    "start_time": "2022-09-28T13:34:25.063Z"
   },
   {
    "duration": 111,
    "start_time": "2022-09-28T13:34:25.070Z"
   },
   {
    "duration": 207,
    "start_time": "2022-09-28T13:34:25.183Z"
   },
   {
    "duration": 4,
    "start_time": "2022-09-28T13:34:25.392Z"
   },
   {
    "duration": 4,
    "start_time": "2022-09-28T13:34:25.405Z"
   },
   {
    "duration": 209,
    "start_time": "2022-09-28T13:43:24.623Z"
   },
   {
    "duration": 5,
    "start_time": "2022-09-28T13:43:26.499Z"
   },
   {
    "duration": 195,
    "start_time": "2022-09-28T13:43:31.695Z"
   },
   {
    "duration": 4,
    "start_time": "2022-09-28T13:43:33.094Z"
   },
   {
    "duration": 221,
    "start_time": "2022-09-28T13:51:48.457Z"
   },
   {
    "duration": 5,
    "start_time": "2022-09-28T13:52:32.863Z"
   },
   {
    "duration": 129,
    "start_time": "2022-09-28T13:53:05.743Z"
   },
   {
    "duration": 3,
    "start_time": "2022-09-28T13:53:06.958Z"
   },
   {
    "duration": 256,
    "start_time": "2022-09-28T13:53:55.583Z"
   },
   {
    "duration": 4,
    "start_time": "2022-09-28T13:53:56.672Z"
   },
   {
    "duration": 269,
    "start_time": "2022-09-28T13:54:05.775Z"
   },
   {
    "duration": 3,
    "start_time": "2022-09-28T13:54:06.481Z"
   },
   {
    "duration": 10,
    "start_time": "2022-09-28T13:57:59.923Z"
   },
   {
    "duration": 237,
    "start_time": "2022-09-28T13:58:04.651Z"
   },
   {
    "duration": 4,
    "start_time": "2022-09-28T13:58:06.023Z"
   },
   {
    "duration": 3,
    "start_time": "2022-09-28T14:44:14.396Z"
   },
   {
    "duration": 59,
    "start_time": "2022-09-28T14:44:14.401Z"
   },
   {
    "duration": 11,
    "start_time": "2022-09-28T14:44:14.461Z"
   },
   {
    "duration": 12,
    "start_time": "2022-09-28T14:44:14.473Z"
   },
   {
    "duration": 5,
    "start_time": "2022-09-28T14:44:14.486Z"
   },
   {
    "duration": 8,
    "start_time": "2022-09-28T14:44:14.492Z"
   },
   {
    "duration": 18,
    "start_time": "2022-09-28T14:44:14.502Z"
   },
   {
    "duration": 8,
    "start_time": "2022-09-28T14:44:14.522Z"
   },
   {
    "duration": 12,
    "start_time": "2022-09-28T14:44:14.531Z"
   },
   {
    "duration": 4,
    "start_time": "2022-09-28T14:44:14.545Z"
   },
   {
    "duration": 3,
    "start_time": "2022-09-28T14:44:14.551Z"
   },
   {
    "duration": 13,
    "start_time": "2022-09-28T14:44:14.556Z"
   },
   {
    "duration": 3,
    "start_time": "2022-09-28T14:44:14.570Z"
   },
   {
    "duration": 20,
    "start_time": "2022-09-28T14:44:14.574Z"
   },
   {
    "duration": 23,
    "start_time": "2022-09-28T14:44:14.595Z"
   },
   {
    "duration": 12,
    "start_time": "2022-09-28T14:44:14.619Z"
   },
   {
    "duration": 10,
    "start_time": "2022-09-28T14:44:14.633Z"
   },
   {
    "duration": 5,
    "start_time": "2022-09-28T14:44:14.644Z"
   },
   {
    "duration": 5,
    "start_time": "2022-09-28T14:44:14.651Z"
   },
   {
    "duration": 5,
    "start_time": "2022-09-28T14:44:14.657Z"
   },
   {
    "duration": 4,
    "start_time": "2022-09-28T14:44:14.664Z"
   },
   {
    "duration": 116,
    "start_time": "2022-09-28T14:44:14.669Z"
   },
   {
    "duration": 213,
    "start_time": "2022-09-28T14:44:14.787Z"
   },
   {
    "duration": 15,
    "start_time": "2022-09-28T14:44:15.002Z"
   },
   {
    "duration": 284,
    "start_time": "2022-09-28T14:44:15.143Z"
   },
   {
    "duration": 4,
    "start_time": "2022-09-28T14:44:15.429Z"
   },
   {
    "duration": 258,
    "start_time": "2022-09-28T14:44:15.434Z"
   },
   {
    "duration": 16,
    "start_time": "2022-09-28T14:44:15.694Z"
   },
   {
    "duration": 9973,
    "start_time": "2022-09-28T14:44:15.713Z"
   },
   {
    "duration": 4,
    "start_time": "2022-09-28T14:44:25.688Z"
   },
   {
    "duration": 14411,
    "start_time": "2022-09-28T14:45:27.211Z"
   },
   {
    "duration": 5,
    "start_time": "2022-09-28T14:45:41.623Z"
   },
   {
    "duration": 206,
    "start_time": "2022-09-28T14:48:48.163Z"
   },
   {
    "duration": 1177,
    "start_time": "2022-10-01T09:21:25.858Z"
   },
   {
    "duration": 367,
    "start_time": "2022-10-01T09:21:27.040Z"
   },
   {
    "duration": 13,
    "start_time": "2022-10-01T09:21:27.409Z"
   },
   {
    "duration": 20,
    "start_time": "2022-10-01T09:21:27.424Z"
   },
   {
    "duration": 3,
    "start_time": "2022-10-01T09:21:27.445Z"
   },
   {
    "duration": 17,
    "start_time": "2022-10-01T09:21:27.450Z"
   },
   {
    "duration": 11,
    "start_time": "2022-10-01T09:21:27.468Z"
   },
   {
    "duration": 8,
    "start_time": "2022-10-01T09:21:27.481Z"
   },
   {
    "duration": 24,
    "start_time": "2022-10-01T09:21:27.491Z"
   },
   {
    "duration": 7,
    "start_time": "2022-10-01T09:21:27.517Z"
   },
   {
    "duration": 15,
    "start_time": "2022-10-01T09:21:27.526Z"
   },
   {
    "duration": 15,
    "start_time": "2022-10-01T09:21:27.543Z"
   },
   {
    "duration": 3,
    "start_time": "2022-10-01T09:21:27.560Z"
   },
   {
    "duration": 22,
    "start_time": "2022-10-01T09:21:27.565Z"
   },
   {
    "duration": 12,
    "start_time": "2022-10-01T09:21:27.588Z"
   },
   {
    "duration": 13,
    "start_time": "2022-10-01T09:21:27.602Z"
   },
   {
    "duration": 15,
    "start_time": "2022-10-01T09:21:27.623Z"
   },
   {
    "duration": 4,
    "start_time": "2022-10-01T09:21:27.640Z"
   },
   {
    "duration": 9,
    "start_time": "2022-10-01T09:21:27.646Z"
   },
   {
    "duration": 20,
    "start_time": "2022-10-01T09:21:27.658Z"
   },
   {
    "duration": 6,
    "start_time": "2022-10-01T09:21:27.680Z"
   },
   {
    "duration": 596,
    "start_time": "2022-10-01T09:21:27.688Z"
   },
   {
    "duration": 3,
    "start_time": "2022-10-01T09:25:20.780Z"
   },
   {
    "duration": 43,
    "start_time": "2022-10-01T09:25:20.842Z"
   },
   {
    "duration": 15,
    "start_time": "2022-10-01T09:25:20.887Z"
   },
   {
    "duration": 17,
    "start_time": "2022-10-01T09:25:20.903Z"
   },
   {
    "duration": 17,
    "start_time": "2022-10-01T09:25:20.923Z"
   },
   {
    "duration": 5,
    "start_time": "2022-10-01T09:25:20.944Z"
   },
   {
    "duration": 7,
    "start_time": "2022-10-01T09:25:20.952Z"
   },
   {
    "duration": 12,
    "start_time": "2022-10-01T09:25:20.961Z"
   },
   {
    "duration": 16,
    "start_time": "2022-10-01T09:25:20.976Z"
   },
   {
    "duration": 5,
    "start_time": "2022-10-01T09:25:20.994Z"
   },
   {
    "duration": 12,
    "start_time": "2022-10-01T09:25:21.001Z"
   },
   {
    "duration": 42,
    "start_time": "2022-10-01T09:25:21.015Z"
   },
   {
    "duration": 12,
    "start_time": "2022-10-01T09:25:21.059Z"
   },
   {
    "duration": 22,
    "start_time": "2022-10-01T09:25:21.072Z"
   },
   {
    "duration": 13,
    "start_time": "2022-10-01T09:25:21.096Z"
   },
   {
    "duration": 38,
    "start_time": "2022-10-01T09:25:21.112Z"
   },
   {
    "duration": 11,
    "start_time": "2022-10-01T09:25:21.152Z"
   },
   {
    "duration": 10,
    "start_time": "2022-10-01T09:25:21.164Z"
   },
   {
    "duration": 7,
    "start_time": "2022-10-01T09:25:21.176Z"
   },
   {
    "duration": 5,
    "start_time": "2022-10-01T09:25:21.185Z"
   },
   {
    "duration": 8,
    "start_time": "2022-10-01T09:25:21.192Z"
   },
   {
    "duration": 106,
    "start_time": "2022-10-01T09:25:21.201Z"
   },
   {
    "duration": 210,
    "start_time": "2022-10-01T09:25:36.881Z"
   },
   {
    "duration": 4,
    "start_time": "2022-10-01T09:25:43.070Z"
   },
   {
    "duration": 305,
    "start_time": "2022-10-01T09:26:50.450Z"
   },
   {
    "duration": 4,
    "start_time": "2022-10-01T09:26:52.000Z"
   },
   {
    "duration": 251,
    "start_time": "2022-10-01T09:27:56.935Z"
   },
   {
    "duration": 4,
    "start_time": "2022-10-01T09:27:57.188Z"
   },
   {
    "duration": 132,
    "start_time": "2022-10-01T09:28:22.410Z"
   },
   {
    "duration": 5,
    "start_time": "2022-10-01T09:28:32.037Z"
   },
   {
    "duration": 210,
    "start_time": "2022-10-01T09:29:27.140Z"
   },
   {
    "duration": 4,
    "start_time": "2022-10-01T09:29:27.352Z"
   },
   {
    "duration": 1102,
    "start_time": "2022-10-01T10:09:07.260Z"
   },
   {
    "duration": 39,
    "start_time": "2022-10-01T10:09:09.851Z"
   },
   {
    "duration": 12,
    "start_time": "2022-10-01T10:09:10.358Z"
   },
   {
    "duration": 18,
    "start_time": "2022-10-01T10:09:10.853Z"
   },
   {
    "duration": 3,
    "start_time": "2022-10-01T10:09:11.415Z"
   },
   {
    "duration": 4,
    "start_time": "2022-10-01T10:09:11.817Z"
   },
   {
    "duration": 6,
    "start_time": "2022-10-01T10:09:12.144Z"
   },
   {
    "duration": 12,
    "start_time": "2022-10-01T10:09:12.621Z"
   },
   {
    "duration": 18,
    "start_time": "2022-10-01T10:09:14.015Z"
   },
   {
    "duration": 5,
    "start_time": "2022-10-01T10:09:14.369Z"
   },
   {
    "duration": 4,
    "start_time": "2022-10-01T10:09:14.546Z"
   },
   {
    "duration": 12,
    "start_time": "2022-10-01T10:09:15.073Z"
   },
   {
    "duration": 8,
    "start_time": "2022-10-01T10:09:15.820Z"
   },
   {
    "duration": 20,
    "start_time": "2022-10-01T10:09:16.476Z"
   },
   {
    "duration": 14,
    "start_time": "2022-10-01T10:09:17.047Z"
   },
   {
    "duration": 13,
    "start_time": "2022-10-01T10:09:17.256Z"
   },
   {
    "duration": 15,
    "start_time": "2022-10-01T10:09:18.121Z"
   },
   {
    "duration": 13,
    "start_time": "2022-10-01T10:09:18.525Z"
   },
   {
    "duration": 5,
    "start_time": "2022-10-01T10:09:18.856Z"
   },
   {
    "duration": 6,
    "start_time": "2022-10-01T10:09:19.641Z"
   },
   {
    "duration": 9,
    "start_time": "2022-10-01T10:09:20.019Z"
   },
   {
    "duration": 386,
    "start_time": "2022-10-01T10:09:20.834Z"
   },
   {
    "duration": 248,
    "start_time": "2022-10-01T10:09:23.358Z"
   },
   {
    "duration": 5,
    "start_time": "2022-10-01T10:09:23.950Z"
   },
   {
    "duration": 296,
    "start_time": "2022-10-01T10:09:32.246Z"
   },
   {
    "duration": 3,
    "start_time": "2022-10-01T10:09:33.007Z"
   },
   {
    "duration": 225,
    "start_time": "2022-10-01T10:09:34.767Z"
   },
   {
    "duration": 6,
    "start_time": "2022-10-01T10:09:36.542Z"
   },
   {
    "duration": 262,
    "start_time": "2022-10-01T10:09:46.243Z"
   },
   {
    "duration": 33,
    "start_time": "2022-10-01T10:17:46.814Z"
   },
   {
    "duration": 5,
    "start_time": "2022-10-01T10:18:22.680Z"
   },
   {
    "duration": 3,
    "start_time": "2022-10-01T10:23:07.801Z"
   },
   {
    "duration": 38,
    "start_time": "2022-10-01T10:23:07.872Z"
   },
   {
    "duration": 22,
    "start_time": "2022-10-01T10:23:07.912Z"
   },
   {
    "duration": 11,
    "start_time": "2022-10-01T10:23:07.937Z"
   },
   {
    "duration": 8,
    "start_time": "2022-10-01T10:23:07.950Z"
   },
   {
    "duration": 9,
    "start_time": "2022-10-01T10:23:07.959Z"
   },
   {
    "duration": 6,
    "start_time": "2022-10-01T10:23:07.969Z"
   },
   {
    "duration": 6,
    "start_time": "2022-10-01T10:23:08.015Z"
   },
   {
    "duration": 13,
    "start_time": "2022-10-01T10:23:08.036Z"
   },
   {
    "duration": 4,
    "start_time": "2022-10-01T10:23:08.077Z"
   },
   {
    "duration": 4,
    "start_time": "2022-10-01T10:23:08.156Z"
   },
   {
    "duration": 17,
    "start_time": "2022-10-01T10:23:08.236Z"
   },
   {
    "duration": 4,
    "start_time": "2022-10-01T10:23:08.255Z"
   },
   {
    "duration": 27,
    "start_time": "2022-10-01T10:23:08.273Z"
   },
   {
    "duration": 12,
    "start_time": "2022-10-01T10:23:08.366Z"
   },
   {
    "duration": 15,
    "start_time": "2022-10-01T10:23:08.380Z"
   },
   {
    "duration": 11,
    "start_time": "2022-10-01T10:23:08.441Z"
   },
   {
    "duration": 7,
    "start_time": "2022-10-01T10:23:08.533Z"
   },
   {
    "duration": 7,
    "start_time": "2022-10-01T10:23:08.542Z"
   },
   {
    "duration": 6,
    "start_time": "2022-10-01T10:23:08.558Z"
   },
   {
    "duration": 4,
    "start_time": "2022-10-01T10:23:08.600Z"
   },
   {
    "duration": 108,
    "start_time": "2022-10-01T10:23:08.715Z"
   },
   {
    "duration": 207,
    "start_time": "2022-10-01T10:23:08.830Z"
   },
   {
    "duration": 4,
    "start_time": "2022-10-01T10:23:09.038Z"
   },
   {
    "duration": 274,
    "start_time": "2022-10-01T10:23:09.044Z"
   },
   {
    "duration": 3,
    "start_time": "2022-10-01T10:23:39.774Z"
   },
   {
    "duration": 28,
    "start_time": "2022-10-01T10:25:40.274Z"
   },
   {
    "duration": 4,
    "start_time": "2022-10-01T10:34:19.801Z"
   },
   {
    "duration": 48,
    "start_time": "2022-10-01T10:34:19.807Z"
   },
   {
    "duration": 11,
    "start_time": "2022-10-01T10:34:19.857Z"
   },
   {
    "duration": 16,
    "start_time": "2022-10-01T10:34:19.869Z"
   },
   {
    "duration": 7,
    "start_time": "2022-10-01T10:34:19.887Z"
   },
   {
    "duration": 8,
    "start_time": "2022-10-01T10:34:19.896Z"
   },
   {
    "duration": 9,
    "start_time": "2022-10-01T10:34:19.905Z"
   },
   {
    "duration": 24,
    "start_time": "2022-10-01T10:34:19.916Z"
   },
   {
    "duration": 13,
    "start_time": "2022-10-01T10:34:19.942Z"
   },
   {
    "duration": 5,
    "start_time": "2022-10-01T10:34:19.957Z"
   },
   {
    "duration": 6,
    "start_time": "2022-10-01T10:34:19.964Z"
   },
   {
    "duration": 12,
    "start_time": "2022-10-01T10:34:19.972Z"
   },
   {
    "duration": 4,
    "start_time": "2022-10-01T10:34:19.986Z"
   },
   {
    "duration": 45,
    "start_time": "2022-10-01T10:34:19.991Z"
   },
   {
    "duration": 11,
    "start_time": "2022-10-01T10:34:20.038Z"
   },
   {
    "duration": 20,
    "start_time": "2022-10-01T10:34:20.050Z"
   },
   {
    "duration": 14,
    "start_time": "2022-10-01T10:34:20.071Z"
   },
   {
    "duration": 10,
    "start_time": "2022-10-01T10:34:20.086Z"
   },
   {
    "duration": 8,
    "start_time": "2022-10-01T10:34:20.097Z"
   },
   {
    "duration": 21,
    "start_time": "2022-10-01T10:34:20.107Z"
   },
   {
    "duration": 9,
    "start_time": "2022-10-01T10:34:20.131Z"
   },
   {
    "duration": 92,
    "start_time": "2022-10-01T10:34:20.142Z"
   },
   {
    "duration": 213,
    "start_time": "2022-10-01T10:34:20.240Z"
   },
   {
    "duration": 3,
    "start_time": "2022-10-01T10:34:20.455Z"
   },
   {
    "duration": 290,
    "start_time": "2022-10-01T10:34:20.459Z"
   },
   {
    "duration": 4,
    "start_time": "2022-10-01T10:34:20.750Z"
   },
   {
    "duration": 219,
    "start_time": "2022-10-01T10:34:20.755Z"
   },
   {
    "duration": 4,
    "start_time": "2022-10-01T10:34:20.976Z"
   },
   {
    "duration": 14459,
    "start_time": "2022-10-01T10:34:20.982Z"
   },
   {
    "duration": 3,
    "start_time": "2022-10-01T10:34:35.443Z"
   },
   {
    "duration": 4,
    "start_time": "2022-10-01T10:34:41.446Z"
   },
   {
    "duration": 221,
    "start_time": "2022-10-01T10:35:03.571Z"
   },
   {
    "duration": 88,
    "start_time": "2022-10-01T10:37:27.893Z"
   },
   {
    "duration": 14,
    "start_time": "2022-10-01T10:37:31.438Z"
   },
   {
    "duration": 7227,
    "start_time": "2022-10-01T10:38:11.605Z"
   },
   {
    "duration": 7,
    "start_time": "2022-10-01T10:38:18.834Z"
   },
   {
    "duration": 4,
    "start_time": "2022-10-01T10:38:23.134Z"
   },
   {
    "duration": 10233,
    "start_time": "2022-10-01T10:38:54.297Z"
   },
   {
    "duration": 6,
    "start_time": "2022-10-01T10:39:04.532Z"
   },
   {
    "duration": 11015,
    "start_time": "2022-10-01T10:39:41.049Z"
   },
   {
    "duration": 4,
    "start_time": "2022-10-01T10:39:52.066Z"
   },
   {
    "duration": 9223,
    "start_time": "2022-10-01T10:40:13.254Z"
   },
   {
    "duration": 3,
    "start_time": "2022-10-01T10:40:22.479Z"
   },
   {
    "duration": 7376,
    "start_time": "2022-10-01T10:42:01.615Z"
   },
   {
    "duration": 5,
    "start_time": "2022-10-01T10:42:08.992Z"
   },
   {
    "duration": 9781,
    "start_time": "2022-10-01T10:42:20.475Z"
   },
   {
    "duration": 5,
    "start_time": "2022-10-01T10:42:30.259Z"
   },
   {
    "duration": 16972,
    "start_time": "2022-10-01T10:45:01.075Z"
   },
   {
    "duration": 5,
    "start_time": "2022-10-01T10:45:18.049Z"
   },
   {
    "duration": 4,
    "start_time": "2022-10-01T10:58:55.256Z"
   },
   {
    "duration": 3,
    "start_time": "2022-10-01T11:10:42.215Z"
   },
   {
    "duration": 4,
    "start_time": "2022-10-01T11:11:01.596Z"
   },
   {
    "duration": 3,
    "start_time": "2022-10-01T11:12:26.132Z"
   },
   {
    "duration": 40,
    "start_time": "2022-10-01T11:12:26.165Z"
   },
   {
    "duration": 13,
    "start_time": "2022-10-01T11:12:26.207Z"
   },
   {
    "duration": 39,
    "start_time": "2022-10-01T11:12:26.231Z"
   },
   {
    "duration": 4,
    "start_time": "2022-10-01T11:12:26.278Z"
   },
   {
    "duration": 4,
    "start_time": "2022-10-01T11:12:26.313Z"
   },
   {
    "duration": 4,
    "start_time": "2022-10-01T11:12:26.354Z"
   },
   {
    "duration": 8,
    "start_time": "2022-10-01T11:12:26.362Z"
   },
   {
    "duration": 15,
    "start_time": "2022-10-01T11:12:26.401Z"
   },
   {
    "duration": 8,
    "start_time": "2022-10-01T11:12:26.520Z"
   },
   {
    "duration": 6,
    "start_time": "2022-10-01T11:12:26.633Z"
   },
   {
    "duration": 16,
    "start_time": "2022-10-01T11:12:26.641Z"
   },
   {
    "duration": 5,
    "start_time": "2022-10-01T11:12:26.659Z"
   },
   {
    "duration": 26,
    "start_time": "2022-10-01T11:12:26.666Z"
   },
   {
    "duration": 10,
    "start_time": "2022-10-01T11:12:26.694Z"
   },
   {
    "duration": 11,
    "start_time": "2022-10-01T11:12:26.769Z"
   },
   {
    "duration": 16,
    "start_time": "2022-10-01T11:12:26.782Z"
   },
   {
    "duration": 6,
    "start_time": "2022-10-01T11:12:26.845Z"
   },
   {
    "duration": 7,
    "start_time": "2022-10-01T11:12:26.875Z"
   },
   {
    "duration": 7,
    "start_time": "2022-10-01T11:12:26.933Z"
   },
   {
    "duration": 5,
    "start_time": "2022-10-01T11:12:26.959Z"
   },
   {
    "duration": 95,
    "start_time": "2022-10-01T11:12:27.015Z"
   },
   {
    "duration": 257,
    "start_time": "2022-10-01T11:12:27.122Z"
   },
   {
    "duration": 5,
    "start_time": "2022-10-01T11:12:27.381Z"
   },
   {
    "duration": 8,
    "start_time": "2022-10-01T11:12:30.690Z"
   },
   {
    "duration": 11,
    "start_time": "2022-10-01T11:12:38.411Z"
   },
   {
    "duration": 23,
    "start_time": "2022-10-01T11:12:59.417Z"
   },
   {
    "duration": 4,
    "start_time": "2022-10-01T11:13:23.818Z"
   },
   {
    "duration": 200,
    "start_time": "2022-10-01T11:13:31.270Z"
   },
   {
    "duration": 4,
    "start_time": "2022-10-01T11:19:19.313Z"
   },
   {
    "duration": 56,
    "start_time": "2022-10-01T11:19:19.334Z"
   },
   {
    "duration": 12,
    "start_time": "2022-10-01T11:19:19.393Z"
   },
   {
    "duration": 12,
    "start_time": "2022-10-01T11:19:19.406Z"
   },
   {
    "duration": 26,
    "start_time": "2022-10-01T11:19:19.419Z"
   },
   {
    "duration": 7,
    "start_time": "2022-10-01T11:19:19.447Z"
   },
   {
    "duration": 7,
    "start_time": "2022-10-01T11:19:19.456Z"
   },
   {
    "duration": 6,
    "start_time": "2022-10-01T11:19:19.465Z"
   },
   {
    "duration": 20,
    "start_time": "2022-10-01T11:19:19.473Z"
   },
   {
    "duration": 5,
    "start_time": "2022-10-01T11:19:19.495Z"
   },
   {
    "duration": 13,
    "start_time": "2022-10-01T11:19:19.502Z"
   },
   {
    "duration": 38,
    "start_time": "2022-10-01T11:19:19.517Z"
   },
   {
    "duration": 6,
    "start_time": "2022-10-01T11:19:19.556Z"
   },
   {
    "duration": 27,
    "start_time": "2022-10-01T11:19:19.564Z"
   },
   {
    "duration": 19,
    "start_time": "2022-10-01T11:19:19.595Z"
   },
   {
    "duration": 38,
    "start_time": "2022-10-01T11:19:19.617Z"
   },
   {
    "duration": 19,
    "start_time": "2022-10-01T11:19:19.659Z"
   },
   {
    "duration": 6,
    "start_time": "2022-10-01T11:19:19.680Z"
   },
   {
    "duration": 9,
    "start_time": "2022-10-01T11:19:19.687Z"
   },
   {
    "duration": 8,
    "start_time": "2022-10-01T11:19:19.698Z"
   },
   {
    "duration": 6,
    "start_time": "2022-10-01T11:19:19.709Z"
   },
   {
    "duration": 128,
    "start_time": "2022-10-01T11:19:19.717Z"
   },
   {
    "duration": 211,
    "start_time": "2022-10-01T11:19:19.846Z"
   },
   {
    "duration": 5,
    "start_time": "2022-10-01T11:23:36.273Z"
   },
   {
    "duration": 37,
    "start_time": "2022-10-01T11:23:36.352Z"
   },
   {
    "duration": 16,
    "start_time": "2022-10-01T11:23:36.391Z"
   },
   {
    "duration": 58,
    "start_time": "2022-10-01T11:23:36.409Z"
   },
   {
    "duration": 35,
    "start_time": "2022-10-01T11:23:36.469Z"
   },
   {
    "duration": 58,
    "start_time": "2022-10-01T11:23:36.507Z"
   },
   {
    "duration": 47,
    "start_time": "2022-10-01T11:23:36.567Z"
   },
   {
    "duration": 38,
    "start_time": "2022-10-01T11:23:36.616Z"
   },
   {
    "duration": 36,
    "start_time": "2022-10-01T11:23:36.656Z"
   },
   {
    "duration": 65,
    "start_time": "2022-10-01T11:23:36.694Z"
   },
   {
    "duration": 25,
    "start_time": "2022-10-01T11:23:36.761Z"
   },
   {
    "duration": 58,
    "start_time": "2022-10-01T11:23:36.788Z"
   },
   {
    "duration": 36,
    "start_time": "2022-10-01T11:23:36.848Z"
   },
   {
    "duration": 43,
    "start_time": "2022-10-01T11:23:36.885Z"
   },
   {
    "duration": 17,
    "start_time": "2022-10-01T11:23:36.931Z"
   },
   {
    "duration": 13,
    "start_time": "2022-10-01T11:23:36.950Z"
   },
   {
    "duration": 14,
    "start_time": "2022-10-01T11:23:36.964Z"
   },
   {
    "duration": 6,
    "start_time": "2022-10-01T11:23:36.979Z"
   },
   {
    "duration": 6,
    "start_time": "2022-10-01T11:23:36.987Z"
   },
   {
    "duration": 6,
    "start_time": "2022-10-01T11:23:36.994Z"
   },
   {
    "duration": 29,
    "start_time": "2022-10-01T11:23:37.001Z"
   },
   {
    "duration": 90,
    "start_time": "2022-10-01T11:23:37.036Z"
   },
   {
    "duration": 238,
    "start_time": "2022-10-01T11:23:37.129Z"
   },
   {
    "duration": 5,
    "start_time": "2022-10-01T11:23:37.368Z"
   },
   {
    "duration": 4,
    "start_time": "2022-10-01T11:24:18.446Z"
   },
   {
    "duration": 3,
    "start_time": "2022-10-01T11:24:25.192Z"
   },
   {
    "duration": 4,
    "start_time": "2022-10-01T11:24:32.254Z"
   },
   {
    "duration": 3,
    "start_time": "2022-10-01T11:25:08.896Z"
   },
   {
    "duration": 308,
    "start_time": "2022-10-01T11:35:23.876Z"
   },
   {
    "duration": 3,
    "start_time": "2022-10-01T11:39:30.560Z"
   },
   {
    "duration": 93,
    "start_time": "2022-10-01T11:39:30.567Z"
   },
   {
    "duration": 11,
    "start_time": "2022-10-01T11:39:30.661Z"
   },
   {
    "duration": 80,
    "start_time": "2022-10-01T11:39:30.674Z"
   },
   {
    "duration": 38,
    "start_time": "2022-10-01T11:39:30.755Z"
   },
   {
    "duration": 29,
    "start_time": "2022-10-01T11:39:30.795Z"
   },
   {
    "duration": 55,
    "start_time": "2022-10-01T11:39:30.825Z"
   },
   {
    "duration": 56,
    "start_time": "2022-10-01T11:39:30.882Z"
   },
   {
    "duration": 33,
    "start_time": "2022-10-01T11:39:30.940Z"
   },
   {
    "duration": 34,
    "start_time": "2022-10-01T11:39:30.974Z"
   },
   {
    "duration": 41,
    "start_time": "2022-10-01T11:39:31.010Z"
   },
   {
    "duration": 35,
    "start_time": "2022-10-01T11:39:31.053Z"
   },
   {
    "duration": 15,
    "start_time": "2022-10-01T11:39:31.090Z"
   },
   {
    "duration": 55,
    "start_time": "2022-10-01T11:39:31.107Z"
   },
   {
    "duration": 31,
    "start_time": "2022-10-01T11:39:31.165Z"
   },
   {
    "duration": 37,
    "start_time": "2022-10-01T11:39:31.197Z"
   },
   {
    "duration": 39,
    "start_time": "2022-10-01T11:39:31.236Z"
   },
   {
    "duration": 11,
    "start_time": "2022-10-01T11:39:31.276Z"
   },
   {
    "duration": 12,
    "start_time": "2022-10-01T11:39:31.288Z"
   },
   {
    "duration": 23,
    "start_time": "2022-10-01T11:39:31.301Z"
   },
   {
    "duration": 41,
    "start_time": "2022-10-01T11:39:31.325Z"
   },
   {
    "duration": 116,
    "start_time": "2022-10-01T11:39:31.367Z"
   },
   {
    "duration": 229,
    "start_time": "2022-10-01T11:39:31.484Z"
   },
   {
    "duration": 17,
    "start_time": "2022-10-01T11:39:31.715Z"
   },
   {
    "duration": 341,
    "start_time": "2022-10-01T11:39:31.733Z"
   },
   {
    "duration": 89,
    "start_time": "2022-10-01T11:39:32.076Z"
   },
   {
    "duration": 0,
    "start_time": "2022-10-01T11:39:32.167Z"
   },
   {
    "duration": 0,
    "start_time": "2022-10-01T11:39:32.168Z"
   },
   {
    "duration": 0,
    "start_time": "2022-10-01T11:39:32.169Z"
   },
   {
    "duration": 0,
    "start_time": "2022-10-01T11:39:32.170Z"
   },
   {
    "duration": 0,
    "start_time": "2022-10-01T11:39:32.171Z"
   },
   {
    "duration": 0,
    "start_time": "2022-10-01T11:39:32.172Z"
   },
   {
    "duration": 0,
    "start_time": "2022-10-01T11:39:32.173Z"
   },
   {
    "duration": 3,
    "start_time": "2022-10-01T11:40:07.505Z"
   },
   {
    "duration": 60,
    "start_time": "2022-10-01T11:40:07.510Z"
   },
   {
    "duration": 11,
    "start_time": "2022-10-01T11:40:07.571Z"
   },
   {
    "duration": 15,
    "start_time": "2022-10-01T11:40:07.584Z"
   },
   {
    "duration": 6,
    "start_time": "2022-10-01T11:40:07.602Z"
   },
   {
    "duration": 10,
    "start_time": "2022-10-01T11:40:07.609Z"
   },
   {
    "duration": 33,
    "start_time": "2022-10-01T11:40:07.620Z"
   },
   {
    "duration": 7,
    "start_time": "2022-10-01T11:40:07.655Z"
   },
   {
    "duration": 13,
    "start_time": "2022-10-01T11:40:07.664Z"
   },
   {
    "duration": 3,
    "start_time": "2022-10-01T11:40:07.678Z"
   },
   {
    "duration": 10,
    "start_time": "2022-10-01T11:40:07.683Z"
   },
   {
    "duration": 12,
    "start_time": "2022-10-01T11:40:07.694Z"
   },
   {
    "duration": 3,
    "start_time": "2022-10-01T11:40:07.707Z"
   },
   {
    "duration": 30,
    "start_time": "2022-10-01T11:40:07.711Z"
   },
   {
    "duration": 13,
    "start_time": "2022-10-01T11:40:07.746Z"
   },
   {
    "duration": 11,
    "start_time": "2022-10-01T11:40:07.760Z"
   },
   {
    "duration": 9,
    "start_time": "2022-10-01T11:40:07.772Z"
   },
   {
    "duration": 9,
    "start_time": "2022-10-01T11:40:07.783Z"
   },
   {
    "duration": 8,
    "start_time": "2022-10-01T11:40:07.793Z"
   },
   {
    "duration": 4,
    "start_time": "2022-10-01T11:40:07.804Z"
   },
   {
    "duration": 23,
    "start_time": "2022-10-01T11:40:07.810Z"
   },
   {
    "duration": 116,
    "start_time": "2022-10-01T11:40:07.834Z"
   },
   {
    "duration": 233,
    "start_time": "2022-10-01T11:40:07.953Z"
   },
   {
    "duration": 4,
    "start_time": "2022-10-01T11:40:08.187Z"
   },
   {
    "duration": 301,
    "start_time": "2022-10-01T11:40:08.192Z"
   },
   {
    "duration": 3,
    "start_time": "2022-10-01T11:40:08.495Z"
   },
   {
    "duration": 254,
    "start_time": "2022-10-01T11:40:08.500Z"
   },
   {
    "duration": 4,
    "start_time": "2022-10-01T11:40:08.755Z"
   },
   {
    "duration": 17953,
    "start_time": "2022-10-01T11:40:08.761Z"
   },
   {
    "duration": 14,
    "start_time": "2022-10-01T11:40:26.715Z"
   },
   {
    "duration": 224,
    "start_time": "2022-10-01T11:40:26.734Z"
   },
   {
    "duration": 10107,
    "start_time": "2022-10-01T11:40:26.960Z"
   },
   {
    "duration": 4,
    "start_time": "2022-10-01T11:40:37.068Z"
   },
   {
    "duration": 6535,
    "start_time": "2022-10-01T11:59:57.983Z"
   },
   {
    "duration": 6,
    "start_time": "2022-10-01T12:00:04.522Z"
   },
   {
    "duration": 18563,
    "start_time": "2022-10-01T12:07:34.945Z"
   },
   {
    "duration": 4,
    "start_time": "2022-10-01T12:07:53.510Z"
   },
   {
    "duration": 1605,
    "start_time": "2022-10-03T07:16:08.901Z"
   },
   {
    "duration": 157,
    "start_time": "2022-10-03T07:16:10.508Z"
   },
   {
    "duration": 17,
    "start_time": "2022-10-03T07:16:10.666Z"
   },
   {
    "duration": 20,
    "start_time": "2022-10-03T07:16:10.686Z"
   },
   {
    "duration": 3,
    "start_time": "2022-10-03T07:16:10.708Z"
   },
   {
    "duration": 13,
    "start_time": "2022-10-03T07:16:10.713Z"
   },
   {
    "duration": 16,
    "start_time": "2022-10-03T07:16:10.728Z"
   },
   {
    "duration": 14,
    "start_time": "2022-10-03T07:16:10.747Z"
   },
   {
    "duration": 34,
    "start_time": "2022-10-03T07:16:10.763Z"
   },
   {
    "duration": 6,
    "start_time": "2022-10-03T07:16:10.800Z"
   },
   {
    "duration": 10,
    "start_time": "2022-10-03T07:16:10.807Z"
   },
   {
    "duration": 15,
    "start_time": "2022-10-03T07:16:10.819Z"
   },
   {
    "duration": 5,
    "start_time": "2022-10-03T07:16:10.836Z"
   },
   {
    "duration": 26,
    "start_time": "2022-10-03T07:16:10.843Z"
   },
   {
    "duration": 13,
    "start_time": "2022-10-03T07:16:10.896Z"
   },
   {
    "duration": 15,
    "start_time": "2022-10-03T07:16:10.910Z"
   },
   {
    "duration": 13,
    "start_time": "2022-10-03T07:16:10.926Z"
   },
   {
    "duration": 9,
    "start_time": "2022-10-03T07:16:10.940Z"
   },
   {
    "duration": 5,
    "start_time": "2022-10-03T07:16:10.951Z"
   },
   {
    "duration": 39,
    "start_time": "2022-10-03T07:16:10.958Z"
   },
   {
    "duration": 5,
    "start_time": "2022-10-03T07:16:10.999Z"
   },
   {
    "duration": 140,
    "start_time": "2022-10-03T07:16:11.006Z"
   },
   {
    "duration": 268,
    "start_time": "2022-10-03T07:16:11.148Z"
   },
   {
    "duration": 4,
    "start_time": "2022-10-03T07:16:11.418Z"
   },
   {
    "duration": 363,
    "start_time": "2022-10-03T07:16:11.423Z"
   },
   {
    "duration": 7,
    "start_time": "2022-10-03T07:16:11.788Z"
   },
   {
    "duration": 278,
    "start_time": "2022-10-03T07:16:11.797Z"
   },
   {
    "duration": 4,
    "start_time": "2022-10-03T07:16:12.078Z"
   },
   {
    "duration": 21433,
    "start_time": "2022-10-03T07:16:12.083Z"
   },
   {
    "duration": 4,
    "start_time": "2022-10-03T07:16:33.518Z"
   },
   {
    "duration": 253,
    "start_time": "2022-10-03T07:25:32.299Z"
   },
   {
    "duration": 4808,
    "start_time": "2022-10-03T07:47:16.511Z"
   },
   {
    "duration": 4,
    "start_time": "2022-10-03T07:47:26.407Z"
   },
   {
    "duration": 5,
    "start_time": "2022-10-03T07:47:56.218Z"
   },
   {
    "duration": 6,
    "start_time": "2022-10-03T07:48:02.766Z"
   },
   {
    "duration": 131,
    "start_time": "2022-10-03T08:50:40.198Z"
   },
   {
    "duration": 63,
    "start_time": "2022-10-03T08:51:02.537Z"
   },
   {
    "duration": 42,
    "start_time": "2022-10-03T08:52:38.957Z"
   },
   {
    "duration": 50,
    "start_time": "2022-10-03T08:52:49.846Z"
   },
   {
    "duration": 71,
    "start_time": "2022-10-03T08:53:19.727Z"
   },
   {
    "duration": 5,
    "start_time": "2022-10-03T09:58:40.305Z"
   },
   {
    "duration": 3,
    "start_time": "2022-10-03T10:16:06.907Z"
   },
   {
    "duration": 49,
    "start_time": "2022-10-03T10:16:06.912Z"
   },
   {
    "duration": 11,
    "start_time": "2022-10-03T10:16:06.963Z"
   },
   {
    "duration": 32,
    "start_time": "2022-10-03T10:16:06.976Z"
   },
   {
    "duration": 12,
    "start_time": "2022-10-03T10:16:07.010Z"
   },
   {
    "duration": 20,
    "start_time": "2022-10-03T10:16:07.024Z"
   },
   {
    "duration": 17,
    "start_time": "2022-10-03T10:16:07.046Z"
   },
   {
    "duration": 14,
    "start_time": "2022-10-03T10:16:07.064Z"
   },
   {
    "duration": 24,
    "start_time": "2022-10-03T10:16:07.080Z"
   },
   {
    "duration": 4,
    "start_time": "2022-10-03T10:16:07.106Z"
   },
   {
    "duration": 5,
    "start_time": "2022-10-03T10:16:07.114Z"
   },
   {
    "duration": 13,
    "start_time": "2022-10-03T10:16:07.120Z"
   },
   {
    "duration": 5,
    "start_time": "2022-10-03T10:16:07.135Z"
   },
   {
    "duration": 22,
    "start_time": "2022-10-03T10:16:07.142Z"
   },
   {
    "duration": 42,
    "start_time": "2022-10-03T10:16:07.166Z"
   },
   {
    "duration": 14,
    "start_time": "2022-10-03T10:16:07.209Z"
   },
   {
    "duration": 12,
    "start_time": "2022-10-03T10:16:07.224Z"
   },
   {
    "duration": 8,
    "start_time": "2022-10-03T10:16:07.237Z"
   },
   {
    "duration": 9,
    "start_time": "2022-10-03T10:16:07.247Z"
   },
   {
    "duration": 23,
    "start_time": "2022-10-03T10:16:07.258Z"
   },
   {
    "duration": 14,
    "start_time": "2022-10-03T10:16:07.283Z"
   },
   {
    "duration": 106,
    "start_time": "2022-10-03T10:16:07.299Z"
   },
   {
    "duration": 267,
    "start_time": "2022-10-03T10:16:07.407Z"
   },
   {
    "duration": 4,
    "start_time": "2022-10-03T10:16:07.676Z"
   },
   {
    "duration": 9,
    "start_time": "2022-10-03T10:16:12.470Z"
   },
   {
    "duration": 9,
    "start_time": "2022-10-03T10:16:20.224Z"
   },
   {
    "duration": 1223,
    "start_time": "2022-10-03T10:17:09.268Z"
   },
   {
    "duration": 1361,
    "start_time": "2022-10-03T10:18:38.510Z"
   },
   {
    "duration": 8,
    "start_time": "2022-10-03T10:19:02.654Z"
   },
   {
    "duration": 8,
    "start_time": "2022-10-03T10:19:05.078Z"
   },
   {
    "duration": 6,
    "start_time": "2022-10-03T10:20:19.200Z"
   },
   {
    "duration": 8,
    "start_time": "2022-10-03T10:20:19.533Z"
   },
   {
    "duration": 7,
    "start_time": "2022-10-03T10:20:30.415Z"
   },
   {
    "duration": 8,
    "start_time": "2022-10-03T10:20:31.182Z"
   },
   {
    "duration": 1827,
    "start_time": "2022-10-03T10:20:38.485Z"
   },
   {
    "duration": 0,
    "start_time": "2022-10-03T10:20:40.314Z"
   },
   {
    "duration": 7,
    "start_time": "2022-10-03T10:21:18.561Z"
   },
   {
    "duration": 8,
    "start_time": "2022-10-03T10:21:19.405Z"
   },
   {
    "duration": 6,
    "start_time": "2022-10-03T10:21:50.420Z"
   },
   {
    "duration": 8,
    "start_time": "2022-10-03T10:21:51.030Z"
   },
   {
    "duration": 7,
    "start_time": "2022-10-03T11:31:40.105Z"
   },
   {
    "duration": 8,
    "start_time": "2022-10-03T11:31:43.483Z"
   },
   {
    "duration": 13,
    "start_time": "2022-10-03T11:32:49.683Z"
   },
   {
    "duration": 3,
    "start_time": "2022-10-03T11:33:04.917Z"
   },
   {
    "duration": 43,
    "start_time": "2022-10-03T11:33:04.922Z"
   },
   {
    "duration": 13,
    "start_time": "2022-10-03T11:33:04.967Z"
   },
   {
    "duration": 12,
    "start_time": "2022-10-03T11:33:04.982Z"
   },
   {
    "duration": 6,
    "start_time": "2022-10-03T11:33:04.996Z"
   },
   {
    "duration": 8,
    "start_time": "2022-10-03T11:33:05.003Z"
   },
   {
    "duration": 7,
    "start_time": "2022-10-03T11:33:05.012Z"
   },
   {
    "duration": 7,
    "start_time": "2022-10-03T11:33:05.021Z"
   },
   {
    "duration": 16,
    "start_time": "2022-10-03T11:33:05.029Z"
   },
   {
    "duration": 4,
    "start_time": "2022-10-03T11:33:05.047Z"
   },
   {
    "duration": 5,
    "start_time": "2022-10-03T11:33:05.054Z"
   },
   {
    "duration": 45,
    "start_time": "2022-10-03T11:33:05.060Z"
   },
   {
    "duration": 4,
    "start_time": "2022-10-03T11:33:05.107Z"
   },
   {
    "duration": 20,
    "start_time": "2022-10-03T11:33:05.113Z"
   },
   {
    "duration": 12,
    "start_time": "2022-10-03T11:33:05.135Z"
   },
   {
    "duration": 12,
    "start_time": "2022-10-03T11:33:05.149Z"
   },
   {
    "duration": 35,
    "start_time": "2022-10-03T11:33:05.162Z"
   },
   {
    "duration": 6,
    "start_time": "2022-10-03T11:33:05.199Z"
   },
   {
    "duration": 6,
    "start_time": "2022-10-03T11:33:05.207Z"
   },
   {
    "duration": 5,
    "start_time": "2022-10-03T11:33:05.214Z"
   },
   {
    "duration": 7,
    "start_time": "2022-10-03T11:33:05.221Z"
   },
   {
    "duration": 116,
    "start_time": "2022-10-03T11:33:05.229Z"
   },
   {
    "duration": 262,
    "start_time": "2022-10-03T11:33:05.347Z"
   },
   {
    "duration": 4,
    "start_time": "2022-10-03T11:33:05.611Z"
   },
   {
    "duration": 11,
    "start_time": "2022-10-03T11:33:05.616Z"
   },
   {
    "duration": 324,
    "start_time": "2022-10-03T11:33:05.629Z"
   },
   {
    "duration": 4,
    "start_time": "2022-10-03T11:33:05.955Z"
   },
   {
    "duration": 15,
    "start_time": "2022-10-03T11:33:05.961Z"
   },
   {
    "duration": 355,
    "start_time": "2022-10-03T11:39:23.901Z"
   },
   {
    "duration": 13,
    "start_time": "2022-10-03T11:47:08.705Z"
   },
   {
    "duration": 11,
    "start_time": "2022-10-03T11:47:36.159Z"
   },
   {
    "duration": 8,
    "start_time": "2022-10-03T11:47:55.646Z"
   },
   {
    "duration": 12,
    "start_time": "2022-10-03T11:49:42.656Z"
   },
   {
    "duration": 8,
    "start_time": "2022-10-03T11:50:10.672Z"
   },
   {
    "duration": 8,
    "start_time": "2022-10-03T11:50:14.098Z"
   },
   {
    "duration": 13,
    "start_time": "2022-10-03T11:51:58.728Z"
   },
   {
    "duration": 9,
    "start_time": "2022-10-03T11:52:31.072Z"
   },
   {
    "duration": 9,
    "start_time": "2022-10-03T11:52:33.690Z"
   },
   {
    "duration": 6,
    "start_time": "2022-10-03T11:53:39.594Z"
   },
   {
    "duration": 10,
    "start_time": "2022-10-03T11:54:00.185Z"
   },
   {
    "duration": 9,
    "start_time": "2022-10-03T11:54:00.890Z"
   },
   {
    "duration": 3,
    "start_time": "2022-10-03T11:54:21.153Z"
   },
   {
    "duration": 47,
    "start_time": "2022-10-03T11:54:21.158Z"
   },
   {
    "duration": 100,
    "start_time": "2022-10-03T11:54:21.207Z"
   },
   {
    "duration": 14,
    "start_time": "2022-10-03T11:54:21.309Z"
   },
   {
    "duration": 6,
    "start_time": "2022-10-03T11:54:21.326Z"
   },
   {
    "duration": 12,
    "start_time": "2022-10-03T11:54:21.333Z"
   },
   {
    "duration": 8,
    "start_time": "2022-10-03T11:54:21.346Z"
   },
   {
    "duration": 8,
    "start_time": "2022-10-03T11:54:21.356Z"
   },
   {
    "duration": 31,
    "start_time": "2022-10-03T11:54:21.365Z"
   },
   {
    "duration": 3,
    "start_time": "2022-10-03T11:54:21.398Z"
   },
   {
    "duration": 5,
    "start_time": "2022-10-03T11:54:21.404Z"
   },
   {
    "duration": 13,
    "start_time": "2022-10-03T11:54:21.411Z"
   },
   {
    "duration": 4,
    "start_time": "2022-10-03T11:54:21.425Z"
   },
   {
    "duration": 26,
    "start_time": "2022-10-03T11:54:21.430Z"
   },
   {
    "duration": 12,
    "start_time": "2022-10-03T11:54:21.458Z"
   },
   {
    "duration": 33,
    "start_time": "2022-10-03T11:54:21.471Z"
   },
   {
    "duration": 14,
    "start_time": "2022-10-03T11:54:21.506Z"
   },
   {
    "duration": 10,
    "start_time": "2022-10-03T11:54:21.522Z"
   },
   {
    "duration": 9,
    "start_time": "2022-10-03T11:54:21.534Z"
   },
   {
    "duration": 9,
    "start_time": "2022-10-03T11:54:21.544Z"
   },
   {
    "duration": 11,
    "start_time": "2022-10-03T11:54:21.554Z"
   },
   {
    "duration": 106,
    "start_time": "2022-10-03T11:54:21.567Z"
   },
   {
    "duration": 270,
    "start_time": "2022-10-03T11:54:21.675Z"
   },
   {
    "duration": 4,
    "start_time": "2022-10-03T11:54:21.947Z"
   },
   {
    "duration": 13,
    "start_time": "2022-10-03T11:54:21.953Z"
   },
   {
    "duration": 349,
    "start_time": "2022-10-03T11:54:21.967Z"
   },
   {
    "duration": 4,
    "start_time": "2022-10-03T11:54:22.318Z"
   },
   {
    "duration": 14,
    "start_time": "2022-10-03T11:54:22.324Z"
   },
   {
    "duration": 16,
    "start_time": "2022-10-03T11:54:22.341Z"
   },
   {
    "duration": 3,
    "start_time": "2022-10-03T12:02:22.597Z"
   },
   {
    "duration": 47,
    "start_time": "2022-10-03T12:02:22.602Z"
   },
   {
    "duration": 12,
    "start_time": "2022-10-03T12:02:22.651Z"
   },
   {
    "duration": 14,
    "start_time": "2022-10-03T12:02:22.665Z"
   },
   {
    "duration": 14,
    "start_time": "2022-10-03T12:02:22.681Z"
   },
   {
    "duration": 6,
    "start_time": "2022-10-03T12:02:22.696Z"
   },
   {
    "duration": 5,
    "start_time": "2022-10-03T12:02:22.704Z"
   },
   {
    "duration": 9,
    "start_time": "2022-10-03T12:02:22.711Z"
   },
   {
    "duration": 17,
    "start_time": "2022-10-03T12:02:22.721Z"
   },
   {
    "duration": 4,
    "start_time": "2022-10-03T12:02:22.739Z"
   },
   {
    "duration": 5,
    "start_time": "2022-10-03T12:02:22.745Z"
   },
   {
    "duration": 15,
    "start_time": "2022-10-03T12:02:22.751Z"
   },
   {
    "duration": 4,
    "start_time": "2022-10-03T12:02:22.796Z"
   },
   {
    "duration": 27,
    "start_time": "2022-10-03T12:02:22.801Z"
   },
   {
    "duration": 13,
    "start_time": "2022-10-03T12:02:22.830Z"
   },
   {
    "duration": 42,
    "start_time": "2022-10-03T12:02:22.845Z"
   },
   {
    "duration": 12,
    "start_time": "2022-10-03T12:02:22.889Z"
   },
   {
    "duration": 8,
    "start_time": "2022-10-03T12:02:22.902Z"
   },
   {
    "duration": 12,
    "start_time": "2022-10-03T12:02:22.912Z"
   },
   {
    "duration": 9,
    "start_time": "2022-10-03T12:02:22.926Z"
   },
   {
    "duration": 11,
    "start_time": "2022-10-03T12:02:22.937Z"
   },
   {
    "duration": 106,
    "start_time": "2022-10-03T12:02:22.949Z"
   },
   {
    "duration": 248,
    "start_time": "2022-10-03T12:02:23.057Z"
   },
   {
    "duration": 4,
    "start_time": "2022-10-03T12:02:23.306Z"
   },
   {
    "duration": 11,
    "start_time": "2022-10-03T12:02:23.312Z"
   },
   {
    "duration": 317,
    "start_time": "2022-10-03T12:02:23.324Z"
   },
   {
    "duration": 3,
    "start_time": "2022-10-03T12:02:23.643Z"
   },
   {
    "duration": 15,
    "start_time": "2022-10-03T12:02:23.648Z"
   },
   {
    "duration": 262,
    "start_time": "2022-10-03T12:02:23.665Z"
   },
   {
    "duration": 3,
    "start_time": "2022-10-03T12:02:23.929Z"
   },
   {
    "duration": 11,
    "start_time": "2022-10-03T12:02:23.934Z"
   },
   {
    "duration": 19610,
    "start_time": "2022-10-03T12:02:23.947Z"
   },
   {
    "duration": 4,
    "start_time": "2022-10-03T12:02:43.558Z"
   },
   {
    "duration": 252,
    "start_time": "2022-10-03T12:02:43.564Z"
   },
   {
    "duration": 8,
    "start_time": "2022-10-03T12:02:43.817Z"
   },
   {
    "duration": 4513,
    "start_time": "2022-10-03T12:02:43.827Z"
   },
   {
    "duration": 4,
    "start_time": "2022-10-03T12:02:48.342Z"
   },
   {
    "duration": 16,
    "start_time": "2022-10-03T12:02:48.347Z"
   },
   {
    "duration": 41,
    "start_time": "2022-10-03T12:02:48.365Z"
   },
   {
    "duration": 9,
    "start_time": "2022-10-03T12:02:48.496Z"
   },
   {
    "duration": 8,
    "start_time": "2022-10-03T12:03:51.868Z"
   },
   {
    "duration": 4,
    "start_time": "2022-10-03T12:04:50.533Z"
   },
   {
    "duration": 49,
    "start_time": "2022-10-03T12:04:50.539Z"
   },
   {
    "duration": 13,
    "start_time": "2022-10-03T12:04:50.590Z"
   },
   {
    "duration": 13,
    "start_time": "2022-10-03T12:04:50.605Z"
   },
   {
    "duration": 6,
    "start_time": "2022-10-03T12:04:50.620Z"
   },
   {
    "duration": 7,
    "start_time": "2022-10-03T12:04:50.628Z"
   },
   {
    "duration": 5,
    "start_time": "2022-10-03T12:04:50.636Z"
   },
   {
    "duration": 7,
    "start_time": "2022-10-03T12:04:50.643Z"
   },
   {
    "duration": 51,
    "start_time": "2022-10-03T12:04:50.652Z"
   },
   {
    "duration": 4,
    "start_time": "2022-10-03T12:04:50.705Z"
   },
   {
    "duration": 16,
    "start_time": "2022-10-03T12:04:50.712Z"
   },
   {
    "duration": 14,
    "start_time": "2022-10-03T12:04:50.730Z"
   },
   {
    "duration": 5,
    "start_time": "2022-10-03T12:04:50.746Z"
   },
   {
    "duration": 45,
    "start_time": "2022-10-03T12:04:50.752Z"
   },
   {
    "duration": 11,
    "start_time": "2022-10-03T12:04:50.799Z"
   },
   {
    "duration": 12,
    "start_time": "2022-10-03T12:04:50.812Z"
   },
   {
    "duration": 12,
    "start_time": "2022-10-03T12:04:50.826Z"
   },
   {
    "duration": 4,
    "start_time": "2022-10-03T12:04:50.840Z"
   },
   {
    "duration": 6,
    "start_time": "2022-10-03T12:04:50.845Z"
   },
   {
    "duration": 8,
    "start_time": "2022-10-03T12:04:50.852Z"
   },
   {
    "duration": 9,
    "start_time": "2022-10-03T12:04:50.861Z"
   },
   {
    "duration": 85,
    "start_time": "2022-10-03T12:04:50.895Z"
   },
   {
    "duration": 238,
    "start_time": "2022-10-03T12:04:50.981Z"
   },
   {
    "duration": 4,
    "start_time": "2022-10-03T12:04:51.220Z"
   },
   {
    "duration": 8,
    "start_time": "2022-10-03T12:04:51.225Z"
   },
   {
    "duration": 317,
    "start_time": "2022-10-03T12:04:51.235Z"
   },
   {
    "duration": 4,
    "start_time": "2022-10-03T12:04:51.553Z"
   },
   {
    "duration": 11,
    "start_time": "2022-10-03T12:04:51.559Z"
   },
   {
    "duration": 256,
    "start_time": "2022-10-03T12:04:51.573Z"
   },
   {
    "duration": 5,
    "start_time": "2022-10-03T12:04:51.831Z"
   },
   {
    "duration": 13,
    "start_time": "2022-10-03T12:04:51.837Z"
   },
   {
    "duration": 18977,
    "start_time": "2022-10-03T12:04:51.852Z"
   },
   {
    "duration": 5,
    "start_time": "2022-10-03T12:05:10.832Z"
   },
   {
    "duration": 237,
    "start_time": "2022-10-03T12:05:10.838Z"
   },
   {
    "duration": 8,
    "start_time": "2022-10-03T12:05:11.076Z"
   },
   {
    "duration": 4340,
    "start_time": "2022-10-03T12:05:11.086Z"
   },
   {
    "duration": 4,
    "start_time": "2022-10-03T12:05:15.428Z"
   },
   {
    "duration": 12,
    "start_time": "2022-10-03T12:05:15.434Z"
   },
   {
    "duration": 149,
    "start_time": "2022-10-03T12:05:15.447Z"
   },
   {
    "duration": 99,
    "start_time": "2022-10-03T12:05:15.597Z"
   },
   {
    "duration": 12,
    "start_time": "2022-10-03T12:05:15.697Z"
   },
   {
    "duration": 49,
    "start_time": "2022-10-04T08:10:10.998Z"
   },
   {
    "duration": 1470,
    "start_time": "2022-10-04T08:21:27.717Z"
   },
   {
    "duration": 345,
    "start_time": "2022-10-04T08:21:29.189Z"
   },
   {
    "duration": 15,
    "start_time": "2022-10-04T08:21:29.536Z"
   },
   {
    "duration": 15,
    "start_time": "2022-10-04T08:21:29.552Z"
   },
   {
    "duration": 3,
    "start_time": "2022-10-04T08:21:29.569Z"
   },
   {
    "duration": 7,
    "start_time": "2022-10-04T08:21:29.573Z"
   },
   {
    "duration": 6,
    "start_time": "2022-10-04T08:21:29.582Z"
   },
   {
    "duration": 8,
    "start_time": "2022-10-04T08:21:29.589Z"
   },
   {
    "duration": 34,
    "start_time": "2022-10-04T08:21:29.598Z"
   },
   {
    "duration": 5,
    "start_time": "2022-10-04T08:21:29.635Z"
   },
   {
    "duration": 5,
    "start_time": "2022-10-04T08:21:29.641Z"
   },
   {
    "duration": 13,
    "start_time": "2022-10-04T08:21:29.647Z"
   },
   {
    "duration": 5,
    "start_time": "2022-10-04T08:21:29.661Z"
   },
   {
    "duration": 21,
    "start_time": "2022-10-04T08:21:29.667Z"
   },
   {
    "duration": 35,
    "start_time": "2022-10-04T08:21:29.689Z"
   },
   {
    "duration": 11,
    "start_time": "2022-10-04T08:21:29.725Z"
   },
   {
    "duration": 11,
    "start_time": "2022-10-04T08:21:29.737Z"
   },
   {
    "duration": 6,
    "start_time": "2022-10-04T08:21:29.750Z"
   },
   {
    "duration": 6,
    "start_time": "2022-10-04T08:21:29.758Z"
   },
   {
    "duration": 7,
    "start_time": "2022-10-04T08:21:29.765Z"
   },
   {
    "duration": 13,
    "start_time": "2022-10-04T08:21:29.773Z"
   },
   {
    "duration": 129,
    "start_time": "2022-10-04T08:21:29.788Z"
   },
   {
    "duration": 230,
    "start_time": "2022-10-04T08:21:29.918Z"
   },
   {
    "duration": 4,
    "start_time": "2022-10-04T08:21:30.149Z"
   },
   {
    "duration": 32,
    "start_time": "2022-10-04T08:21:30.154Z"
   },
   {
    "duration": 308,
    "start_time": "2022-10-04T08:21:30.187Z"
   },
   {
    "duration": 4,
    "start_time": "2022-10-04T08:21:30.496Z"
   },
   {
    "duration": 48,
    "start_time": "2022-10-04T08:21:30.503Z"
   },
   {
    "duration": 309,
    "start_time": "2022-10-04T08:21:30.552Z"
   },
   {
    "duration": 4,
    "start_time": "2022-10-04T08:21:30.863Z"
   },
   {
    "duration": 46,
    "start_time": "2022-10-04T08:21:30.869Z"
   },
   {
    "duration": 18355,
    "start_time": "2022-10-04T08:21:30.917Z"
   },
   {
    "duration": 4,
    "start_time": "2022-10-04T08:21:49.273Z"
   },
   {
    "duration": 253,
    "start_time": "2022-10-04T08:21:49.279Z"
   },
   {
    "duration": 9,
    "start_time": "2022-10-04T08:21:49.533Z"
   },
   {
    "duration": 4468,
    "start_time": "2022-10-04T08:21:49.544Z"
   },
   {
    "duration": 8,
    "start_time": "2022-10-04T08:21:54.014Z"
   },
   {
    "duration": 40,
    "start_time": "2022-10-04T08:21:54.024Z"
   },
   {
    "duration": 158,
    "start_time": "2022-10-04T08:21:54.066Z"
   },
   {
    "duration": 126,
    "start_time": "2022-10-04T08:21:54.225Z"
   },
   {
    "duration": 28,
    "start_time": "2022-10-04T08:21:54.353Z"
   },
   {
    "duration": 50,
    "start_time": "2022-10-04T08:21:54.382Z"
   },
   {
    "duration": 1222,
    "start_time": "2022-10-04T08:25:27.686Z"
   },
   {
    "duration": 39,
    "start_time": "2022-10-04T08:25:28.910Z"
   },
   {
    "duration": 11,
    "start_time": "2022-10-04T08:25:28.950Z"
   },
   {
    "duration": 14,
    "start_time": "2022-10-04T08:25:28.963Z"
   },
   {
    "duration": 3,
    "start_time": "2022-10-04T08:25:28.979Z"
   },
   {
    "duration": 6,
    "start_time": "2022-10-04T08:25:28.983Z"
   },
   {
    "duration": 6,
    "start_time": "2022-10-04T08:25:28.991Z"
   },
   {
    "duration": 6,
    "start_time": "2022-10-04T08:25:28.999Z"
   },
   {
    "duration": 25,
    "start_time": "2022-10-04T08:25:29.006Z"
   },
   {
    "duration": 6,
    "start_time": "2022-10-04T08:25:29.034Z"
   },
   {
    "duration": 3,
    "start_time": "2022-10-04T08:25:29.042Z"
   },
   {
    "duration": 11,
    "start_time": "2022-10-04T08:25:29.047Z"
   },
   {
    "duration": 4,
    "start_time": "2022-10-04T08:25:29.059Z"
   },
   {
    "duration": 18,
    "start_time": "2022-10-04T08:25:29.065Z"
   },
   {
    "duration": 10,
    "start_time": "2022-10-04T08:25:29.085Z"
   },
   {
    "duration": 9,
    "start_time": "2022-10-04T08:25:29.122Z"
   },
   {
    "duration": 12,
    "start_time": "2022-10-04T08:25:29.132Z"
   },
   {
    "duration": 5,
    "start_time": "2022-10-04T08:25:29.146Z"
   },
   {
    "duration": 6,
    "start_time": "2022-10-04T08:25:29.152Z"
   },
   {
    "duration": 5,
    "start_time": "2022-10-04T08:25:29.159Z"
   },
   {
    "duration": 4,
    "start_time": "2022-10-04T08:25:29.165Z"
   },
   {
    "duration": 114,
    "start_time": "2022-10-04T08:25:29.171Z"
   },
   {
    "duration": 224,
    "start_time": "2022-10-04T08:25:29.287Z"
   },
   {
    "duration": 4,
    "start_time": "2022-10-04T08:25:29.513Z"
   },
   {
    "duration": 6,
    "start_time": "2022-10-04T08:25:29.522Z"
   },
   {
    "duration": 323,
    "start_time": "2022-10-04T08:25:29.530Z"
   },
   {
    "duration": 5,
    "start_time": "2022-10-04T08:25:29.854Z"
   },
   {
    "duration": 8,
    "start_time": "2022-10-04T08:25:29.863Z"
   },
   {
    "duration": 257,
    "start_time": "2022-10-04T08:25:29.873Z"
   },
   {
    "duration": 5,
    "start_time": "2022-10-04T08:25:30.132Z"
   },
   {
    "duration": 27,
    "start_time": "2022-10-04T08:25:30.138Z"
   },
   {
    "duration": 18242,
    "start_time": "2022-10-04T08:25:30.167Z"
   },
   {
    "duration": 3,
    "start_time": "2022-10-04T08:25:48.411Z"
   },
   {
    "duration": 223,
    "start_time": "2022-10-04T08:25:48.422Z"
   },
   {
    "duration": 7,
    "start_time": "2022-10-04T08:25:48.647Z"
   },
   {
    "duration": 4436,
    "start_time": "2022-10-04T08:25:48.656Z"
   },
   {
    "duration": 4,
    "start_time": "2022-10-04T08:25:53.094Z"
   },
   {
    "duration": 11,
    "start_time": "2022-10-04T08:25:53.099Z"
   },
   {
    "duration": 111,
    "start_time": "2022-10-04T08:25:53.112Z"
   },
   {
    "duration": 97,
    "start_time": "2022-10-04T08:25:53.225Z"
   },
   {
    "duration": 13,
    "start_time": "2022-10-04T08:25:53.323Z"
   },
   {
    "duration": 41,
    "start_time": "2022-10-04T08:25:53.337Z"
   },
   {
    "duration": 4,
    "start_time": "2022-10-04T14:04:11.601Z"
   },
   {
    "duration": 57,
    "start_time": "2022-10-04T14:04:11.610Z"
   },
   {
    "duration": 15,
    "start_time": "2022-10-04T14:04:11.670Z"
   },
   {
    "duration": 24,
    "start_time": "2022-10-04T14:04:11.687Z"
   },
   {
    "duration": 10,
    "start_time": "2022-10-04T14:04:11.713Z"
   },
   {
    "duration": 13,
    "start_time": "2022-10-04T14:04:11.726Z"
   },
   {
    "duration": 11,
    "start_time": "2022-10-04T14:04:11.741Z"
   },
   {
    "duration": 20,
    "start_time": "2022-10-04T14:04:11.753Z"
   },
   {
    "duration": 18,
    "start_time": "2022-10-04T14:04:11.775Z"
   },
   {
    "duration": 5,
    "start_time": "2022-10-04T14:04:11.795Z"
   },
   {
    "duration": 11,
    "start_time": "2022-10-04T14:04:11.801Z"
   },
   {
    "duration": 28,
    "start_time": "2022-10-04T14:04:11.813Z"
   },
   {
    "duration": 21,
    "start_time": "2022-10-04T14:04:11.843Z"
   },
   {
    "duration": 22,
    "start_time": "2022-10-04T14:04:11.866Z"
   },
   {
    "duration": 12,
    "start_time": "2022-10-04T14:04:11.890Z"
   },
   {
    "duration": 42,
    "start_time": "2022-10-04T14:04:11.903Z"
   },
   {
    "duration": 14,
    "start_time": "2022-10-04T14:04:11.946Z"
   },
   {
    "duration": 6,
    "start_time": "2022-10-04T14:04:11.962Z"
   },
   {
    "duration": 12,
    "start_time": "2022-10-04T14:04:11.969Z"
   },
   {
    "duration": 7,
    "start_time": "2022-10-04T14:04:11.982Z"
   },
   {
    "duration": 7,
    "start_time": "2022-10-04T14:04:11.990Z"
   },
   {
    "duration": 95,
    "start_time": "2022-10-04T14:04:11.999Z"
   },
   {
    "duration": 249,
    "start_time": "2022-10-04T14:04:12.095Z"
   },
   {
    "duration": 5,
    "start_time": "2022-10-04T14:04:12.347Z"
   },
   {
    "duration": 36,
    "start_time": "2022-10-04T14:04:12.353Z"
   },
   {
    "duration": 337,
    "start_time": "2022-10-04T14:04:12.391Z"
   },
   {
    "duration": 4,
    "start_time": "2022-10-04T14:04:12.729Z"
   },
   {
    "duration": 15,
    "start_time": "2022-10-04T14:04:12.735Z"
   },
   {
    "duration": 245,
    "start_time": "2022-10-04T14:04:12.752Z"
   },
   {
    "duration": 5,
    "start_time": "2022-10-04T14:04:12.998Z"
   },
   {
    "duration": 20,
    "start_time": "2022-10-04T14:04:13.004Z"
   },
   {
    "duration": 18873,
    "start_time": "2022-10-04T14:04:13.025Z"
   },
   {
    "duration": 4,
    "start_time": "2022-10-04T14:04:31.900Z"
   },
   {
    "duration": 228,
    "start_time": "2022-10-04T14:04:31.905Z"
   },
   {
    "duration": 7,
    "start_time": "2022-10-04T14:04:32.135Z"
   },
   {
    "duration": 4258,
    "start_time": "2022-10-04T14:04:32.143Z"
   },
   {
    "duration": 5,
    "start_time": "2022-10-04T14:04:36.403Z"
   },
   {
    "duration": 20,
    "start_time": "2022-10-04T14:04:36.410Z"
   },
   {
    "duration": 97,
    "start_time": "2022-10-04T14:04:36.432Z"
   },
   {
    "duration": 98,
    "start_time": "2022-10-04T14:04:36.532Z"
   },
   {
    "duration": 15,
    "start_time": "2022-10-04T14:04:36.632Z"
   },
   {
    "duration": 41,
    "start_time": "2022-10-04T14:04:36.652Z"
   },
   {
    "duration": 29,
    "start_time": "2022-10-04T14:04:36.695Z"
   },
   {
    "duration": 295,
    "start_time": "2022-10-04T14:07:21.414Z"
   },
   {
    "duration": 4,
    "start_time": "2022-10-04T14:07:58.763Z"
   },
   {
    "duration": 250,
    "start_time": "2022-10-04T14:08:32.575Z"
   },
   {
    "duration": 4,
    "start_time": "2022-10-04T14:08:33.510Z"
   },
   {
    "duration": 19861,
    "start_time": "2022-10-04T14:18:46.323Z"
   },
   {
    "duration": 4,
    "start_time": "2022-10-04T14:19:50.612Z"
   },
   {
    "duration": 5323,
    "start_time": "2022-10-04T14:20:08.932Z"
   },
   {
    "duration": 3,
    "start_time": "2022-10-04T14:20:26.984Z"
   },
   {
    "duration": 3952,
    "start_time": "2022-10-04T14:20:40.557Z"
   },
   {
    "duration": 4,
    "start_time": "2022-10-04T14:20:44.511Z"
   },
   {
    "duration": 89,
    "start_time": "2022-10-04T14:24:16.141Z"
   },
   {
    "duration": 1706,
    "start_time": "2022-10-05T07:31:00.566Z"
   },
   {
    "duration": 5,
    "start_time": "2022-10-05T07:31:11.670Z"
   },
   {
    "duration": 128,
    "start_time": "2022-10-05T07:31:11.677Z"
   },
   {
    "duration": 17,
    "start_time": "2022-10-05T07:31:11.807Z"
   },
   {
    "duration": 19,
    "start_time": "2022-10-05T07:31:11.825Z"
   },
   {
    "duration": 3,
    "start_time": "2022-10-05T07:31:11.847Z"
   },
   {
    "duration": 19,
    "start_time": "2022-10-05T07:31:11.852Z"
   },
   {
    "duration": 22,
    "start_time": "2022-10-05T07:31:11.873Z"
   },
   {
    "duration": 14,
    "start_time": "2022-10-05T07:31:11.896Z"
   },
   {
    "duration": 21,
    "start_time": "2022-10-05T07:31:11.912Z"
   },
   {
    "duration": 17,
    "start_time": "2022-10-05T07:31:11.935Z"
   },
   {
    "duration": 10,
    "start_time": "2022-10-05T07:31:11.954Z"
   },
   {
    "duration": 26,
    "start_time": "2022-10-05T07:31:11.966Z"
   },
   {
    "duration": 5,
    "start_time": "2022-10-05T07:31:11.993Z"
   },
   {
    "duration": 36,
    "start_time": "2022-10-05T07:31:12.000Z"
   },
   {
    "duration": 14,
    "start_time": "2022-10-05T07:31:12.038Z"
   },
   {
    "duration": 20,
    "start_time": "2022-10-05T07:31:12.054Z"
   },
   {
    "duration": 12,
    "start_time": "2022-10-05T07:31:12.076Z"
   },
   {
    "duration": 14,
    "start_time": "2022-10-05T07:31:12.090Z"
   },
   {
    "duration": 17,
    "start_time": "2022-10-05T07:31:12.106Z"
   },
   {
    "duration": 24,
    "start_time": "2022-10-05T07:31:12.125Z"
   },
   {
    "duration": 9,
    "start_time": "2022-10-05T07:31:12.151Z"
   },
   {
    "duration": 129,
    "start_time": "2022-10-05T07:31:12.162Z"
   },
   {
    "duration": 358,
    "start_time": "2022-10-05T07:31:19.928Z"
   },
   {
    "duration": 5,
    "start_time": "2022-10-05T07:31:20.735Z"
   },
   {
    "duration": 4636,
    "start_time": "2022-10-05T07:34:55.476Z"
   },
   {
    "duration": 5,
    "start_time": "2022-10-05T07:35:17.783Z"
   },
   {
    "duration": 9328,
    "start_time": "2022-10-05T07:42:50.625Z"
   },
   {
    "duration": 5,
    "start_time": "2022-10-05T07:43:04.924Z"
   },
   {
    "duration": 30818,
    "start_time": "2022-10-05T07:43:40.294Z"
   },
   {
    "duration": 5,
    "start_time": "2022-10-05T07:44:11.114Z"
   },
   {
    "duration": 4566,
    "start_time": "2022-10-05T07:48:44.121Z"
   },
   {
    "duration": 4,
    "start_time": "2022-10-05T07:48:48.689Z"
   },
   {
    "duration": 1681,
    "start_time": "2022-10-05T07:50:57.698Z"
   },
   {
    "duration": 5,
    "start_time": "2022-10-05T07:51:00.741Z"
   },
   {
    "duration": 5139,
    "start_time": "2022-10-05T07:52:33.480Z"
   },
   {
    "duration": 4,
    "start_time": "2022-10-05T07:52:38.621Z"
   },
   {
    "duration": 1556,
    "start_time": "2022-10-05T07:53:08.291Z"
   },
   {
    "duration": 6,
    "start_time": "2022-10-05T07:53:09.849Z"
   },
   {
    "duration": 3755,
    "start_time": "2022-10-05T07:55:23.905Z"
   },
   {
    "duration": 4,
    "start_time": "2022-10-05T07:55:27.662Z"
   },
   {
    "duration": 6248,
    "start_time": "2022-10-05T07:57:06.361Z"
   },
   {
    "duration": 5,
    "start_time": "2022-10-05T07:57:12.612Z"
   },
   {
    "duration": 7488,
    "start_time": "2022-10-05T07:57:43.553Z"
   },
   {
    "duration": 11,
    "start_time": "2022-10-05T07:57:51.043Z"
   },
   {
    "duration": 5688,
    "start_time": "2022-10-05T08:02:11.378Z"
   },
   {
    "duration": 5,
    "start_time": "2022-10-05T08:02:17.068Z"
   },
   {
    "duration": 13750,
    "start_time": "2022-10-05T08:02:36.636Z"
   },
   {
    "duration": 4,
    "start_time": "2022-10-05T08:02:50.389Z"
   },
   {
    "duration": 19034,
    "start_time": "2022-10-05T08:03:06.248Z"
   },
   {
    "duration": 5,
    "start_time": "2022-10-05T08:03:25.285Z"
   },
   {
    "duration": 4,
    "start_time": "2022-10-05T10:26:23.876Z"
   },
   {
    "duration": 124,
    "start_time": "2022-10-05T10:26:24.562Z"
   },
   {
    "duration": 1450,
    "start_time": "2022-10-05T11:44:16.730Z"
   },
   {
    "duration": 43,
    "start_time": "2022-10-05T11:44:18.183Z"
   },
   {
    "duration": 14,
    "start_time": "2022-10-05T11:44:18.228Z"
   },
   {
    "duration": 18,
    "start_time": "2022-10-05T11:44:18.244Z"
   },
   {
    "duration": 6,
    "start_time": "2022-10-05T11:44:18.263Z"
   },
   {
    "duration": 11,
    "start_time": "2022-10-05T11:44:18.271Z"
   },
   {
    "duration": 7,
    "start_time": "2022-10-05T11:44:18.284Z"
   },
   {
    "duration": 17,
    "start_time": "2022-10-05T11:44:18.293Z"
   },
   {
    "duration": 20,
    "start_time": "2022-10-05T11:44:18.312Z"
   },
   {
    "duration": 20,
    "start_time": "2022-10-05T11:44:18.335Z"
   },
   {
    "duration": 4,
    "start_time": "2022-10-05T11:44:18.357Z"
   },
   {
    "duration": 19,
    "start_time": "2022-10-05T11:44:18.363Z"
   },
   {
    "duration": 6,
    "start_time": "2022-10-05T11:44:18.383Z"
   },
   {
    "duration": 26,
    "start_time": "2022-10-05T11:44:18.390Z"
   },
   {
    "duration": 37,
    "start_time": "2022-10-05T11:44:18.418Z"
   },
   {
    "duration": 11,
    "start_time": "2022-10-05T11:44:18.457Z"
   },
   {
    "duration": 13,
    "start_time": "2022-10-05T11:44:18.470Z"
   },
   {
    "duration": 7,
    "start_time": "2022-10-05T11:44:18.485Z"
   },
   {
    "duration": 6,
    "start_time": "2022-10-05T11:44:18.494Z"
   },
   {
    "duration": 11,
    "start_time": "2022-10-05T11:44:18.502Z"
   },
   {
    "duration": 39,
    "start_time": "2022-10-05T11:44:18.515Z"
   },
   {
    "duration": 135,
    "start_time": "2022-10-05T11:44:18.556Z"
   },
   {
    "duration": 265,
    "start_time": "2022-10-05T11:44:18.693Z"
   },
   {
    "duration": 4,
    "start_time": "2022-10-05T11:44:18.960Z"
   },
   {
    "duration": 13,
    "start_time": "2022-10-05T11:44:18.966Z"
   },
   {
    "duration": 372,
    "start_time": "2022-10-05T11:44:18.980Z"
   },
   {
    "duration": 4,
    "start_time": "2022-10-05T11:44:19.354Z"
   },
   {
    "duration": 10,
    "start_time": "2022-10-05T11:44:19.362Z"
   },
   {
    "duration": 281,
    "start_time": "2022-10-05T11:44:19.374Z"
   },
   {
    "duration": 5,
    "start_time": "2022-10-05T11:44:19.657Z"
   },
   {
    "duration": 13,
    "start_time": "2022-10-05T11:44:19.664Z"
   },
   {
    "duration": 21759,
    "start_time": "2022-10-05T11:44:19.679Z"
   },
   {
    "duration": 21,
    "start_time": "2022-10-05T11:44:41.442Z"
   },
   {
    "duration": 339,
    "start_time": "2022-10-05T11:44:41.465Z"
   },
   {
    "duration": 9,
    "start_time": "2022-10-05T11:44:41.806Z"
   },
   {
    "duration": 4968,
    "start_time": "2022-10-05T11:44:41.817Z"
   },
   {
    "duration": 81,
    "start_time": "2022-10-05T11:44:46.786Z"
   },
   {
    "duration": 0,
    "start_time": "2022-10-05T11:44:46.869Z"
   },
   {
    "duration": 0,
    "start_time": "2022-10-05T11:44:46.871Z"
   },
   {
    "duration": 0,
    "start_time": "2022-10-05T11:44:46.873Z"
   },
   {
    "duration": 0,
    "start_time": "2022-10-05T11:44:46.875Z"
   },
   {
    "duration": 0,
    "start_time": "2022-10-05T11:44:46.876Z"
   },
   {
    "duration": 0,
    "start_time": "2022-10-05T11:44:46.878Z"
   },
   {
    "duration": 0,
    "start_time": "2022-10-05T11:44:46.880Z"
   },
   {
    "duration": 0,
    "start_time": "2022-10-05T11:44:46.881Z"
   },
   {
    "duration": 0,
    "start_time": "2022-10-05T11:44:46.882Z"
   },
   {
    "duration": 0,
    "start_time": "2022-10-05T11:44:46.884Z"
   },
   {
    "duration": 0,
    "start_time": "2022-10-05T11:44:46.885Z"
   },
   {
    "duration": 0,
    "start_time": "2022-10-05T11:44:46.887Z"
   },
   {
    "duration": 0,
    "start_time": "2022-10-05T11:44:46.889Z"
   },
   {
    "duration": 0,
    "start_time": "2022-10-05T11:44:46.890Z"
   },
   {
    "duration": 0,
    "start_time": "2022-10-05T11:44:46.892Z"
   },
   {
    "duration": 0,
    "start_time": "2022-10-05T11:44:46.893Z"
   },
   {
    "duration": 0,
    "start_time": "2022-10-05T11:44:46.894Z"
   },
   {
    "duration": 0,
    "start_time": "2022-10-05T11:44:46.895Z"
   },
   {
    "duration": 1528,
    "start_time": "2022-10-05T11:45:13.508Z"
   },
   {
    "duration": 46,
    "start_time": "2022-10-05T11:45:15.038Z"
   },
   {
    "duration": 15,
    "start_time": "2022-10-05T11:45:15.085Z"
   },
   {
    "duration": 20,
    "start_time": "2022-10-05T11:45:15.102Z"
   },
   {
    "duration": 6,
    "start_time": "2022-10-05T11:45:15.125Z"
   },
   {
    "duration": 11,
    "start_time": "2022-10-05T11:45:15.132Z"
   },
   {
    "duration": 34,
    "start_time": "2022-10-05T11:45:15.145Z"
   },
   {
    "duration": 26,
    "start_time": "2022-10-05T11:45:15.181Z"
   },
   {
    "duration": 15,
    "start_time": "2022-10-05T11:45:15.209Z"
   },
   {
    "duration": 21,
    "start_time": "2022-10-05T11:45:15.227Z"
   },
   {
    "duration": 19,
    "start_time": "2022-10-05T11:45:15.250Z"
   },
   {
    "duration": 30,
    "start_time": "2022-10-05T11:45:15.272Z"
   },
   {
    "duration": 26,
    "start_time": "2022-10-05T11:45:15.304Z"
   },
   {
    "duration": 55,
    "start_time": "2022-10-05T11:45:15.332Z"
   },
   {
    "duration": 28,
    "start_time": "2022-10-05T11:45:15.389Z"
   },
   {
    "duration": 22,
    "start_time": "2022-10-05T11:45:15.418Z"
   },
   {
    "duration": 26,
    "start_time": "2022-10-05T11:45:15.442Z"
   },
   {
    "duration": 31,
    "start_time": "2022-10-05T11:45:15.470Z"
   },
   {
    "duration": 15,
    "start_time": "2022-10-05T11:45:15.504Z"
   },
   {
    "duration": 34,
    "start_time": "2022-10-05T11:45:15.521Z"
   },
   {
    "duration": 25,
    "start_time": "2022-10-05T11:45:15.557Z"
   },
   {
    "duration": 145,
    "start_time": "2022-10-05T11:45:15.585Z"
   },
   {
    "duration": 288,
    "start_time": "2022-10-05T11:45:15.731Z"
   },
   {
    "duration": 5,
    "start_time": "2022-10-05T11:45:16.021Z"
   },
   {
    "duration": 22,
    "start_time": "2022-10-05T11:45:16.028Z"
   },
   {
    "duration": 398,
    "start_time": "2022-10-05T11:45:16.052Z"
   },
   {
    "duration": 4,
    "start_time": "2022-10-05T11:45:16.452Z"
   },
   {
    "duration": 27,
    "start_time": "2022-10-05T11:45:16.461Z"
   },
   {
    "duration": 301,
    "start_time": "2022-10-05T11:45:16.490Z"
   },
   {
    "duration": 5,
    "start_time": "2022-10-05T11:45:16.793Z"
   },
   {
    "duration": 35,
    "start_time": "2022-10-05T11:45:16.800Z"
   },
   {
    "duration": 22943,
    "start_time": "2022-10-05T11:45:16.837Z"
   },
   {
    "duration": 5,
    "start_time": "2022-10-05T11:45:39.782Z"
   },
   {
    "duration": 287,
    "start_time": "2022-10-05T11:45:39.789Z"
   },
   {
    "duration": 13,
    "start_time": "2022-10-05T11:45:40.078Z"
   },
   {
    "duration": 4995,
    "start_time": "2022-10-05T11:45:40.093Z"
   },
   {
    "duration": 5,
    "start_time": "2022-10-05T11:45:45.090Z"
   },
   {
    "duration": 21,
    "start_time": "2022-10-05T11:45:45.096Z"
   },
   {
    "duration": 136,
    "start_time": "2022-10-05T11:45:45.119Z"
   },
   {
    "duration": 11,
    "start_time": "2022-10-05T11:45:45.257Z"
   },
   {
    "duration": 17,
    "start_time": "2022-10-05T11:45:45.355Z"
   },
   {
    "duration": 44,
    "start_time": "2022-10-05T11:45:45.374Z"
   },
   {
    "duration": 9,
    "start_time": "2022-10-05T11:45:45.420Z"
   },
   {
    "duration": 340,
    "start_time": "2022-10-05T11:45:45.430Z"
   },
   {
    "duration": 5,
    "start_time": "2022-10-05T11:45:45.775Z"
   },
   {
    "duration": 8318,
    "start_time": "2022-10-05T11:45:45.783Z"
   },
   {
    "duration": 6,
    "start_time": "2022-10-05T11:45:54.104Z"
   },
   {
    "duration": 149,
    "start_time": "2022-10-05T11:45:54.112Z"
   },
   {
    "duration": 113,
    "start_time": "2022-10-05T11:45:54.263Z"
   },
   {
    "duration": 48,
    "start_time": "2022-10-05T11:45:54.378Z"
   },
   {
    "duration": 365,
    "start_time": "2022-10-05T11:45:54.428Z"
   },
   {
    "duration": 5,
    "start_time": "2022-10-05T11:45:54.796Z"
   },
   {
    "duration": 8909,
    "start_time": "2022-10-05T11:45:54.803Z"
   },
   {
    "duration": 5,
    "start_time": "2022-10-05T11:46:03.714Z"
   },
   {
    "duration": 135,
    "start_time": "2022-10-05T11:46:03.721Z"
   },
   {
    "duration": 15,
    "start_time": "2022-10-05T12:07:27.351Z"
   },
   {
    "duration": 364,
    "start_time": "2022-10-05T12:07:28.133Z"
   },
   {
    "duration": 5,
    "start_time": "2022-10-05T12:07:30.708Z"
   },
   {
    "duration": 11021,
    "start_time": "2022-10-05T12:08:12.228Z"
   },
   {
    "duration": 5,
    "start_time": "2022-10-05T12:08:23.251Z"
   },
   {
    "duration": 64,
    "start_time": "2022-10-05T12:09:29.197Z"
   },
   {
    "duration": 15,
    "start_time": "2022-10-05T12:09:58.272Z"
   },
   {
    "duration": 14,
    "start_time": "2022-10-05T12:10:15.244Z"
   },
   {
    "duration": 355,
    "start_time": "2022-10-05T12:10:17.324Z"
   },
   {
    "duration": 5,
    "start_time": "2022-10-05T12:10:22.310Z"
   },
   {
    "duration": 12,
    "start_time": "2022-10-05T12:10:34.708Z"
   },
   {
    "duration": 4,
    "start_time": "2022-10-05T14:30:21.265Z"
   },
   {
    "duration": 1660,
    "start_time": "2022-10-05T14:30:38.367Z"
   },
   {
    "duration": 43,
    "start_time": "2022-10-05T14:30:40.030Z"
   },
   {
    "duration": 21,
    "start_time": "2022-10-05T14:30:40.075Z"
   },
   {
    "duration": 27,
    "start_time": "2022-10-05T14:30:40.099Z"
   },
   {
    "duration": 3,
    "start_time": "2022-10-05T14:30:40.128Z"
   },
   {
    "duration": 16,
    "start_time": "2022-10-05T14:30:40.132Z"
   },
   {
    "duration": 8,
    "start_time": "2022-10-05T14:30:40.150Z"
   },
   {
    "duration": 8,
    "start_time": "2022-10-05T14:30:40.160Z"
   },
   {
    "duration": 22,
    "start_time": "2022-10-05T14:30:40.169Z"
   },
   {
    "duration": 4,
    "start_time": "2022-10-05T14:30:40.194Z"
   },
   {
    "duration": 6,
    "start_time": "2022-10-05T14:30:40.200Z"
   },
   {
    "duration": 13,
    "start_time": "2022-10-05T14:30:40.208Z"
   },
   {
    "duration": 4,
    "start_time": "2022-10-05T14:30:40.223Z"
   },
   {
    "duration": 43,
    "start_time": "2022-10-05T14:30:40.228Z"
   },
   {
    "duration": 16,
    "start_time": "2022-10-05T14:30:40.273Z"
   },
   {
    "duration": 14,
    "start_time": "2022-10-05T14:30:40.291Z"
   },
   {
    "duration": 12,
    "start_time": "2022-10-05T14:30:40.307Z"
   },
   {
    "duration": 10,
    "start_time": "2022-10-05T14:30:40.321Z"
   },
   {
    "duration": 9,
    "start_time": "2022-10-05T14:30:40.355Z"
   },
   {
    "duration": 8,
    "start_time": "2022-10-05T14:30:40.366Z"
   },
   {
    "duration": 5,
    "start_time": "2022-10-05T14:30:40.376Z"
   },
   {
    "duration": 142,
    "start_time": "2022-10-05T14:30:40.384Z"
   },
   {
    "duration": 286,
    "start_time": "2022-10-05T14:30:40.528Z"
   },
   {
    "duration": 4,
    "start_time": "2022-10-05T14:30:40.816Z"
   },
   {
    "duration": 16,
    "start_time": "2022-10-05T14:30:40.822Z"
   },
   {
    "duration": 362,
    "start_time": "2022-10-05T14:30:40.840Z"
   },
   {
    "duration": 5,
    "start_time": "2022-10-05T14:30:41.204Z"
   },
   {
    "duration": 10,
    "start_time": "2022-10-05T14:30:41.212Z"
   },
   {
    "duration": 324,
    "start_time": "2022-10-05T14:30:41.224Z"
   },
   {
    "duration": 5,
    "start_time": "2022-10-05T14:30:41.551Z"
   },
   {
    "duration": 43,
    "start_time": "2022-10-05T14:30:41.558Z"
   },
   {
    "duration": 22173,
    "start_time": "2022-10-05T14:30:41.606Z"
   },
   {
    "duration": 5,
    "start_time": "2022-10-05T14:31:03.781Z"
   },
   {
    "duration": 294,
    "start_time": "2022-10-05T14:31:03.787Z"
   },
   {
    "duration": 10,
    "start_time": "2022-10-05T14:31:04.082Z"
   },
   {
    "duration": 5117,
    "start_time": "2022-10-05T14:31:04.094Z"
   },
   {
    "duration": 5,
    "start_time": "2022-10-05T14:31:09.213Z"
   },
   {
    "duration": 16,
    "start_time": "2022-10-05T14:31:09.221Z"
   },
   {
    "duration": 128,
    "start_time": "2022-10-05T14:31:09.240Z"
   },
   {
    "duration": 12,
    "start_time": "2022-10-05T14:31:09.455Z"
   },
   {
    "duration": 103,
    "start_time": "2022-10-05T14:31:09.469Z"
   },
   {
    "duration": 46,
    "start_time": "2022-10-05T14:31:09.574Z"
   },
   {
    "duration": 9,
    "start_time": "2022-10-05T14:31:09.622Z"
   },
   {
    "duration": 317,
    "start_time": "2022-10-05T14:31:09.633Z"
   },
   {
    "duration": 5,
    "start_time": "2022-10-05T14:31:09.952Z"
   },
   {
    "duration": 8041,
    "start_time": "2022-10-05T14:31:09.958Z"
   },
   {
    "duration": 5,
    "start_time": "2022-10-05T14:31:18.001Z"
   },
   {
    "duration": 147,
    "start_time": "2022-10-05T14:31:18.008Z"
   },
   {
    "duration": 7,
    "start_time": "2022-10-05T14:31:18.158Z"
   },
   {
    "duration": 19,
    "start_time": "2022-10-05T14:31:18.255Z"
   },
   {
    "duration": 5,
    "start_time": "2022-10-05T14:31:18.276Z"
   },
   {
    "duration": 337,
    "start_time": "2022-10-05T14:32:02.881Z"
   },
   {
    "duration": 5,
    "start_time": "2022-10-05T14:32:04.000Z"
   },
   {
    "duration": 395,
    "start_time": "2022-10-05T14:32:20.505Z"
   },
   {
    "duration": 4,
    "start_time": "2022-10-05T14:32:20.963Z"
   },
   {
    "duration": 1590,
    "start_time": "2022-10-06T09:37:19.940Z"
   },
   {
    "duration": 87,
    "start_time": "2022-10-06T09:37:21.532Z"
   },
   {
    "duration": 13,
    "start_time": "2022-10-06T09:37:21.621Z"
   },
   {
    "duration": 44,
    "start_time": "2022-10-06T09:37:21.636Z"
   },
   {
    "duration": 39,
    "start_time": "2022-10-06T09:37:21.682Z"
   },
   {
    "duration": 34,
    "start_time": "2022-10-06T09:37:21.723Z"
   },
   {
    "duration": 37,
    "start_time": "2022-10-06T09:37:21.759Z"
   },
   {
    "duration": 39,
    "start_time": "2022-10-06T09:37:21.798Z"
   },
   {
    "duration": 40,
    "start_time": "2022-10-06T09:37:21.839Z"
   },
   {
    "duration": 18,
    "start_time": "2022-10-06T09:37:21.883Z"
   },
   {
    "duration": 32,
    "start_time": "2022-10-06T09:37:21.903Z"
   },
   {
    "duration": 24,
    "start_time": "2022-10-06T09:37:21.937Z"
   },
   {
    "duration": 17,
    "start_time": "2022-10-06T09:37:21.962Z"
   },
   {
    "duration": 45,
    "start_time": "2022-10-06T09:37:21.980Z"
   },
   {
    "duration": 12,
    "start_time": "2022-10-06T09:37:22.027Z"
   },
   {
    "duration": 28,
    "start_time": "2022-10-06T09:37:22.040Z"
   },
   {
    "duration": 23,
    "start_time": "2022-10-06T09:37:22.070Z"
   },
   {
    "duration": 21,
    "start_time": "2022-10-06T09:37:22.095Z"
   },
   {
    "duration": 39,
    "start_time": "2022-10-06T09:37:22.117Z"
   },
   {
    "duration": 18,
    "start_time": "2022-10-06T09:37:22.157Z"
   },
   {
    "duration": 15,
    "start_time": "2022-10-06T09:37:22.177Z"
   },
   {
    "duration": 130,
    "start_time": "2022-10-06T09:37:22.193Z"
   },
   {
    "duration": 310,
    "start_time": "2022-10-06T09:37:22.324Z"
   },
   {
    "duration": 5,
    "start_time": "2022-10-06T09:37:22.636Z"
   },
   {
    "duration": 44,
    "start_time": "2022-10-06T09:37:22.643Z"
   },
   {
    "duration": 410,
    "start_time": "2022-10-06T09:37:22.689Z"
   },
   {
    "duration": 4,
    "start_time": "2022-10-06T09:37:23.101Z"
   },
   {
    "duration": 28,
    "start_time": "2022-10-06T09:37:23.111Z"
   },
   {
    "duration": 317,
    "start_time": "2022-10-06T09:37:23.142Z"
   },
   {
    "duration": 5,
    "start_time": "2022-10-06T09:37:23.460Z"
   },
   {
    "duration": 24,
    "start_time": "2022-10-06T09:37:23.467Z"
   },
   {
    "duration": 21961,
    "start_time": "2022-10-06T09:37:23.493Z"
   },
   {
    "duration": 5,
    "start_time": "2022-10-06T09:37:45.455Z"
   },
   {
    "duration": 261,
    "start_time": "2022-10-06T09:37:45.461Z"
   },
   {
    "duration": 8,
    "start_time": "2022-10-06T09:37:45.723Z"
   },
   {
    "duration": 5060,
    "start_time": "2022-10-06T09:37:45.732Z"
   },
   {
    "duration": 5,
    "start_time": "2022-10-06T09:37:50.793Z"
   },
   {
    "duration": 38,
    "start_time": "2022-10-06T09:37:50.799Z"
   },
   {
    "duration": 81,
    "start_time": "2022-10-06T09:37:50.839Z"
   },
   {
    "duration": 99,
    "start_time": "2022-10-06T09:37:50.922Z"
   },
   {
    "duration": 109,
    "start_time": "2022-10-06T09:37:51.026Z"
   },
   {
    "duration": 52,
    "start_time": "2022-10-06T09:37:51.136Z"
   },
   {
    "duration": 9,
    "start_time": "2022-10-06T09:37:51.190Z"
   },
   {
    "duration": 325,
    "start_time": "2022-10-06T09:37:51.200Z"
   },
   {
    "duration": 5,
    "start_time": "2022-10-06T09:37:51.527Z"
   },
   {
    "duration": 8184,
    "start_time": "2022-10-06T09:37:51.533Z"
   },
   {
    "duration": 4,
    "start_time": "2022-10-06T09:37:59.719Z"
   },
   {
    "duration": 86,
    "start_time": "2022-10-06T09:37:59.725Z"
   },
   {
    "duration": 8,
    "start_time": "2022-10-06T09:37:59.813Z"
   },
   {
    "duration": 15,
    "start_time": "2022-10-06T09:37:59.909Z"
   },
   {
    "duration": 4,
    "start_time": "2022-10-06T09:37:59.925Z"
   },
   {
    "duration": 427,
    "start_time": "2022-10-06T09:37:59.930Z"
   },
   {
    "duration": 4,
    "start_time": "2022-10-06T09:38:00.358Z"
   },
   {
    "duration": 11136,
    "start_time": "2022-10-06T09:38:00.364Z"
   },
   {
    "duration": 7,
    "start_time": "2022-10-06T09:38:11.501Z"
   },
   {
    "duration": 110,
    "start_time": "2022-10-06T09:38:11.510Z"
   },
   {
    "duration": 5,
    "start_time": "2022-10-06T09:38:11.708Z"
   },
   {
    "duration": 108,
    "start_time": "2022-10-06T09:38:11.715Z"
   },
   {
    "duration": 5,
    "start_time": "2022-10-06T09:38:11.824Z"
   },
   {
    "duration": 4,
    "start_time": "2022-10-06T09:47:17.476Z"
   },
   {
    "duration": 209,
    "start_time": "2022-10-06T09:49:12.514Z"
   },
   {
    "duration": 4,
    "start_time": "2022-10-06T09:49:13.481Z"
   },
   {
    "duration": 4261,
    "start_time": "2022-10-06T09:49:34.410Z"
   },
   {
    "duration": 4,
    "start_time": "2022-10-06T09:49:38.673Z"
   },
   {
    "duration": 32,
    "start_time": "2022-10-06T09:49:51.978Z"
   },
   {
    "duration": 217,
    "start_time": "2022-10-06T10:11:38.106Z"
   },
   {
    "duration": 4,
    "start_time": "2022-10-06T10:11:39.289Z"
   },
   {
    "duration": 176,
    "start_time": "2022-10-06T10:11:50.652Z"
   },
   {
    "duration": 3,
    "start_time": "2022-10-06T10:11:51.369Z"
   },
   {
    "duration": 176,
    "start_time": "2022-10-06T11:49:10.944Z"
   },
   {
    "duration": 1265,
    "start_time": "2022-10-06T11:49:20.376Z"
   },
   {
    "duration": 43,
    "start_time": "2022-10-06T11:49:21.642Z"
   },
   {
    "duration": 13,
    "start_time": "2022-10-06T11:49:21.686Z"
   },
   {
    "duration": 20,
    "start_time": "2022-10-06T11:49:21.701Z"
   },
   {
    "duration": 3,
    "start_time": "2022-10-06T11:49:21.726Z"
   },
   {
    "duration": 30,
    "start_time": "2022-10-06T11:49:21.730Z"
   },
   {
    "duration": 7,
    "start_time": "2022-10-06T11:49:21.762Z"
   },
   {
    "duration": 11,
    "start_time": "2022-10-06T11:49:21.770Z"
   },
   {
    "duration": 13,
    "start_time": "2022-10-06T11:49:21.783Z"
   },
   {
    "duration": 6,
    "start_time": "2022-10-06T11:49:21.798Z"
   },
   {
    "duration": 15,
    "start_time": "2022-10-06T11:49:21.805Z"
   },
   {
    "duration": 18,
    "start_time": "2022-10-06T11:49:21.822Z"
   },
   {
    "duration": 6,
    "start_time": "2022-10-06T11:49:21.841Z"
   },
   {
    "duration": 22,
    "start_time": "2022-10-06T11:49:21.849Z"
   },
   {
    "duration": 13,
    "start_time": "2022-10-06T11:49:21.872Z"
   },
   {
    "duration": 12,
    "start_time": "2022-10-06T11:49:21.886Z"
   },
   {
    "duration": 21,
    "start_time": "2022-10-06T11:49:21.900Z"
   },
   {
    "duration": 6,
    "start_time": "2022-10-06T11:49:21.923Z"
   },
   {
    "duration": 8,
    "start_time": "2022-10-06T11:49:21.931Z"
   },
   {
    "duration": 5,
    "start_time": "2022-10-06T11:49:21.940Z"
   },
   {
    "duration": 5,
    "start_time": "2022-10-06T11:49:21.947Z"
   },
   {
    "duration": 125,
    "start_time": "2022-10-06T11:49:21.953Z"
   },
   {
    "duration": 292,
    "start_time": "2022-10-06T11:49:22.079Z"
   },
   {
    "duration": 4,
    "start_time": "2022-10-06T11:49:22.372Z"
   },
   {
    "duration": 9,
    "start_time": "2022-10-06T11:49:22.377Z"
   },
   {
    "duration": 433,
    "start_time": "2022-10-06T11:49:22.388Z"
   },
   {
    "duration": 6,
    "start_time": "2022-10-06T11:49:22.824Z"
   },
   {
    "duration": 27,
    "start_time": "2022-10-06T11:49:22.834Z"
   },
   {
    "duration": 298,
    "start_time": "2022-10-06T11:49:22.863Z"
   },
   {
    "duration": 4,
    "start_time": "2022-10-06T11:49:23.162Z"
   },
   {
    "duration": 11,
    "start_time": "2022-10-06T11:49:23.168Z"
   },
   {
    "duration": 22076,
    "start_time": "2022-10-06T11:49:23.180Z"
   },
   {
    "duration": 4,
    "start_time": "2022-10-06T11:49:45.258Z"
   },
   {
    "duration": 273,
    "start_time": "2022-10-06T11:49:45.264Z"
   },
   {
    "duration": 8,
    "start_time": "2022-10-06T11:49:45.538Z"
   },
   {
    "duration": 5005,
    "start_time": "2022-10-06T11:49:45.548Z"
   },
   {
    "duration": 5,
    "start_time": "2022-10-06T11:49:50.555Z"
   },
   {
    "duration": 35,
    "start_time": "2022-10-06T11:49:50.561Z"
   },
   {
    "duration": 123,
    "start_time": "2022-10-06T11:49:50.597Z"
   },
   {
    "duration": 111,
    "start_time": "2022-10-06T11:49:50.722Z"
   },
   {
    "duration": 28,
    "start_time": "2022-10-06T11:49:50.835Z"
   },
   {
    "duration": 56,
    "start_time": "2022-10-06T11:49:50.865Z"
   },
   {
    "duration": 10,
    "start_time": "2022-10-06T11:49:50.922Z"
   },
   {
    "duration": 299,
    "start_time": "2022-10-06T11:49:50.933Z"
   },
   {
    "duration": 3,
    "start_time": "2022-10-06T11:49:51.234Z"
   },
   {
    "duration": 7964,
    "start_time": "2022-10-06T11:49:51.239Z"
   },
   {
    "duration": 19,
    "start_time": "2022-10-06T11:49:59.205Z"
   },
   {
    "duration": 99,
    "start_time": "2022-10-06T11:49:59.226Z"
   },
   {
    "duration": 86,
    "start_time": "2022-10-06T11:49:59.327Z"
   },
   {
    "duration": 16,
    "start_time": "2022-10-06T11:49:59.421Z"
   },
   {
    "duration": 4,
    "start_time": "2022-10-06T11:49:59.438Z"
   },
   {
    "duration": 174,
    "start_time": "2022-10-06T11:50:37.376Z"
   },
   {
    "duration": 446,
    "start_time": "2022-10-06T11:51:08.457Z"
   },
   {
    "duration": 4,
    "start_time": "2022-10-06T11:51:16.961Z"
   },
   {
    "duration": 1329,
    "start_time": "2022-10-06T11:58:35.421Z"
   },
   {
    "duration": 41,
    "start_time": "2022-10-06T11:58:36.752Z"
   },
   {
    "duration": 12,
    "start_time": "2022-10-06T11:58:36.795Z"
   },
   {
    "duration": 50,
    "start_time": "2022-10-06T11:58:36.809Z"
   },
   {
    "duration": 27,
    "start_time": "2022-10-06T11:58:36.862Z"
   },
   {
    "duration": 35,
    "start_time": "2022-10-06T11:58:36.891Z"
   },
   {
    "duration": 26,
    "start_time": "2022-10-06T11:58:36.927Z"
   },
   {
    "duration": 27,
    "start_time": "2022-10-06T11:58:36.954Z"
   },
   {
    "duration": 24,
    "start_time": "2022-10-06T11:58:36.982Z"
   },
   {
    "duration": 34,
    "start_time": "2022-10-06T11:58:37.009Z"
   },
   {
    "duration": 26,
    "start_time": "2022-10-06T11:58:37.044Z"
   },
   {
    "duration": 48,
    "start_time": "2022-10-06T11:58:37.071Z"
   },
   {
    "duration": 29,
    "start_time": "2022-10-06T11:58:37.121Z"
   },
   {
    "duration": 55,
    "start_time": "2022-10-06T11:58:37.151Z"
   },
   {
    "duration": 36,
    "start_time": "2022-10-06T11:58:37.208Z"
   },
   {
    "duration": 31,
    "start_time": "2022-10-06T11:58:37.246Z"
   },
   {
    "duration": 47,
    "start_time": "2022-10-06T11:58:37.278Z"
   },
   {
    "duration": 28,
    "start_time": "2022-10-06T11:58:37.327Z"
   },
   {
    "duration": 30,
    "start_time": "2022-10-06T11:58:37.357Z"
   },
   {
    "duration": 43,
    "start_time": "2022-10-06T11:58:37.388Z"
   },
   {
    "duration": 12,
    "start_time": "2022-10-06T11:58:37.432Z"
   },
   {
    "duration": 139,
    "start_time": "2022-10-06T11:58:37.445Z"
   },
   {
    "duration": 282,
    "start_time": "2022-10-06T11:58:37.586Z"
   },
   {
    "duration": 5,
    "start_time": "2022-10-06T11:58:37.869Z"
   },
   {
    "duration": 27,
    "start_time": "2022-10-06T11:58:37.875Z"
   },
   {
    "duration": 394,
    "start_time": "2022-10-06T11:58:37.904Z"
   },
   {
    "duration": 4,
    "start_time": "2022-10-06T11:58:38.300Z"
   },
   {
    "duration": 14,
    "start_time": "2022-10-06T11:58:38.313Z"
   },
   {
    "duration": 292,
    "start_time": "2022-10-06T11:58:38.328Z"
   },
   {
    "duration": 4,
    "start_time": "2022-10-06T11:58:38.622Z"
   },
   {
    "duration": 15,
    "start_time": "2022-10-06T11:58:38.628Z"
   },
   {
    "duration": 24205,
    "start_time": "2022-10-06T11:58:38.645Z"
   },
   {
    "duration": 4,
    "start_time": "2022-10-06T11:59:02.852Z"
   },
   {
    "duration": 275,
    "start_time": "2022-10-06T11:59:02.858Z"
   },
   {
    "duration": 7,
    "start_time": "2022-10-06T11:59:03.135Z"
   },
   {
    "duration": 5109,
    "start_time": "2022-10-06T11:59:03.144Z"
   },
   {
    "duration": 4,
    "start_time": "2022-10-06T11:59:08.255Z"
   },
   {
    "duration": 11,
    "start_time": "2022-10-06T11:59:08.261Z"
   },
   {
    "duration": 53,
    "start_time": "2022-10-06T11:59:08.273Z"
   },
   {
    "duration": 85,
    "start_time": "2022-10-06T11:59:08.328Z"
   },
   {
    "duration": 100,
    "start_time": "2022-10-06T11:59:08.419Z"
   },
   {
    "duration": 55,
    "start_time": "2022-10-06T11:59:08.521Z"
   },
   {
    "duration": 8,
    "start_time": "2022-10-06T11:59:08.577Z"
   },
   {
    "duration": 306,
    "start_time": "2022-10-06T11:59:08.587Z"
   },
   {
    "duration": 4,
    "start_time": "2022-10-06T11:59:08.895Z"
   },
   {
    "duration": 8074,
    "start_time": "2022-10-06T11:59:08.900Z"
   },
   {
    "duration": 4,
    "start_time": "2022-10-06T11:59:16.976Z"
   },
   {
    "duration": 127,
    "start_time": "2022-10-06T11:59:16.981Z"
   },
   {
    "duration": 87,
    "start_time": "2022-10-06T11:59:17.124Z"
   },
   {
    "duration": 18,
    "start_time": "2022-10-06T11:59:17.213Z"
   },
   {
    "duration": 3,
    "start_time": "2022-10-06T11:59:17.233Z"
   },
   {
    "duration": 440,
    "start_time": "2022-10-06T11:59:17.237Z"
   },
   {
    "duration": 4,
    "start_time": "2022-10-06T11:59:17.678Z"
   },
   {
    "duration": 11549,
    "start_time": "2022-10-06T11:59:17.683Z"
   },
   {
    "duration": 5,
    "start_time": "2022-10-06T11:59:29.233Z"
   },
   {
    "duration": 176,
    "start_time": "2022-10-06T11:59:29.239Z"
   },
   {
    "duration": 7,
    "start_time": "2022-10-06T11:59:29.417Z"
   },
   {
    "duration": 119,
    "start_time": "2022-10-06T11:59:29.425Z"
   },
   {
    "duration": 4,
    "start_time": "2022-10-06T11:59:29.545Z"
   },
   {
    "duration": 183,
    "start_time": "2022-10-06T11:59:29.551Z"
   },
   {
    "duration": 5,
    "start_time": "2022-10-06T11:59:29.736Z"
   },
   {
    "duration": 4082,
    "start_time": "2022-10-06T11:59:29.742Z"
   },
   {
    "duration": 4,
    "start_time": "2022-10-06T11:59:33.826Z"
   },
   {
    "duration": 84,
    "start_time": "2022-10-06T11:59:33.831Z"
   },
   {
    "duration": 8435,
    "start_time": "2022-10-06T12:32:22.435Z"
   },
   {
    "duration": 4,
    "start_time": "2022-10-06T12:32:30.872Z"
   },
   {
    "duration": 4116,
    "start_time": "2022-10-06T12:33:09.651Z"
   },
   {
    "duration": 4,
    "start_time": "2022-10-06T12:33:13.769Z"
   },
   {
    "duration": 1299,
    "start_time": "2022-10-06T12:55:36.281Z"
   },
   {
    "duration": 46,
    "start_time": "2022-10-06T12:55:37.582Z"
   },
   {
    "duration": 12,
    "start_time": "2022-10-06T12:55:37.630Z"
   },
   {
    "duration": 20,
    "start_time": "2022-10-06T12:55:37.644Z"
   },
   {
    "duration": 4,
    "start_time": "2022-10-06T12:55:37.665Z"
   },
   {
    "duration": 9,
    "start_time": "2022-10-06T12:55:37.670Z"
   },
   {
    "duration": 5,
    "start_time": "2022-10-06T12:55:37.681Z"
   },
   {
    "duration": 31,
    "start_time": "2022-10-06T12:55:37.688Z"
   },
   {
    "duration": 18,
    "start_time": "2022-10-06T12:55:37.721Z"
   },
   {
    "duration": 6,
    "start_time": "2022-10-06T12:55:37.742Z"
   },
   {
    "duration": 10,
    "start_time": "2022-10-06T12:55:37.749Z"
   },
   {
    "duration": 17,
    "start_time": "2022-10-06T12:55:37.760Z"
   },
   {
    "duration": 4,
    "start_time": "2022-10-06T12:55:37.778Z"
   },
   {
    "duration": 45,
    "start_time": "2022-10-06T12:55:37.783Z"
   },
   {
    "duration": 13,
    "start_time": "2022-10-06T12:55:37.830Z"
   },
   {
    "duration": 19,
    "start_time": "2022-10-06T12:55:37.844Z"
   },
   {
    "duration": 11,
    "start_time": "2022-10-06T12:55:37.864Z"
   },
   {
    "duration": 6,
    "start_time": "2022-10-06T12:55:37.876Z"
   },
   {
    "duration": 7,
    "start_time": "2022-10-06T12:55:37.884Z"
   },
   {
    "duration": 6,
    "start_time": "2022-10-06T12:55:37.912Z"
   },
   {
    "duration": 12,
    "start_time": "2022-10-06T12:55:37.919Z"
   },
   {
    "duration": 110,
    "start_time": "2022-10-06T12:55:37.932Z"
   },
   {
    "duration": 288,
    "start_time": "2022-10-06T12:55:38.043Z"
   },
   {
    "duration": 3,
    "start_time": "2022-10-06T12:55:38.332Z"
   },
   {
    "duration": 34,
    "start_time": "2022-10-06T12:55:38.337Z"
   },
   {
    "duration": 401,
    "start_time": "2022-10-06T12:55:38.373Z"
   },
   {
    "duration": 3,
    "start_time": "2022-10-06T12:55:38.776Z"
   },
   {
    "duration": 25,
    "start_time": "2022-10-06T12:55:38.783Z"
   },
   {
    "duration": 315,
    "start_time": "2022-10-06T12:55:38.819Z"
   },
   {
    "duration": 4,
    "start_time": "2022-10-06T12:55:39.136Z"
   },
   {
    "duration": 18,
    "start_time": "2022-10-06T12:55:39.142Z"
   },
   {
    "duration": 22095,
    "start_time": "2022-10-06T12:55:39.162Z"
   },
   {
    "duration": 4,
    "start_time": "2022-10-06T12:56:01.259Z"
   },
   {
    "duration": 321,
    "start_time": "2022-10-06T12:56:01.265Z"
   },
   {
    "duration": 8,
    "start_time": "2022-10-06T12:56:01.588Z"
   },
   {
    "duration": 5137,
    "start_time": "2022-10-06T12:56:01.597Z"
   },
   {
    "duration": 4,
    "start_time": "2022-10-06T12:56:06.736Z"
   },
   {
    "duration": 9,
    "start_time": "2022-10-06T12:56:06.742Z"
   },
   {
    "duration": 75,
    "start_time": "2022-10-06T12:56:06.753Z"
   },
   {
    "duration": 189,
    "start_time": "2022-10-06T12:56:06.830Z"
   },
   {
    "duration": 11,
    "start_time": "2022-10-06T12:56:07.022Z"
   },
   {
    "duration": 42,
    "start_time": "2022-10-06T12:56:07.034Z"
   },
   {
    "duration": 8,
    "start_time": "2022-10-06T12:56:07.078Z"
   },
   {
    "duration": 315,
    "start_time": "2022-10-06T12:56:07.087Z"
   },
   {
    "duration": 6,
    "start_time": "2022-10-06T12:56:07.404Z"
   },
   {
    "duration": 53,
    "start_time": "2022-10-06T12:56:07.411Z"
   },
   {
    "duration": 8005,
    "start_time": "2022-10-06T12:56:07.465Z"
   },
   {
    "duration": 5,
    "start_time": "2022-10-06T12:56:15.471Z"
   },
   {
    "duration": 10,
    "start_time": "2022-10-06T12:56:15.477Z"
   },
   {
    "duration": 121,
    "start_time": "2022-10-06T12:56:15.489Z"
   },
   {
    "duration": 9,
    "start_time": "2022-10-06T12:56:15.612Z"
   },
   {
    "duration": 107,
    "start_time": "2022-10-06T12:56:15.622Z"
   },
   {
    "duration": 12,
    "start_time": "2022-10-06T12:56:15.731Z"
   },
   {
    "duration": 7,
    "start_time": "2022-10-06T12:56:15.744Z"
   },
   {
    "duration": 452,
    "start_time": "2022-10-06T12:56:15.753Z"
   },
   {
    "duration": 6,
    "start_time": "2022-10-06T12:56:16.207Z"
   },
   {
    "duration": 27,
    "start_time": "2022-10-06T12:56:16.218Z"
   },
   {
    "duration": 11545,
    "start_time": "2022-10-06T12:56:16.247Z"
   },
   {
    "duration": 4,
    "start_time": "2022-10-06T12:56:27.794Z"
   },
   {
    "duration": 15,
    "start_time": "2022-10-06T12:56:27.800Z"
   },
   {
    "duration": 103,
    "start_time": "2022-10-06T12:56:27.817Z"
   },
   {
    "duration": 93,
    "start_time": "2022-10-06T12:56:27.922Z"
   },
   {
    "duration": 23,
    "start_time": "2022-10-06T12:56:28.017Z"
   },
   {
    "duration": 24,
    "start_time": "2022-10-06T12:56:28.042Z"
   },
   {
    "duration": 20,
    "start_time": "2022-10-06T12:56:28.067Z"
   },
   {
    "duration": 195,
    "start_time": "2022-10-06T12:56:28.089Z"
   },
   {
    "duration": 5,
    "start_time": "2022-10-06T12:56:28.287Z"
   },
   {
    "duration": 23,
    "start_time": "2022-10-06T12:56:28.297Z"
   },
   {
    "duration": 3959,
    "start_time": "2022-10-06T12:56:28.322Z"
   },
   {
    "duration": 5,
    "start_time": "2022-10-06T12:56:32.282Z"
   },
   {
    "duration": 31,
    "start_time": "2022-10-06T12:56:32.289Z"
   },
   {
    "duration": 98,
    "start_time": "2022-10-06T12:56:32.322Z"
   },
   {
    "duration": 138,
    "start_time": "2022-10-06T12:56:32.423Z"
   },
   {
    "duration": 9,
    "start_time": "2022-10-06T12:57:59.379Z"
   },
   {
    "duration": 141,
    "start_time": "2022-10-06T12:59:13.852Z"
   },
   {
    "duration": 8,
    "start_time": "2022-10-06T12:59:14.049Z"
   },
   {
    "duration": 1393,
    "start_time": "2022-10-06T12:59:37.451Z"
   },
   {
    "duration": 42,
    "start_time": "2022-10-06T12:59:38.846Z"
   },
   {
    "duration": 12,
    "start_time": "2022-10-06T12:59:38.890Z"
   },
   {
    "duration": 17,
    "start_time": "2022-10-06T12:59:38.904Z"
   },
   {
    "duration": 19,
    "start_time": "2022-10-06T12:59:38.922Z"
   },
   {
    "duration": 33,
    "start_time": "2022-10-06T12:59:38.943Z"
   },
   {
    "duration": 45,
    "start_time": "2022-10-06T12:59:38.978Z"
   },
   {
    "duration": 17,
    "start_time": "2022-10-06T12:59:39.025Z"
   },
   {
    "duration": 38,
    "start_time": "2022-10-06T12:59:39.044Z"
   },
   {
    "duration": 49,
    "start_time": "2022-10-06T12:59:39.085Z"
   },
   {
    "duration": 22,
    "start_time": "2022-10-06T12:59:39.136Z"
   },
   {
    "duration": 45,
    "start_time": "2022-10-06T12:59:39.159Z"
   },
   {
    "duration": 22,
    "start_time": "2022-10-06T12:59:39.206Z"
   },
   {
    "duration": 45,
    "start_time": "2022-10-06T12:59:39.229Z"
   },
   {
    "duration": 45,
    "start_time": "2022-10-06T12:59:39.276Z"
   },
   {
    "duration": 30,
    "start_time": "2022-10-06T12:59:39.323Z"
   },
   {
    "duration": 49,
    "start_time": "2022-10-06T12:59:39.354Z"
   },
   {
    "duration": 54,
    "start_time": "2022-10-06T12:59:39.405Z"
   },
   {
    "duration": 22,
    "start_time": "2022-10-06T12:59:39.461Z"
   },
   {
    "duration": 27,
    "start_time": "2022-10-06T12:59:39.485Z"
   },
   {
    "duration": 28,
    "start_time": "2022-10-06T12:59:39.520Z"
   },
   {
    "duration": 131,
    "start_time": "2022-10-06T12:59:39.549Z"
   },
   {
    "duration": 275,
    "start_time": "2022-10-06T12:59:39.682Z"
   },
   {
    "duration": 5,
    "start_time": "2022-10-06T12:59:39.959Z"
   },
   {
    "duration": 27,
    "start_time": "2022-10-06T12:59:39.965Z"
   },
   {
    "duration": 410,
    "start_time": "2022-10-06T12:59:39.994Z"
   },
   {
    "duration": 15,
    "start_time": "2022-10-06T12:59:40.405Z"
   },
   {
    "duration": 56,
    "start_time": "2022-10-06T12:59:40.425Z"
   },
   {
    "duration": 312,
    "start_time": "2022-10-06T12:59:40.482Z"
   },
   {
    "duration": 4,
    "start_time": "2022-10-06T12:59:40.796Z"
   },
   {
    "duration": 33,
    "start_time": "2022-10-06T12:59:40.809Z"
   },
   {
    "duration": 22203,
    "start_time": "2022-10-06T12:59:40.844Z"
   },
   {
    "duration": 5,
    "start_time": "2022-10-06T13:00:03.049Z"
   },
   {
    "duration": 316,
    "start_time": "2022-10-06T13:00:03.055Z"
   },
   {
    "duration": 8,
    "start_time": "2022-10-06T13:00:03.372Z"
   },
   {
    "duration": 5039,
    "start_time": "2022-10-06T13:00:03.381Z"
   },
   {
    "duration": 4,
    "start_time": "2022-10-06T13:00:08.422Z"
   },
   {
    "duration": 32,
    "start_time": "2022-10-06T13:00:08.428Z"
   },
   {
    "duration": 63,
    "start_time": "2022-10-06T13:00:08.461Z"
   },
   {
    "duration": 117,
    "start_time": "2022-10-06T13:00:08.525Z"
   },
   {
    "duration": 44,
    "start_time": "2022-10-06T13:00:08.644Z"
   },
   {
    "duration": 91,
    "start_time": "2022-10-06T13:00:08.689Z"
   },
   {
    "duration": 15,
    "start_time": "2022-10-06T13:00:08.781Z"
   },
   {
    "duration": 342,
    "start_time": "2022-10-06T13:00:08.798Z"
   },
   {
    "duration": 4,
    "start_time": "2022-10-06T13:00:09.141Z"
   },
   {
    "duration": 154,
    "start_time": "2022-10-06T13:00:09.146Z"
   },
   {
    "duration": 0,
    "start_time": "2022-10-06T13:00:09.302Z"
   },
   {
    "duration": 0,
    "start_time": "2022-10-06T13:00:09.303Z"
   },
   {
    "duration": 0,
    "start_time": "2022-10-06T13:00:09.316Z"
   },
   {
    "duration": 0,
    "start_time": "2022-10-06T13:00:09.317Z"
   },
   {
    "duration": 0,
    "start_time": "2022-10-06T13:00:09.317Z"
   },
   {
    "duration": 0,
    "start_time": "2022-10-06T13:00:09.318Z"
   },
   {
    "duration": 0,
    "start_time": "2022-10-06T13:00:09.318Z"
   },
   {
    "duration": 0,
    "start_time": "2022-10-06T13:00:09.319Z"
   },
   {
    "duration": 0,
    "start_time": "2022-10-06T13:00:09.320Z"
   },
   {
    "duration": 0,
    "start_time": "2022-10-06T13:00:09.320Z"
   },
   {
    "duration": 0,
    "start_time": "2022-10-06T13:00:09.325Z"
   },
   {
    "duration": 0,
    "start_time": "2022-10-06T13:00:09.326Z"
   },
   {
    "duration": 0,
    "start_time": "2022-10-06T13:00:09.327Z"
   },
   {
    "duration": 0,
    "start_time": "2022-10-06T13:00:09.328Z"
   },
   {
    "duration": 0,
    "start_time": "2022-10-06T13:00:09.329Z"
   },
   {
    "duration": 0,
    "start_time": "2022-10-06T13:00:09.330Z"
   },
   {
    "duration": 0,
    "start_time": "2022-10-06T13:00:09.331Z"
   },
   {
    "duration": 0,
    "start_time": "2022-10-06T13:00:09.332Z"
   },
   {
    "duration": 0,
    "start_time": "2022-10-06T13:00:09.333Z"
   },
   {
    "duration": 0,
    "start_time": "2022-10-06T13:00:09.334Z"
   },
   {
    "duration": 1,
    "start_time": "2022-10-06T13:00:09.334Z"
   },
   {
    "duration": 0,
    "start_time": "2022-10-06T13:00:09.335Z"
   },
   {
    "duration": 0,
    "start_time": "2022-10-06T13:00:09.336Z"
   },
   {
    "duration": 0,
    "start_time": "2022-10-06T13:00:09.337Z"
   },
   {
    "duration": 0,
    "start_time": "2022-10-06T13:00:09.338Z"
   },
   {
    "duration": 0,
    "start_time": "2022-10-06T13:00:09.339Z"
   },
   {
    "duration": 0,
    "start_time": "2022-10-06T13:00:09.340Z"
   },
   {
    "duration": 0,
    "start_time": "2022-10-06T13:00:09.341Z"
   },
   {
    "duration": 5,
    "start_time": "2022-10-06T13:01:40.377Z"
   },
   {
    "duration": 7,
    "start_time": "2022-10-06T13:01:52.079Z"
   },
   {
    "duration": 8046,
    "start_time": "2022-10-06T13:02:00.346Z"
   },
   {
    "duration": 4,
    "start_time": "2022-10-06T13:02:08.394Z"
   },
   {
    "duration": 28,
    "start_time": "2022-10-06T13:02:08.399Z"
   },
   {
    "duration": 94,
    "start_time": "2022-10-06T13:02:08.429Z"
   },
   {
    "duration": 93,
    "start_time": "2022-10-06T13:02:08.530Z"
   },
   {
    "duration": 21,
    "start_time": "2022-10-06T13:02:08.625Z"
   },
   {
    "duration": 29,
    "start_time": "2022-10-06T13:02:08.647Z"
   },
   {
    "duration": 53,
    "start_time": "2022-10-06T13:02:08.678Z"
   },
   {
    "duration": 460,
    "start_time": "2022-10-06T13:02:08.733Z"
   },
   {
    "duration": 4,
    "start_time": "2022-10-06T13:02:09.196Z"
   },
   {
    "duration": 18,
    "start_time": "2022-10-06T13:02:09.215Z"
   },
   {
    "duration": 11786,
    "start_time": "2022-10-06T13:02:09.234Z"
   },
   {
    "duration": 4,
    "start_time": "2022-10-06T13:02:21.024Z"
   },
   {
    "duration": 14,
    "start_time": "2022-10-06T13:02:21.030Z"
   },
   {
    "duration": 167,
    "start_time": "2022-10-06T13:02:21.046Z"
   },
   {
    "duration": 105,
    "start_time": "2022-10-06T13:02:21.214Z"
   },
   {
    "duration": 11,
    "start_time": "2022-10-06T13:02:21.322Z"
   },
   {
    "duration": 18,
    "start_time": "2022-10-06T13:02:21.335Z"
   },
   {
    "duration": 4,
    "start_time": "2022-10-06T13:02:21.355Z"
   },
   {
    "duration": 195,
    "start_time": "2022-10-06T13:02:21.360Z"
   },
   {
    "duration": 5,
    "start_time": "2022-10-06T13:02:21.557Z"
   },
   {
    "duration": 34,
    "start_time": "2022-10-06T13:02:21.563Z"
   },
   {
    "duration": 4230,
    "start_time": "2022-10-06T13:02:21.598Z"
   },
   {
    "duration": 4,
    "start_time": "2022-10-06T13:02:25.830Z"
   },
   {
    "duration": 28,
    "start_time": "2022-10-06T13:02:25.835Z"
   },
   {
    "duration": 153,
    "start_time": "2022-10-06T13:02:25.865Z"
   },
   {
    "duration": 103,
    "start_time": "2022-10-06T13:02:26.020Z"
   },
   {
    "duration": 13,
    "start_time": "2022-10-06T13:02:26.127Z"
   },
   {
    "duration": 1341,
    "start_time": "2022-10-06T13:04:06.821Z"
   },
   {
    "duration": 43,
    "start_time": "2022-10-06T13:04:08.163Z"
   },
   {
    "duration": 24,
    "start_time": "2022-10-06T13:04:08.208Z"
   },
   {
    "duration": 32,
    "start_time": "2022-10-06T13:04:08.233Z"
   },
   {
    "duration": 3,
    "start_time": "2022-10-06T13:04:08.267Z"
   },
   {
    "duration": 9,
    "start_time": "2022-10-06T13:04:08.271Z"
   },
   {
    "duration": 13,
    "start_time": "2022-10-06T13:04:08.282Z"
   },
   {
    "duration": 25,
    "start_time": "2022-10-06T13:04:08.296Z"
   },
   {
    "duration": 20,
    "start_time": "2022-10-06T13:04:08.323Z"
   },
   {
    "duration": 9,
    "start_time": "2022-10-06T13:04:08.344Z"
   },
   {
    "duration": 10,
    "start_time": "2022-10-06T13:04:08.354Z"
   },
   {
    "duration": 15,
    "start_time": "2022-10-06T13:04:08.365Z"
   },
   {
    "duration": 6,
    "start_time": "2022-10-06T13:04:08.381Z"
   },
   {
    "duration": 31,
    "start_time": "2022-10-06T13:04:08.390Z"
   },
   {
    "duration": 11,
    "start_time": "2022-10-06T13:04:08.423Z"
   },
   {
    "duration": 11,
    "start_time": "2022-10-06T13:04:08.436Z"
   },
   {
    "duration": 10,
    "start_time": "2022-10-06T13:04:08.448Z"
   },
   {
    "duration": 5,
    "start_time": "2022-10-06T13:04:08.460Z"
   },
   {
    "duration": 8,
    "start_time": "2022-10-06T13:04:08.466Z"
   },
   {
    "duration": 7,
    "start_time": "2022-10-06T13:04:08.475Z"
   },
   {
    "duration": 29,
    "start_time": "2022-10-06T13:04:08.483Z"
   },
   {
    "duration": 112,
    "start_time": "2022-10-06T13:04:08.513Z"
   },
   {
    "duration": 294,
    "start_time": "2022-10-06T13:04:08.626Z"
   },
   {
    "duration": 5,
    "start_time": "2022-10-06T13:04:08.922Z"
   },
   {
    "duration": 8,
    "start_time": "2022-10-06T13:04:08.929Z"
   },
   {
    "duration": 398,
    "start_time": "2022-10-06T13:04:08.938Z"
   },
   {
    "duration": 5,
    "start_time": "2022-10-06T13:04:09.337Z"
   },
   {
    "duration": 16,
    "start_time": "2022-10-06T13:04:09.344Z"
   },
   {
    "duration": 299,
    "start_time": "2022-10-06T13:04:09.361Z"
   },
   {
    "duration": 3,
    "start_time": "2022-10-06T13:04:09.662Z"
   },
   {
    "duration": 10,
    "start_time": "2022-10-06T13:04:09.666Z"
   },
   {
    "duration": 22118,
    "start_time": "2022-10-06T13:04:09.677Z"
   },
   {
    "duration": 4,
    "start_time": "2022-10-06T13:04:31.797Z"
   },
   {
    "duration": 269,
    "start_time": "2022-10-06T13:04:31.803Z"
   },
   {
    "duration": 7,
    "start_time": "2022-10-06T13:04:32.074Z"
   },
   {
    "duration": 5081,
    "start_time": "2022-10-06T13:04:32.083Z"
   },
   {
    "duration": 5,
    "start_time": "2022-10-06T13:04:37.165Z"
   },
   {
    "duration": 9,
    "start_time": "2022-10-06T13:04:37.171Z"
   },
   {
    "duration": 49,
    "start_time": "2022-10-06T13:04:37.181Z"
   },
   {
    "duration": 91,
    "start_time": "2022-10-06T13:04:37.329Z"
   },
   {
    "duration": 10,
    "start_time": "2022-10-06T13:04:37.425Z"
   },
   {
    "duration": 48,
    "start_time": "2022-10-06T13:04:37.437Z"
   },
   {
    "duration": 35,
    "start_time": "2022-10-06T13:04:37.487Z"
   },
   {
    "duration": 302,
    "start_time": "2022-10-06T13:04:37.523Z"
   },
   {
    "duration": 4,
    "start_time": "2022-10-06T13:04:37.827Z"
   },
   {
    "duration": 8,
    "start_time": "2022-10-06T13:04:37.832Z"
   },
   {
    "duration": 8049,
    "start_time": "2022-10-06T13:04:37.842Z"
   },
   {
    "duration": 5,
    "start_time": "2022-10-06T13:04:45.892Z"
   },
   {
    "duration": 17,
    "start_time": "2022-10-06T13:04:45.898Z"
   },
   {
    "duration": 107,
    "start_time": "2022-10-06T13:04:45.916Z"
   },
   {
    "duration": 90,
    "start_time": "2022-10-06T13:04:46.029Z"
   },
   {
    "duration": 11,
    "start_time": "2022-10-06T13:04:46.123Z"
   },
   {
    "duration": 15,
    "start_time": "2022-10-06T13:04:46.135Z"
   },
   {
    "duration": 4,
    "start_time": "2022-10-06T13:04:46.151Z"
   },
   {
    "duration": 470,
    "start_time": "2022-10-06T13:04:46.157Z"
   },
   {
    "duration": 4,
    "start_time": "2022-10-06T13:04:46.629Z"
   },
   {
    "duration": 10,
    "start_time": "2022-10-06T13:04:46.634Z"
   },
   {
    "duration": 11633,
    "start_time": "2022-10-06T13:04:46.646Z"
   },
   {
    "duration": 5,
    "start_time": "2022-10-06T13:04:58.280Z"
   },
   {
    "duration": 12,
    "start_time": "2022-10-06T13:04:58.286Z"
   },
   {
    "duration": 116,
    "start_time": "2022-10-06T13:04:58.299Z"
   },
   {
    "duration": 108,
    "start_time": "2022-10-06T13:04:58.423Z"
   },
   {
    "duration": 7,
    "start_time": "2022-10-06T13:04:58.532Z"
   },
   {
    "duration": 11,
    "start_time": "2022-10-06T13:04:58.540Z"
   },
   {
    "duration": 4,
    "start_time": "2022-10-06T13:04:58.553Z"
   },
   {
    "duration": 177,
    "start_time": "2022-10-06T13:04:58.559Z"
   },
   {
    "duration": 4,
    "start_time": "2022-10-06T13:04:58.738Z"
   },
   {
    "duration": 15,
    "start_time": "2022-10-06T13:04:58.744Z"
   },
   {
    "duration": 4065,
    "start_time": "2022-10-06T13:04:58.761Z"
   },
   {
    "duration": 5,
    "start_time": "2022-10-06T13:05:02.829Z"
   },
   {
    "duration": 32,
    "start_time": "2022-10-06T13:05:02.836Z"
   },
   {
    "duration": 58,
    "start_time": "2022-10-06T13:05:02.870Z"
   },
   {
    "duration": 191,
    "start_time": "2022-10-06T13:05:02.930Z"
   },
   {
    "duration": 41,
    "start_time": "2022-10-06T13:05:03.123Z"
   },
   {
    "duration": 22302,
    "start_time": "2022-10-06T13:08:27.063Z"
   },
   {
    "duration": 3,
    "start_time": "2022-10-06T13:08:49.367Z"
   },
   {
    "duration": 12,
    "start_time": "2022-10-06T13:09:06.408Z"
   },
   {
    "duration": 6455,
    "start_time": "2022-10-06T13:09:16.006Z"
   },
   {
    "duration": 4,
    "start_time": "2022-10-06T13:09:22.463Z"
   },
   {
    "duration": 15600,
    "start_time": "2022-10-06T13:10:25.559Z"
   },
   {
    "duration": 4,
    "start_time": "2022-10-06T13:10:41.161Z"
   },
   {
    "duration": 1315,
    "start_time": "2022-10-06T13:45:52.266Z"
   },
   {
    "duration": 44,
    "start_time": "2022-10-06T13:45:53.583Z"
   },
   {
    "duration": 12,
    "start_time": "2022-10-06T13:45:53.629Z"
   },
   {
    "duration": 16,
    "start_time": "2022-10-06T13:45:53.643Z"
   },
   {
    "duration": 3,
    "start_time": "2022-10-06T13:45:53.661Z"
   },
   {
    "duration": 9,
    "start_time": "2022-10-06T13:45:53.665Z"
   },
   {
    "duration": 6,
    "start_time": "2022-10-06T13:45:53.675Z"
   },
   {
    "duration": 39,
    "start_time": "2022-10-06T13:45:53.683Z"
   },
   {
    "duration": 14,
    "start_time": "2022-10-06T13:45:53.724Z"
   },
   {
    "duration": 8,
    "start_time": "2022-10-06T13:45:53.740Z"
   },
   {
    "duration": 4,
    "start_time": "2022-10-06T13:45:53.749Z"
   },
   {
    "duration": 17,
    "start_time": "2022-10-06T13:45:53.754Z"
   },
   {
    "duration": 4,
    "start_time": "2022-10-06T13:45:53.772Z"
   },
   {
    "duration": 6,
    "start_time": "2022-10-06T13:45:53.777Z"
   },
   {
    "duration": 7,
    "start_time": "2022-10-06T13:45:53.785Z"
   },
   {
    "duration": 28,
    "start_time": "2022-10-06T13:45:53.793Z"
   },
   {
    "duration": 10,
    "start_time": "2022-10-06T13:45:53.823Z"
   },
   {
    "duration": 23,
    "start_time": "2022-10-06T13:45:53.835Z"
   },
   {
    "duration": 12,
    "start_time": "2022-10-06T13:45:53.859Z"
   },
   {
    "duration": 13,
    "start_time": "2022-10-06T13:45:53.873Z"
   },
   {
    "duration": 30,
    "start_time": "2022-10-06T13:45:53.887Z"
   },
   {
    "duration": 123,
    "start_time": "2022-10-06T13:45:53.919Z"
   },
   {
    "duration": 149,
    "start_time": "2022-10-06T13:45:54.043Z"
   },
   {
    "duration": 0,
    "start_time": "2022-10-06T13:45:54.197Z"
   },
   {
    "duration": 0,
    "start_time": "2022-10-06T13:45:54.198Z"
   },
   {
    "duration": 0,
    "start_time": "2022-10-06T13:45:54.200Z"
   },
   {
    "duration": 0,
    "start_time": "2022-10-06T13:45:54.209Z"
   },
   {
    "duration": 0,
    "start_time": "2022-10-06T13:45:54.210Z"
   },
   {
    "duration": 0,
    "start_time": "2022-10-06T13:45:54.211Z"
   },
   {
    "duration": 0,
    "start_time": "2022-10-06T13:45:54.212Z"
   },
   {
    "duration": 0,
    "start_time": "2022-10-06T13:45:54.213Z"
   },
   {
    "duration": 0,
    "start_time": "2022-10-06T13:45:54.214Z"
   },
   {
    "duration": 0,
    "start_time": "2022-10-06T13:45:54.214Z"
   },
   {
    "duration": 0,
    "start_time": "2022-10-06T13:45:54.216Z"
   },
   {
    "duration": 0,
    "start_time": "2022-10-06T13:45:54.217Z"
   },
   {
    "duration": 0,
    "start_time": "2022-10-06T13:45:54.218Z"
   },
   {
    "duration": 0,
    "start_time": "2022-10-06T13:45:54.219Z"
   },
   {
    "duration": 0,
    "start_time": "2022-10-06T13:45:54.220Z"
   },
   {
    "duration": 0,
    "start_time": "2022-10-06T13:45:54.221Z"
   },
   {
    "duration": 0,
    "start_time": "2022-10-06T13:45:54.222Z"
   },
   {
    "duration": 0,
    "start_time": "2022-10-06T13:45:54.222Z"
   },
   {
    "duration": 0,
    "start_time": "2022-10-06T13:45:54.223Z"
   },
   {
    "duration": 0,
    "start_time": "2022-10-06T13:45:54.227Z"
   },
   {
    "duration": 0,
    "start_time": "2022-10-06T13:45:54.228Z"
   },
   {
    "duration": 0,
    "start_time": "2022-10-06T13:45:54.229Z"
   },
   {
    "duration": 0,
    "start_time": "2022-10-06T13:45:54.230Z"
   },
   {
    "duration": 0,
    "start_time": "2022-10-06T13:45:54.231Z"
   },
   {
    "duration": 0,
    "start_time": "2022-10-06T13:45:54.232Z"
   },
   {
    "duration": 0,
    "start_time": "2022-10-06T13:45:54.233Z"
   },
   {
    "duration": 0,
    "start_time": "2022-10-06T13:45:54.234Z"
   },
   {
    "duration": 0,
    "start_time": "2022-10-06T13:45:54.235Z"
   },
   {
    "duration": 0,
    "start_time": "2022-10-06T13:45:54.236Z"
   },
   {
    "duration": 0,
    "start_time": "2022-10-06T13:45:54.237Z"
   },
   {
    "duration": 0,
    "start_time": "2022-10-06T13:45:54.238Z"
   },
   {
    "duration": 0,
    "start_time": "2022-10-06T13:45:54.239Z"
   },
   {
    "duration": 0,
    "start_time": "2022-10-06T13:45:54.239Z"
   },
   {
    "duration": 0,
    "start_time": "2022-10-06T13:45:54.240Z"
   },
   {
    "duration": 0,
    "start_time": "2022-10-06T13:45:54.241Z"
   },
   {
    "duration": 0,
    "start_time": "2022-10-06T13:45:54.242Z"
   },
   {
    "duration": 0,
    "start_time": "2022-10-06T13:45:54.243Z"
   },
   {
    "duration": 0,
    "start_time": "2022-10-06T13:45:54.244Z"
   },
   {
    "duration": 0,
    "start_time": "2022-10-06T13:45:54.245Z"
   },
   {
    "duration": 0,
    "start_time": "2022-10-06T13:45:54.246Z"
   },
   {
    "duration": 0,
    "start_time": "2022-10-06T13:45:54.247Z"
   },
   {
    "duration": 0,
    "start_time": "2022-10-06T13:45:54.247Z"
   },
   {
    "duration": 0,
    "start_time": "2022-10-06T13:45:54.248Z"
   },
   {
    "duration": 0,
    "start_time": "2022-10-06T13:45:54.316Z"
   },
   {
    "duration": 0,
    "start_time": "2022-10-06T13:45:54.317Z"
   },
   {
    "duration": 0,
    "start_time": "2022-10-06T13:45:54.317Z"
   },
   {
    "duration": 0,
    "start_time": "2022-10-06T13:45:54.318Z"
   },
   {
    "duration": 0,
    "start_time": "2022-10-06T13:45:54.318Z"
   },
   {
    "duration": 0,
    "start_time": "2022-10-06T13:45:54.319Z"
   },
   {
    "duration": 0,
    "start_time": "2022-10-06T13:45:54.320Z"
   },
   {
    "duration": 0,
    "start_time": "2022-10-06T13:45:54.320Z"
   },
   {
    "duration": 0,
    "start_time": "2022-10-06T13:45:54.321Z"
   },
   {
    "duration": 0,
    "start_time": "2022-10-06T13:45:54.321Z"
   },
   {
    "duration": 1321,
    "start_time": "2022-10-06T13:50:34.872Z"
   },
   {
    "duration": 44,
    "start_time": "2022-10-06T13:50:36.195Z"
   },
   {
    "duration": 13,
    "start_time": "2022-10-06T13:50:36.241Z"
   },
   {
    "duration": 16,
    "start_time": "2022-10-06T13:50:36.255Z"
   },
   {
    "duration": 3,
    "start_time": "2022-10-06T13:50:36.273Z"
   },
   {
    "duration": 6,
    "start_time": "2022-10-06T13:50:36.277Z"
   },
   {
    "duration": 30,
    "start_time": "2022-10-06T13:50:36.285Z"
   },
   {
    "duration": 7,
    "start_time": "2022-10-06T13:50:36.317Z"
   },
   {
    "duration": 25,
    "start_time": "2022-10-06T13:50:36.325Z"
   },
   {
    "duration": 4,
    "start_time": "2022-10-06T13:50:36.353Z"
   },
   {
    "duration": 9,
    "start_time": "2022-10-06T13:50:36.358Z"
   },
   {
    "duration": 21,
    "start_time": "2022-10-06T13:50:36.368Z"
   },
   {
    "duration": 9,
    "start_time": "2022-10-06T13:50:36.390Z"
   },
   {
    "duration": 27,
    "start_time": "2022-10-06T13:50:36.400Z"
   },
   {
    "duration": 12,
    "start_time": "2022-10-06T13:50:36.429Z"
   },
   {
    "duration": 7,
    "start_time": "2022-10-06T13:50:36.442Z"
   },
   {
    "duration": 5,
    "start_time": "2022-10-06T13:50:36.450Z"
   },
   {
    "duration": 34,
    "start_time": "2022-10-06T13:50:36.457Z"
   },
   {
    "duration": 22,
    "start_time": "2022-10-06T13:50:36.493Z"
   },
   {
    "duration": 17,
    "start_time": "2022-10-06T13:50:45.890Z"
   },
   {
    "duration": 1312,
    "start_time": "2022-10-06T13:51:07.781Z"
   },
   {
    "duration": 62,
    "start_time": "2022-10-06T13:51:09.095Z"
   },
   {
    "duration": 12,
    "start_time": "2022-10-06T13:51:09.158Z"
   },
   {
    "duration": 15,
    "start_time": "2022-10-06T13:51:09.172Z"
   },
   {
    "duration": 4,
    "start_time": "2022-10-06T13:51:09.189Z"
   },
   {
    "duration": 10,
    "start_time": "2022-10-06T13:51:09.194Z"
   },
   {
    "duration": 5,
    "start_time": "2022-10-06T13:51:09.205Z"
   },
   {
    "duration": 28,
    "start_time": "2022-10-06T13:51:09.211Z"
   },
   {
    "duration": 13,
    "start_time": "2022-10-06T13:51:09.240Z"
   },
   {
    "duration": 6,
    "start_time": "2022-10-06T13:51:09.254Z"
   },
   {
    "duration": 6,
    "start_time": "2022-10-06T13:51:09.263Z"
   },
   {
    "duration": 14,
    "start_time": "2022-10-06T13:51:09.270Z"
   },
   {
    "duration": 4,
    "start_time": "2022-10-06T13:51:09.286Z"
   },
   {
    "duration": 25,
    "start_time": "2022-10-06T13:51:09.293Z"
   },
   {
    "duration": 13,
    "start_time": "2022-10-06T13:51:09.321Z"
   },
   {
    "duration": 6,
    "start_time": "2022-10-06T13:51:09.335Z"
   },
   {
    "duration": 7,
    "start_time": "2022-10-06T13:51:09.343Z"
   },
   {
    "duration": 33,
    "start_time": "2022-10-06T13:51:09.352Z"
   },
   {
    "duration": 31,
    "start_time": "2022-10-06T13:51:26.925Z"
   },
   {
    "duration": 11,
    "start_time": "2022-10-06T13:51:29.340Z"
   },
   {
    "duration": 1350,
    "start_time": "2022-10-06T13:53:11.654Z"
   },
   {
    "duration": 44,
    "start_time": "2022-10-06T13:53:13.005Z"
   },
   {
    "duration": 13,
    "start_time": "2022-10-06T13:53:13.050Z"
   },
   {
    "duration": 18,
    "start_time": "2022-10-06T13:53:13.065Z"
   },
   {
    "duration": 3,
    "start_time": "2022-10-06T13:53:13.084Z"
   },
   {
    "duration": 17,
    "start_time": "2022-10-06T13:53:13.088Z"
   },
   {
    "duration": 18,
    "start_time": "2022-10-06T13:53:13.107Z"
   },
   {
    "duration": 12,
    "start_time": "2022-10-06T13:53:13.127Z"
   },
   {
    "duration": 14,
    "start_time": "2022-10-06T13:53:13.141Z"
   },
   {
    "duration": 7,
    "start_time": "2022-10-06T13:53:13.159Z"
   },
   {
    "duration": 7,
    "start_time": "2022-10-06T13:53:13.168Z"
   },
   {
    "duration": 14,
    "start_time": "2022-10-06T13:53:13.176Z"
   },
   {
    "duration": 4,
    "start_time": "2022-10-06T13:53:13.192Z"
   },
   {
    "duration": 18,
    "start_time": "2022-10-06T13:53:13.197Z"
   },
   {
    "duration": 12,
    "start_time": "2022-10-06T13:53:13.217Z"
   },
   {
    "duration": 5,
    "start_time": "2022-10-06T13:53:13.231Z"
   },
   {
    "duration": 3,
    "start_time": "2022-10-06T13:53:13.238Z"
   },
   {
    "duration": 34,
    "start_time": "2022-10-06T13:53:13.242Z"
   },
   {
    "duration": 15,
    "start_time": "2022-10-06T13:53:13.278Z"
   },
   {
    "duration": 53,
    "start_time": "2022-10-06T13:53:13.295Z"
   },
   {
    "duration": 11,
    "start_time": "2022-10-06T13:53:13.350Z"
   },
   {
    "duration": 14,
    "start_time": "2022-10-06T13:53:24.984Z"
   },
   {
    "duration": 11,
    "start_time": "2022-10-06T13:53:40.760Z"
   },
   {
    "duration": 117,
    "start_time": "2022-10-06T13:53:40.772Z"
   },
   {
    "duration": 320,
    "start_time": "2022-10-06T13:53:40.891Z"
   },
   {
    "duration": 8,
    "start_time": "2022-10-06T13:53:41.215Z"
   },
   {
    "duration": 11,
    "start_time": "2022-10-06T13:53:41.225Z"
   },
   {
    "duration": 388,
    "start_time": "2022-10-06T13:53:41.237Z"
   },
   {
    "duration": 4,
    "start_time": "2022-10-06T13:53:41.628Z"
   },
   {
    "duration": 12,
    "start_time": "2022-10-06T13:53:41.634Z"
   },
   {
    "duration": 318,
    "start_time": "2022-10-06T13:53:41.648Z"
   },
   {
    "duration": 4,
    "start_time": "2022-10-06T13:53:41.967Z"
   },
   {
    "duration": 19,
    "start_time": "2022-10-06T13:53:41.974Z"
   },
   {
    "duration": 23473,
    "start_time": "2022-10-06T13:53:41.995Z"
   },
   {
    "duration": 4,
    "start_time": "2022-10-06T13:54:05.470Z"
   },
   {
    "duration": 277,
    "start_time": "2022-10-06T13:54:05.476Z"
   },
   {
    "duration": 7,
    "start_time": "2022-10-06T13:54:05.754Z"
   },
   {
    "duration": 4971,
    "start_time": "2022-10-06T13:54:05.763Z"
   },
   {
    "duration": 4,
    "start_time": "2022-10-06T13:54:10.736Z"
   },
   {
    "duration": 10,
    "start_time": "2022-10-06T13:54:10.742Z"
   },
   {
    "duration": 76,
    "start_time": "2022-10-06T13:54:10.753Z"
   },
   {
    "duration": 101,
    "start_time": "2022-10-06T13:54:10.830Z"
   },
   {
    "duration": 18,
    "start_time": "2022-10-06T13:54:11.013Z"
   },
   {
    "duration": 43,
    "start_time": "2022-10-06T13:54:11.033Z"
   },
   {
    "duration": 8,
    "start_time": "2022-10-06T13:54:11.078Z"
   },
   {
    "duration": 303,
    "start_time": "2022-10-06T13:54:11.087Z"
   },
   {
    "duration": 3,
    "start_time": "2022-10-06T13:54:11.392Z"
   },
   {
    "duration": 43,
    "start_time": "2022-10-06T13:54:11.397Z"
   },
   {
    "duration": 7942,
    "start_time": "2022-10-06T13:54:11.441Z"
   },
   {
    "duration": 4,
    "start_time": "2022-10-06T13:54:19.385Z"
   },
   {
    "duration": 15228,
    "start_time": "2022-10-06T13:54:19.392Z"
   },
   {
    "duration": 4,
    "start_time": "2022-10-06T13:54:34.622Z"
   },
   {
    "duration": 12,
    "start_time": "2022-10-06T13:54:34.628Z"
   },
   {
    "duration": 78,
    "start_time": "2022-10-06T13:54:34.642Z"
   },
   {
    "duration": 98,
    "start_time": "2022-10-06T13:54:34.722Z"
   },
   {
    "duration": 16,
    "start_time": "2022-10-06T13:54:34.822Z"
   },
   {
    "duration": 35,
    "start_time": "2022-10-06T13:54:34.840Z"
   },
   {
    "duration": 19,
    "start_time": "2022-10-06T13:54:34.876Z"
   },
   {
    "duration": 482,
    "start_time": "2022-10-06T13:54:34.896Z"
   },
   {
    "duration": 3,
    "start_time": "2022-10-06T13:54:35.380Z"
   },
   {
    "duration": 33,
    "start_time": "2022-10-06T13:54:35.385Z"
   },
   {
    "duration": 11613,
    "start_time": "2022-10-06T13:54:35.425Z"
   },
   {
    "duration": 5,
    "start_time": "2022-10-06T13:54:47.039Z"
   },
   {
    "duration": 15,
    "start_time": "2022-10-06T13:54:47.045Z"
   },
   {
    "duration": 64,
    "start_time": "2022-10-06T13:54:47.061Z"
   },
   {
    "duration": 89,
    "start_time": "2022-10-06T13:54:47.127Z"
   },
   {
    "duration": 117,
    "start_time": "2022-10-06T13:54:47.220Z"
   },
   {
    "duration": 16,
    "start_time": "2022-10-06T13:54:47.339Z"
   },
   {
    "duration": 13,
    "start_time": "2022-10-06T13:54:47.356Z"
   },
   {
    "duration": 180,
    "start_time": "2022-10-06T13:54:47.371Z"
   },
   {
    "duration": 4,
    "start_time": "2022-10-06T13:54:47.553Z"
   },
   {
    "duration": 22,
    "start_time": "2022-10-06T13:54:47.559Z"
   },
   {
    "duration": 3999,
    "start_time": "2022-10-06T13:54:47.582Z"
   },
   {
    "duration": 5,
    "start_time": "2022-10-06T13:54:51.583Z"
   },
   {
    "duration": 32,
    "start_time": "2022-10-06T13:54:51.590Z"
   },
   {
    "duration": 91,
    "start_time": "2022-10-06T13:54:51.624Z"
   },
   {
    "duration": 90,
    "start_time": "2022-10-06T13:54:51.733Z"
   },
   {
    "duration": 25,
    "start_time": "2022-10-06T13:54:51.825Z"
   },
   {
    "duration": 290,
    "start_time": "2022-10-06T13:59:51.465Z"
   },
   {
    "duration": 4,
    "start_time": "2022-10-06T13:59:53.480Z"
   },
   {
    "duration": 281,
    "start_time": "2022-10-06T14:01:50.186Z"
   },
   {
    "duration": 264,
    "start_time": "2022-10-06T14:01:59.193Z"
   },
   {
    "duration": 10,
    "start_time": "2022-10-06T14:22:14.322Z"
   },
   {
    "duration": 8,
    "start_time": "2022-10-06T14:24:19.431Z"
   },
   {
    "duration": 16838,
    "start_time": "2022-10-06T14:24:58.056Z"
   },
   {
    "duration": 15,
    "start_time": "2022-10-06T14:25:14.896Z"
   },
   {
    "duration": 19724,
    "start_time": "2022-10-06T14:25:24.208Z"
   },
   {
    "duration": 5,
    "start_time": "2022-10-06T14:25:43.933Z"
   },
   {
    "duration": 16798,
    "start_time": "2022-10-06T14:26:31.105Z"
   },
   {
    "duration": 13,
    "start_time": "2022-10-06T14:26:47.905Z"
   },
   {
    "duration": 13923,
    "start_time": "2022-10-06T14:26:57.826Z"
   },
   {
    "duration": 5,
    "start_time": "2022-10-06T14:27:11.751Z"
   },
   {
    "duration": 10690,
    "start_time": "2022-10-06T14:27:35.393Z"
   },
   {
    "duration": 5,
    "start_time": "2022-10-06T14:27:46.085Z"
   },
   {
    "duration": 271,
    "start_time": "2022-10-06T14:28:17.323Z"
   },
   {
    "duration": 276,
    "start_time": "2022-10-06T14:28:23.879Z"
   },
   {
    "duration": 5988,
    "start_time": "2022-10-06T14:28:52.650Z"
   },
   {
    "duration": 4,
    "start_time": "2022-10-06T14:28:58.640Z"
   },
   {
    "duration": 5027,
    "start_time": "2022-10-06T14:30:16.172Z"
   },
   {
    "duration": 3,
    "start_time": "2022-10-06T14:30:21.201Z"
   },
   {
    "duration": 13546,
    "start_time": "2022-10-06T14:31:39.894Z"
   },
   {
    "duration": 5,
    "start_time": "2022-10-06T14:31:53.442Z"
   },
   {
    "duration": 16669,
    "start_time": "2022-10-06T14:32:00.322Z"
   },
   {
    "duration": 5,
    "start_time": "2022-10-06T14:32:16.992Z"
   },
   {
    "duration": 19290,
    "start_time": "2022-10-06T14:32:30.466Z"
   },
   {
    "duration": 4,
    "start_time": "2022-10-06T14:32:49.758Z"
   },
   {
    "duration": 22419,
    "start_time": "2022-10-06T14:33:09.802Z"
   },
   {
    "duration": 5,
    "start_time": "2022-10-06T14:33:32.222Z"
   },
   {
    "duration": 19632,
    "start_time": "2022-10-06T14:33:45.193Z"
   },
   {
    "duration": 5,
    "start_time": "2022-10-06T14:34:04.828Z"
   },
   {
    "duration": 14,
    "start_time": "2022-10-06T14:36:20.707Z"
   },
   {
    "duration": 17696,
    "start_time": "2022-10-06T14:37:19.955Z"
   },
   {
    "duration": 3,
    "start_time": "2022-10-06T14:37:37.653Z"
   },
   {
    "duration": 8345,
    "start_time": "2022-10-06T14:41:09.646Z"
   },
   {
    "duration": 5,
    "start_time": "2022-10-06T14:41:17.993Z"
   },
   {
    "duration": 11260,
    "start_time": "2022-10-06T14:41:37.805Z"
   },
   {
    "duration": 4,
    "start_time": "2022-10-06T14:41:49.067Z"
   },
   {
    "duration": 1462,
    "start_time": "2022-10-06T14:43:22.538Z"
   },
   {
    "duration": 53,
    "start_time": "2022-10-06T14:43:24.001Z"
   },
   {
    "duration": 13,
    "start_time": "2022-10-06T14:43:24.056Z"
   },
   {
    "duration": 18,
    "start_time": "2022-10-06T14:43:24.071Z"
   },
   {
    "duration": 4,
    "start_time": "2022-10-06T14:43:24.091Z"
   },
   {
    "duration": 41,
    "start_time": "2022-10-06T14:43:24.097Z"
   },
   {
    "duration": 10,
    "start_time": "2022-10-06T14:43:24.140Z"
   },
   {
    "duration": 8,
    "start_time": "2022-10-06T14:43:24.152Z"
   },
   {
    "duration": 16,
    "start_time": "2022-10-06T14:43:24.161Z"
   },
   {
    "duration": 5,
    "start_time": "2022-10-06T14:43:24.180Z"
   },
   {
    "duration": 8,
    "start_time": "2022-10-06T14:43:24.186Z"
   },
   {
    "duration": 29,
    "start_time": "2022-10-06T14:43:24.197Z"
   },
   {
    "duration": 11,
    "start_time": "2022-10-06T14:43:24.228Z"
   },
   {
    "duration": 9,
    "start_time": "2022-10-06T14:43:24.241Z"
   },
   {
    "duration": 15,
    "start_time": "2022-10-06T14:43:24.251Z"
   },
   {
    "duration": 6,
    "start_time": "2022-10-06T14:43:24.267Z"
   },
   {
    "duration": 6,
    "start_time": "2022-10-06T14:43:24.274Z"
   },
   {
    "duration": 49,
    "start_time": "2022-10-06T14:43:24.281Z"
   },
   {
    "duration": 12,
    "start_time": "2022-10-06T14:43:24.331Z"
   },
   {
    "duration": 21,
    "start_time": "2022-10-06T14:43:24.345Z"
   },
   {
    "duration": 17,
    "start_time": "2022-10-06T14:43:24.368Z"
   },
   {
    "duration": 147,
    "start_time": "2022-10-06T14:43:24.409Z"
   },
   {
    "duration": 292,
    "start_time": "2022-10-06T14:43:24.557Z"
   },
   {
    "duration": 5,
    "start_time": "2022-10-06T14:43:24.851Z"
   },
   {
    "duration": 8,
    "start_time": "2022-10-06T14:43:24.858Z"
   },
   {
    "duration": 301,
    "start_time": "2022-10-06T14:43:24.869Z"
   },
   {
    "duration": 4,
    "start_time": "2022-10-06T14:43:25.173Z"
   },
   {
    "duration": 9,
    "start_time": "2022-10-06T14:43:25.181Z"
   },
   {
    "duration": 333,
    "start_time": "2022-10-06T14:43:25.192Z"
   },
   {
    "duration": 4,
    "start_time": "2022-10-06T14:43:25.528Z"
   },
   {
    "duration": 9,
    "start_time": "2022-10-06T14:43:25.534Z"
   },
   {
    "duration": 22964,
    "start_time": "2022-10-06T14:43:25.544Z"
   },
   {
    "duration": 4,
    "start_time": "2022-10-06T14:43:48.510Z"
   },
   {
    "duration": 265,
    "start_time": "2022-10-06T14:43:48.515Z"
   },
   {
    "duration": 12,
    "start_time": "2022-10-06T14:43:48.782Z"
   },
   {
    "duration": 5171,
    "start_time": "2022-10-06T14:43:48.811Z"
   },
   {
    "duration": 4,
    "start_time": "2022-10-06T14:43:53.984Z"
   },
   {
    "duration": 24,
    "start_time": "2022-10-06T14:43:53.990Z"
   },
   {
    "duration": 96,
    "start_time": "2022-10-06T14:43:54.019Z"
   },
   {
    "duration": 20,
    "start_time": "2022-10-06T14:43:54.209Z"
   },
   {
    "duration": 14,
    "start_time": "2022-10-06T14:43:54.231Z"
   },
   {
    "duration": 49,
    "start_time": "2022-10-06T14:43:54.247Z"
   },
   {
    "duration": 24,
    "start_time": "2022-10-06T14:43:54.298Z"
   },
   {
    "duration": 311,
    "start_time": "2022-10-06T14:43:54.323Z"
   },
   {
    "duration": 5,
    "start_time": "2022-10-06T14:43:54.635Z"
   },
   {
    "duration": 14,
    "start_time": "2022-10-06T14:43:54.641Z"
   },
   {
    "duration": 20208,
    "start_time": "2022-10-06T14:43:54.656Z"
   },
   {
    "duration": 4,
    "start_time": "2022-10-06T14:44:14.866Z"
   },
   {
    "duration": 11,
    "start_time": "2022-10-06T14:44:14.871Z"
   },
   {
    "duration": 135,
    "start_time": "2022-10-06T14:44:14.883Z"
   },
   {
    "duration": 92,
    "start_time": "2022-10-06T14:44:15.023Z"
   },
   {
    "duration": 5,
    "start_time": "2022-10-06T14:44:15.125Z"
   },
   {
    "duration": 12,
    "start_time": "2022-10-06T14:44:15.131Z"
   },
   {
    "duration": 4,
    "start_time": "2022-10-06T14:44:15.144Z"
   },
   {
    "duration": 452,
    "start_time": "2022-10-06T14:44:15.150Z"
   },
   {
    "duration": 15,
    "start_time": "2022-10-06T14:44:15.604Z"
   },
   {
    "duration": 11,
    "start_time": "2022-10-06T14:44:15.624Z"
   },
   {
    "duration": 17531,
    "start_time": "2022-10-06T14:44:15.637Z"
   },
   {
    "duration": 4,
    "start_time": "2022-10-06T14:44:33.170Z"
   },
   {
    "duration": 14,
    "start_time": "2022-10-06T14:44:33.176Z"
   },
   {
    "duration": 124,
    "start_time": "2022-10-06T14:44:33.191Z"
   },
   {
    "duration": 99,
    "start_time": "2022-10-06T14:44:33.316Z"
   },
   {
    "duration": 10,
    "start_time": "2022-10-06T14:44:33.417Z"
   },
   {
    "duration": 10,
    "start_time": "2022-10-06T14:44:33.429Z"
   },
   {
    "duration": 4,
    "start_time": "2022-10-06T14:44:33.440Z"
   },
   {
    "duration": 184,
    "start_time": "2022-10-06T14:44:33.445Z"
   },
   {
    "duration": 4,
    "start_time": "2022-10-06T14:44:33.630Z"
   },
   {
    "duration": 10,
    "start_time": "2022-10-06T14:44:33.636Z"
   },
   {
    "duration": 11031,
    "start_time": "2022-10-06T14:44:33.647Z"
   },
   {
    "duration": 4,
    "start_time": "2022-10-06T14:44:44.680Z"
   },
   {
    "duration": 9,
    "start_time": "2022-10-06T14:44:44.685Z"
   },
   {
    "duration": 115,
    "start_time": "2022-10-06T14:44:44.695Z"
   },
   {
    "duration": 108,
    "start_time": "2022-10-06T14:44:44.813Z"
   },
   {
    "duration": 12,
    "start_time": "2022-10-06T14:44:44.923Z"
   },
   {
    "duration": 1695,
    "start_time": "2022-10-06T17:56:51.508Z"
   },
   {
    "duration": 79,
    "start_time": "2022-10-06T17:56:53.205Z"
   },
   {
    "duration": 16,
    "start_time": "2022-10-06T17:56:53.286Z"
   },
   {
    "duration": 22,
    "start_time": "2022-10-06T17:56:53.304Z"
   },
   {
    "duration": 14,
    "start_time": "2022-10-06T17:56:53.329Z"
   },
   {
    "duration": 12,
    "start_time": "2022-10-06T17:56:53.345Z"
   },
   {
    "duration": 13,
    "start_time": "2022-10-06T17:56:53.359Z"
   },
   {
    "duration": 10,
    "start_time": "2022-10-06T17:56:53.374Z"
   },
   {
    "duration": 15,
    "start_time": "2022-10-06T17:56:53.386Z"
   },
   {
    "duration": 20,
    "start_time": "2022-10-06T17:56:53.403Z"
   },
   {
    "duration": 10,
    "start_time": "2022-10-06T17:56:53.425Z"
   },
   {
    "duration": 35,
    "start_time": "2022-10-06T17:56:53.437Z"
   },
   {
    "duration": 13,
    "start_time": "2022-10-06T17:56:53.474Z"
   },
   {
    "duration": 25,
    "start_time": "2022-10-06T17:56:53.490Z"
   },
   {
    "duration": 22,
    "start_time": "2022-10-06T17:56:53.517Z"
   },
   {
    "duration": 43,
    "start_time": "2022-10-06T17:56:53.541Z"
   },
   {
    "duration": 26,
    "start_time": "2022-10-06T17:56:53.585Z"
   },
   {
    "duration": 64,
    "start_time": "2022-10-06T17:56:53.612Z"
   },
   {
    "duration": 12,
    "start_time": "2022-10-06T17:56:53.678Z"
   },
   {
    "duration": 28,
    "start_time": "2022-10-06T17:56:53.692Z"
   },
   {
    "duration": 14,
    "start_time": "2022-10-06T17:56:53.722Z"
   },
   {
    "duration": 3341288,
    "start_time": "2022-10-06T17:57:18.537Z"
   },
   {
    "duration": 6,
    "start_time": "2022-10-06T18:52:59.828Z"
   },
   {
    "duration": 1425,
    "start_time": "2022-10-06T19:07:59.778Z"
   },
   {
    "duration": 41,
    "start_time": "2022-10-06T19:08:01.205Z"
   },
   {
    "duration": 15,
    "start_time": "2022-10-06T19:08:01.247Z"
   },
   {
    "duration": 38,
    "start_time": "2022-10-06T19:08:01.264Z"
   },
   {
    "duration": 43,
    "start_time": "2022-10-06T19:08:01.304Z"
   },
   {
    "duration": 27,
    "start_time": "2022-10-06T19:08:01.348Z"
   },
   {
    "duration": 35,
    "start_time": "2022-10-06T19:08:01.376Z"
   },
   {
    "duration": 58,
    "start_time": "2022-10-06T19:08:01.412Z"
   },
   {
    "duration": 34,
    "start_time": "2022-10-06T19:08:01.471Z"
   },
   {
    "duration": 78,
    "start_time": "2022-10-06T19:08:01.508Z"
   },
   {
    "duration": 68,
    "start_time": "2022-10-06T19:08:01.588Z"
   },
   {
    "duration": 71,
    "start_time": "2022-10-06T19:08:01.658Z"
   },
   {
    "duration": 38,
    "start_time": "2022-10-06T19:08:01.731Z"
   },
   {
    "duration": 24,
    "start_time": "2022-10-06T19:08:01.771Z"
   },
   {
    "duration": 25,
    "start_time": "2022-10-06T19:08:01.797Z"
   },
   {
    "duration": 95,
    "start_time": "2022-10-06T19:08:01.824Z"
   },
   {
    "duration": 50,
    "start_time": "2022-10-06T19:08:01.921Z"
   },
   {
    "duration": 45,
    "start_time": "2022-10-06T19:08:01.973Z"
   },
   {
    "duration": 17,
    "start_time": "2022-10-06T19:08:02.019Z"
   },
   {
    "duration": 50,
    "start_time": "2022-10-06T19:08:02.038Z"
   },
   {
    "duration": 30,
    "start_time": "2022-10-06T19:08:02.090Z"
   },
   {
    "duration": 154,
    "start_time": "2022-10-06T19:08:02.122Z"
   },
   {
    "duration": 273,
    "start_time": "2022-10-06T19:08:02.278Z"
   },
   {
    "duration": 5,
    "start_time": "2022-10-06T19:08:02.552Z"
   },
   {
    "duration": 32,
    "start_time": "2022-10-06T19:08:02.559Z"
   },
   {
    "duration": 294,
    "start_time": "2022-10-06T19:08:02.593Z"
   },
   {
    "duration": 4,
    "start_time": "2022-10-06T19:08:02.889Z"
   },
   {
    "duration": 24,
    "start_time": "2022-10-06T19:08:02.899Z"
   },
   {
    "duration": 297,
    "start_time": "2022-10-06T19:08:02.925Z"
   },
   {
    "duration": 5,
    "start_time": "2022-10-06T19:08:03.224Z"
   },
   {
    "duration": 15,
    "start_time": "2022-10-06T19:08:03.231Z"
   },
   {
    "duration": 22243,
    "start_time": "2022-10-06T19:08:03.248Z"
   },
   {
    "duration": 4,
    "start_time": "2022-10-06T19:08:25.493Z"
   },
   {
    "duration": 266,
    "start_time": "2022-10-06T19:08:25.498Z"
   },
   {
    "duration": 9,
    "start_time": "2022-10-06T19:08:25.766Z"
   },
   {
    "duration": 5063,
    "start_time": "2022-10-06T19:08:25.776Z"
   },
   {
    "duration": 6,
    "start_time": "2022-10-06T19:08:30.841Z"
   },
   {
    "duration": 41,
    "start_time": "2022-10-06T19:08:30.848Z"
   },
   {
    "duration": 231,
    "start_time": "2022-10-06T19:08:30.891Z"
   },
   {
    "duration": 27,
    "start_time": "2022-10-06T19:08:31.124Z"
   },
   {
    "duration": 54,
    "start_time": "2022-10-06T19:08:31.154Z"
   },
   {
    "duration": 87,
    "start_time": "2022-10-06T19:08:31.209Z"
   },
   {
    "duration": 9,
    "start_time": "2022-10-06T19:08:31.298Z"
   },
   {
    "duration": 303,
    "start_time": "2022-10-06T19:08:31.309Z"
   },
   {
    "duration": 9,
    "start_time": "2022-10-06T19:08:31.614Z"
   },
   {
    "duration": 17,
    "start_time": "2022-10-06T19:08:31.625Z"
   },
   {
    "duration": 19391,
    "start_time": "2022-10-06T19:08:31.644Z"
   },
   {
    "duration": 5,
    "start_time": "2022-10-06T19:08:51.037Z"
   },
   {
    "duration": 31,
    "start_time": "2022-10-06T19:08:51.043Z"
   },
   {
    "duration": 145,
    "start_time": "2022-10-06T19:08:51.075Z"
   },
   {
    "duration": 99,
    "start_time": "2022-10-06T19:08:51.222Z"
   },
   {
    "duration": 11,
    "start_time": "2022-10-06T19:08:51.322Z"
   },
   {
    "duration": 17,
    "start_time": "2022-10-06T19:08:51.334Z"
   },
   {
    "duration": 18,
    "start_time": "2022-10-06T19:08:51.352Z"
   },
   {
    "duration": 428,
    "start_time": "2022-10-06T19:08:51.372Z"
   },
   {
    "duration": 5,
    "start_time": "2022-10-06T19:08:51.802Z"
   },
   {
    "duration": 31,
    "start_time": "2022-10-06T19:08:51.810Z"
   },
   {
    "duration": 16941,
    "start_time": "2022-10-06T19:08:51.843Z"
   },
   {
    "duration": 5,
    "start_time": "2022-10-06T19:09:08.786Z"
   },
   {
    "duration": 22,
    "start_time": "2022-10-06T19:09:08.793Z"
   },
   {
    "duration": 118,
    "start_time": "2022-10-06T19:09:08.816Z"
   },
   {
    "duration": 146,
    "start_time": "2022-10-06T19:09:08.936Z"
   },
   {
    "duration": 36,
    "start_time": "2022-10-06T19:09:09.086Z"
   },
   {
    "duration": 72,
    "start_time": "2022-10-06T19:09:09.125Z"
   },
   {
    "duration": 41,
    "start_time": "2022-10-06T19:09:09.200Z"
   },
   {
    "duration": 202,
    "start_time": "2022-10-06T19:09:09.243Z"
   },
   {
    "duration": 5,
    "start_time": "2022-10-06T19:09:09.447Z"
   },
   {
    "duration": 27,
    "start_time": "2022-10-06T19:09:09.454Z"
   },
   {
    "duration": 11572,
    "start_time": "2022-10-06T19:09:09.482Z"
   },
   {
    "duration": 4,
    "start_time": "2022-10-06T19:09:21.056Z"
   },
   {
    "duration": 25,
    "start_time": "2022-10-06T19:09:21.062Z"
   },
   {
    "duration": 133,
    "start_time": "2022-10-06T19:09:21.089Z"
   },
   {
    "duration": 104,
    "start_time": "2022-10-06T19:09:21.223Z"
   },
   {
    "duration": 22,
    "start_time": "2022-10-06T19:09:21.329Z"
   },
   {
    "duration": 1521,
    "start_time": "2022-10-06T19:12:51.008Z"
   },
   {
    "duration": 41,
    "start_time": "2022-10-06T19:12:52.531Z"
   },
   {
    "duration": 14,
    "start_time": "2022-10-06T19:12:52.573Z"
   },
   {
    "duration": 28,
    "start_time": "2022-10-06T19:12:52.590Z"
   },
   {
    "duration": 10,
    "start_time": "2022-10-06T19:12:52.621Z"
   },
   {
    "duration": 25,
    "start_time": "2022-10-06T19:12:52.633Z"
   },
   {
    "duration": 26,
    "start_time": "2022-10-06T19:12:52.660Z"
   },
   {
    "duration": 14,
    "start_time": "2022-10-06T19:12:52.688Z"
   },
   {
    "duration": 27,
    "start_time": "2022-10-06T19:12:52.705Z"
   },
   {
    "duration": 122,
    "start_time": "2022-10-06T19:12:55.838Z"
   },
   {
    "duration": 25,
    "start_time": "2022-10-06T19:14:42.032Z"
   },
   {
    "duration": 8,
    "start_time": "2022-10-06T19:14:50.839Z"
   },
   {
    "duration": 5,
    "start_time": "2022-10-06T19:14:59.566Z"
   },
   {
    "duration": 45,
    "start_time": "2022-10-06T19:14:59.572Z"
   },
   {
    "duration": 12,
    "start_time": "2022-10-06T19:14:59.619Z"
   },
   {
    "duration": 14,
    "start_time": "2022-10-06T19:14:59.633Z"
   },
   {
    "duration": 6,
    "start_time": "2022-10-06T19:14:59.649Z"
   },
   {
    "duration": 7,
    "start_time": "2022-10-06T19:14:59.656Z"
   },
   {
    "duration": 5,
    "start_time": "2022-10-06T19:14:59.665Z"
   },
   {
    "duration": 8,
    "start_time": "2022-10-06T19:14:59.672Z"
   },
   {
    "duration": 49,
    "start_time": "2022-10-06T19:14:59.681Z"
   },
   {
    "duration": 6,
    "start_time": "2022-10-06T19:14:59.733Z"
   },
   {
    "duration": 8,
    "start_time": "2022-10-06T19:14:59.741Z"
   },
   {
    "duration": 14,
    "start_time": "2022-10-06T19:14:59.751Z"
   },
   {
    "duration": 4,
    "start_time": "2022-10-06T19:14:59.767Z"
   },
   {
    "duration": 8,
    "start_time": "2022-10-06T19:14:59.773Z"
   },
   {
    "duration": 40,
    "start_time": "2022-10-06T19:14:59.783Z"
   },
   {
    "duration": 8,
    "start_time": "2022-10-06T19:14:59.827Z"
   },
   {
    "duration": 8,
    "start_time": "2022-10-06T19:14:59.837Z"
   },
   {
    "duration": 42,
    "start_time": "2022-10-06T19:14:59.847Z"
   },
   {
    "duration": 33,
    "start_time": "2022-10-06T19:14:59.891Z"
   },
   {
    "duration": 23,
    "start_time": "2022-10-06T19:14:59.926Z"
   },
   {
    "duration": 13,
    "start_time": "2022-10-06T19:14:59.951Z"
   },
   {
    "duration": 168,
    "start_time": "2022-10-06T19:14:59.965Z"
   },
   {
    "duration": 271,
    "start_time": "2022-10-06T19:15:00.135Z"
   },
   {
    "duration": 5,
    "start_time": "2022-10-06T19:15:00.408Z"
   },
   {
    "duration": 21,
    "start_time": "2022-10-06T19:15:00.422Z"
   },
   {
    "duration": 329,
    "start_time": "2022-10-06T19:15:00.444Z"
   },
   {
    "duration": 4,
    "start_time": "2022-10-06T19:15:00.775Z"
   },
   {
    "duration": 32,
    "start_time": "2022-10-06T19:15:00.783Z"
   },
   {
    "duration": 258,
    "start_time": "2022-10-06T19:15:00.817Z"
   },
   {
    "duration": 5,
    "start_time": "2022-10-06T19:15:01.077Z"
   },
   {
    "duration": 40,
    "start_time": "2022-10-06T19:15:01.083Z"
   },
   {
    "duration": 21329,
    "start_time": "2022-10-06T19:15:01.125Z"
   },
   {
    "duration": 5,
    "start_time": "2022-10-06T19:15:22.456Z"
   },
   {
    "duration": 258,
    "start_time": "2022-10-06T19:15:22.463Z"
   },
   {
    "duration": 11,
    "start_time": "2022-10-06T19:15:22.723Z"
   },
   {
    "duration": 4504,
    "start_time": "2022-10-06T19:15:22.737Z"
   },
   {
    "duration": 5,
    "start_time": "2022-10-06T19:15:27.243Z"
   },
   {
    "duration": 18,
    "start_time": "2022-10-06T19:15:27.250Z"
   },
   {
    "duration": 150,
    "start_time": "2022-10-06T19:15:27.271Z"
   },
   {
    "duration": 96,
    "start_time": "2022-10-06T19:15:27.425Z"
   },
   {
    "duration": 10,
    "start_time": "2022-10-06T19:15:27.522Z"
   },
   {
    "duration": 41,
    "start_time": "2022-10-06T19:15:27.534Z"
   },
   {
    "duration": 8,
    "start_time": "2022-10-06T19:15:27.577Z"
   },
   {
    "duration": 284,
    "start_time": "2022-10-06T19:15:27.587Z"
   },
   {
    "duration": 5,
    "start_time": "2022-10-06T19:15:27.873Z"
   },
   {
    "duration": 9,
    "start_time": "2022-10-06T19:15:27.880Z"
   },
   {
    "duration": 17600,
    "start_time": "2022-10-06T19:15:27.891Z"
   },
   {
    "duration": 5,
    "start_time": "2022-10-06T19:15:45.492Z"
   },
   {
    "duration": 14,
    "start_time": "2022-10-06T19:15:45.499Z"
   },
   {
    "duration": 206,
    "start_time": "2022-10-06T19:15:45.520Z"
   },
   {
    "duration": 98,
    "start_time": "2022-10-06T19:15:45.729Z"
   },
   {
    "duration": 15,
    "start_time": "2022-10-06T19:15:45.829Z"
   },
   {
    "duration": 24,
    "start_time": "2022-10-06T19:15:45.846Z"
   },
   {
    "duration": 4,
    "start_time": "2022-10-06T19:15:45.872Z"
   },
   {
    "duration": 392,
    "start_time": "2022-10-06T19:15:45.878Z"
   },
   {
    "duration": 5,
    "start_time": "2022-10-06T19:15:46.271Z"
   },
   {
    "duration": 17,
    "start_time": "2022-10-06T19:15:46.278Z"
   },
   {
    "duration": 16385,
    "start_time": "2022-10-06T19:15:46.298Z"
   },
   {
    "duration": 4,
    "start_time": "2022-10-06T19:16:02.685Z"
   },
   {
    "duration": 17,
    "start_time": "2022-10-06T19:16:02.691Z"
   },
   {
    "duration": 117,
    "start_time": "2022-10-06T19:16:02.710Z"
   },
   {
    "duration": 98,
    "start_time": "2022-10-06T19:16:02.829Z"
   },
   {
    "duration": 8,
    "start_time": "2022-10-06T19:16:02.928Z"
   },
   {
    "duration": 12,
    "start_time": "2022-10-06T19:16:02.938Z"
   },
   {
    "duration": 13,
    "start_time": "2022-10-06T19:16:02.952Z"
   },
   {
    "duration": 176,
    "start_time": "2022-10-06T19:16:02.967Z"
   },
   {
    "duration": 5,
    "start_time": "2022-10-06T19:16:03.145Z"
   },
   {
    "duration": 13,
    "start_time": "2022-10-06T19:16:03.152Z"
   },
   {
    "duration": 11086,
    "start_time": "2022-10-06T19:16:03.167Z"
   },
   {
    "duration": 4,
    "start_time": "2022-10-06T19:16:14.255Z"
   },
   {
    "duration": 14,
    "start_time": "2022-10-06T19:16:14.261Z"
   },
   {
    "duration": 147,
    "start_time": "2022-10-06T19:16:14.276Z"
   },
   {
    "duration": 109,
    "start_time": "2022-10-06T19:16:14.425Z"
   },
   {
    "duration": 16,
    "start_time": "2022-10-06T19:16:14.536Z"
   },
   {
    "duration": 4,
    "start_time": "2022-10-06T19:19:06.977Z"
   },
   {
    "duration": 77,
    "start_time": "2022-10-06T19:19:06.996Z"
   },
   {
    "duration": 14,
    "start_time": "2022-10-06T19:19:07.076Z"
   },
   {
    "duration": 30,
    "start_time": "2022-10-06T19:19:07.092Z"
   },
   {
    "duration": 22,
    "start_time": "2022-10-06T19:19:07.125Z"
   },
   {
    "duration": 22,
    "start_time": "2022-10-06T19:19:07.150Z"
   },
   {
    "duration": 36,
    "start_time": "2022-10-06T19:19:07.174Z"
   },
   {
    "duration": 19,
    "start_time": "2022-10-06T19:19:07.213Z"
   },
   {
    "duration": 28,
    "start_time": "2022-10-06T19:19:07.235Z"
   },
   {
    "duration": 19,
    "start_time": "2022-10-06T19:19:07.265Z"
   },
   {
    "duration": 30,
    "start_time": "2022-10-06T19:19:07.286Z"
   },
   {
    "duration": 70,
    "start_time": "2022-10-06T19:19:07.318Z"
   },
   {
    "duration": 29,
    "start_time": "2022-10-06T19:19:07.391Z"
   },
   {
    "duration": 24,
    "start_time": "2022-10-06T19:19:07.422Z"
   },
   {
    "duration": 49,
    "start_time": "2022-10-06T19:19:07.449Z"
   },
   {
    "duration": 17,
    "start_time": "2022-10-06T19:19:07.500Z"
   },
   {
    "duration": 32,
    "start_time": "2022-10-06T19:19:07.519Z"
   },
   {
    "duration": 63,
    "start_time": "2022-10-06T19:19:07.553Z"
   },
   {
    "duration": 14,
    "start_time": "2022-10-06T19:19:07.618Z"
   },
   {
    "duration": 52,
    "start_time": "2022-10-06T19:19:07.634Z"
   },
   {
    "duration": 29,
    "start_time": "2022-10-06T19:19:07.688Z"
   },
   {
    "duration": 123,
    "start_time": "2022-10-06T19:19:07.719Z"
   },
   {
    "duration": 283,
    "start_time": "2022-10-06T19:19:07.844Z"
   },
   {
    "duration": 6,
    "start_time": "2022-10-06T19:19:08.128Z"
   },
   {
    "duration": 31,
    "start_time": "2022-10-06T19:19:08.136Z"
   },
   {
    "duration": 325,
    "start_time": "2022-10-06T19:19:08.169Z"
   },
   {
    "duration": 4,
    "start_time": "2022-10-06T19:19:08.496Z"
   },
   {
    "duration": 32,
    "start_time": "2022-10-06T19:19:08.502Z"
   },
   {
    "duration": 328,
    "start_time": "2022-10-06T19:19:08.536Z"
   },
   {
    "duration": 8,
    "start_time": "2022-10-06T19:19:08.867Z"
   },
   {
    "duration": 27,
    "start_time": "2022-10-06T19:19:08.877Z"
   },
   {
    "duration": 23594,
    "start_time": "2022-10-06T19:19:08.906Z"
   },
   {
    "duration": 6,
    "start_time": "2022-10-06T19:19:32.501Z"
   },
   {
    "duration": 285,
    "start_time": "2022-10-06T19:19:32.509Z"
   },
   {
    "duration": 9,
    "start_time": "2022-10-06T19:19:32.796Z"
   },
   {
    "duration": 5038,
    "start_time": "2022-10-06T19:19:32.807Z"
   },
   {
    "duration": 6,
    "start_time": "2022-10-06T19:19:37.847Z"
   },
   {
    "duration": 24,
    "start_time": "2022-10-06T19:19:37.855Z"
   },
   {
    "duration": 138,
    "start_time": "2022-10-06T19:19:37.882Z"
   },
   {
    "duration": 96,
    "start_time": "2022-10-06T19:19:38.025Z"
   },
   {
    "duration": 11,
    "start_time": "2022-10-06T19:19:38.123Z"
   },
   {
    "duration": 49,
    "start_time": "2022-10-06T19:19:38.140Z"
   },
   {
    "duration": 33,
    "start_time": "2022-10-06T19:19:38.191Z"
   },
   {
    "duration": 308,
    "start_time": "2022-10-06T19:19:38.226Z"
   },
   {
    "duration": 5,
    "start_time": "2022-10-06T19:19:38.536Z"
   },
   {
    "duration": 13,
    "start_time": "2022-10-06T19:19:38.542Z"
   },
   {
    "duration": 19813,
    "start_time": "2022-10-06T19:19:38.557Z"
   },
   {
    "duration": 6,
    "start_time": "2022-10-06T19:19:58.372Z"
   },
   {
    "duration": 28,
    "start_time": "2022-10-06T19:19:58.380Z"
   },
   {
    "duration": 210,
    "start_time": "2022-10-06T19:19:58.411Z"
   },
   {
    "duration": 9,
    "start_time": "2022-10-06T19:19:58.623Z"
   },
   {
    "duration": 7,
    "start_time": "2022-10-06T19:19:58.634Z"
   },
   {
    "duration": 27,
    "start_time": "2022-10-06T19:19:58.643Z"
   },
   {
    "duration": 9,
    "start_time": "2022-10-06T19:19:58.672Z"
   },
   {
    "duration": 531,
    "start_time": "2022-10-06T19:19:58.684Z"
   },
   {
    "duration": 5,
    "start_time": "2022-10-06T19:19:59.220Z"
   },
   {
    "duration": 19,
    "start_time": "2022-10-06T19:19:59.227Z"
   },
   {
    "duration": 17233,
    "start_time": "2022-10-06T19:19:59.249Z"
   },
   {
    "duration": 5,
    "start_time": "2022-10-06T19:20:16.484Z"
   },
   {
    "duration": 28,
    "start_time": "2022-10-06T19:20:16.491Z"
   },
   {
    "duration": 104,
    "start_time": "2022-10-06T19:20:16.520Z"
   },
   {
    "duration": 99,
    "start_time": "2022-10-06T19:20:16.628Z"
   },
   {
    "duration": 33,
    "start_time": "2022-10-06T19:20:16.729Z"
   },
   {
    "duration": 31,
    "start_time": "2022-10-06T19:20:16.765Z"
   },
   {
    "duration": 9,
    "start_time": "2022-10-06T19:20:16.798Z"
   },
   {
    "duration": 187,
    "start_time": "2022-10-06T19:20:16.810Z"
   },
   {
    "duration": 5,
    "start_time": "2022-10-06T19:20:16.999Z"
   },
   {
    "duration": 46,
    "start_time": "2022-10-06T19:20:17.006Z"
   },
   {
    "duration": 12092,
    "start_time": "2022-10-06T19:20:17.054Z"
   },
   {
    "duration": 6,
    "start_time": "2022-10-06T19:20:29.149Z"
   },
   {
    "duration": 32,
    "start_time": "2022-10-06T19:20:29.157Z"
   },
   {
    "duration": 229,
    "start_time": "2022-10-06T19:20:29.194Z"
   },
   {
    "duration": 10,
    "start_time": "2022-10-06T19:20:29.425Z"
   },
   {
    "duration": 21,
    "start_time": "2022-10-06T19:20:29.436Z"
   },
   {
    "duration": 12328,
    "start_time": "2022-10-06T19:29:46.417Z"
   },
   {
    "duration": 5,
    "start_time": "2022-10-06T19:29:58.747Z"
   },
   {
    "duration": 16,
    "start_time": "2022-10-06T20:06:56.715Z"
   },
   {
    "duration": 21,
    "start_time": "2022-10-06T20:11:43.244Z"
   },
   {
    "duration": 1704,
    "start_time": "2022-10-06T20:12:30.383Z"
   },
   {
    "duration": 13,
    "start_time": "2022-10-06T20:12:52.164Z"
   },
   {
    "duration": 8,
    "start_time": "2022-10-06T20:13:04.236Z"
   },
   {
    "duration": 16,
    "start_time": "2022-10-06T20:13:51.251Z"
   },
   {
    "duration": 17,
    "start_time": "2022-10-06T20:14:13.791Z"
   },
   {
    "duration": 883,
    "start_time": "2022-10-06T20:15:12.796Z"
   },
   {
    "duration": 6,
    "start_time": "2022-10-06T20:15:54.348Z"
   },
   {
    "duration": 8,
    "start_time": "2022-10-06T20:16:05.387Z"
   },
   {
    "duration": 15,
    "start_time": "2022-10-06T20:17:06.400Z"
   },
   {
    "duration": 42,
    "start_time": "2022-10-06T20:48:23.362Z"
   },
   {
    "duration": 21,
    "start_time": "2022-10-06T20:48:45.800Z"
   },
   {
    "duration": 556,
    "start_time": "2022-10-06T20:55:01.480Z"
   },
   {
    "duration": 1349,
    "start_time": "2022-10-06T20:58:07.284Z"
   },
   {
    "duration": 39,
    "start_time": "2022-10-06T20:58:08.635Z"
   },
   {
    "duration": 13,
    "start_time": "2022-10-06T20:58:08.676Z"
   },
   {
    "duration": 16,
    "start_time": "2022-10-06T20:58:08.691Z"
   },
   {
    "duration": 6,
    "start_time": "2022-10-06T20:58:08.708Z"
   },
   {
    "duration": 9,
    "start_time": "2022-10-06T20:58:08.715Z"
   },
   {
    "duration": 6,
    "start_time": "2022-10-06T20:58:08.725Z"
   },
   {
    "duration": 10,
    "start_time": "2022-10-06T20:58:08.733Z"
   },
   {
    "duration": 14,
    "start_time": "2022-10-06T20:58:08.744Z"
   },
   {
    "duration": 5,
    "start_time": "2022-10-06T20:58:08.760Z"
   },
   {
    "duration": 6,
    "start_time": "2022-10-06T20:58:08.766Z"
   },
   {
    "duration": 15,
    "start_time": "2022-10-06T20:58:08.774Z"
   },
   {
    "duration": 30,
    "start_time": "2022-10-06T20:58:08.791Z"
   },
   {
    "duration": 7,
    "start_time": "2022-10-06T20:58:08.823Z"
   },
   {
    "duration": 14,
    "start_time": "2022-10-06T20:58:08.832Z"
   },
   {
    "duration": 8,
    "start_time": "2022-10-06T20:58:08.849Z"
   },
   {
    "duration": 8,
    "start_time": "2022-10-06T20:58:08.860Z"
   },
   {
    "duration": 75,
    "start_time": "2022-10-06T20:58:08.873Z"
   },
   {
    "duration": 17,
    "start_time": "2022-10-06T20:58:08.950Z"
   },
   {
    "duration": 55,
    "start_time": "2022-10-06T20:58:08.969Z"
   },
   {
    "duration": 15,
    "start_time": "2022-10-06T20:58:09.026Z"
   },
   {
    "duration": 150,
    "start_time": "2022-10-06T20:58:09.044Z"
   },
   {
    "duration": 267,
    "start_time": "2022-10-06T20:58:09.196Z"
   },
   {
    "duration": 4,
    "start_time": "2022-10-06T20:58:09.465Z"
   },
   {
    "duration": 10,
    "start_time": "2022-10-06T20:58:09.471Z"
   },
   {
    "duration": 277,
    "start_time": "2022-10-06T20:58:09.483Z"
   },
   {
    "duration": 3,
    "start_time": "2022-10-06T20:58:09.762Z"
   },
   {
    "duration": 12,
    "start_time": "2022-10-06T20:58:09.770Z"
   },
   {
    "duration": 302,
    "start_time": "2022-10-06T20:58:09.784Z"
   },
   {
    "duration": 5,
    "start_time": "2022-10-06T20:58:10.088Z"
   },
   {
    "duration": 11,
    "start_time": "2022-10-06T20:58:10.095Z"
   },
   {
    "duration": 21324,
    "start_time": "2022-10-06T20:58:10.108Z"
   },
   {
    "duration": 5,
    "start_time": "2022-10-06T20:58:31.433Z"
   },
   {
    "duration": 261,
    "start_time": "2022-10-06T20:58:31.440Z"
   },
   {
    "duration": 8,
    "start_time": "2022-10-06T20:58:31.703Z"
   },
   {
    "duration": 11722,
    "start_time": "2022-10-06T20:58:31.713Z"
   },
   {
    "duration": 5,
    "start_time": "2022-10-06T20:58:43.437Z"
   },
   {
    "duration": 11,
    "start_time": "2022-10-06T20:58:43.443Z"
   },
   {
    "duration": 168,
    "start_time": "2022-10-06T20:58:43.456Z"
   },
   {
    "duration": 99,
    "start_time": "2022-10-06T20:58:43.627Z"
   },
   {
    "duration": 12,
    "start_time": "2022-10-06T20:58:43.728Z"
   },
   {
    "duration": 304,
    "start_time": "2022-10-06T20:58:43.742Z"
   },
   {
    "duration": 5,
    "start_time": "2022-10-06T20:58:44.047Z"
   },
   {
    "duration": 14,
    "start_time": "2022-10-06T20:58:44.053Z"
   },
   {
    "duration": 18843,
    "start_time": "2022-10-06T20:58:44.069Z"
   },
   {
    "duration": 7,
    "start_time": "2022-10-06T20:59:02.914Z"
   },
   {
    "duration": 14,
    "start_time": "2022-10-06T20:59:02.923Z"
   },
   {
    "duration": 85,
    "start_time": "2022-10-06T20:59:02.939Z"
   },
   {
    "duration": 96,
    "start_time": "2022-10-06T20:59:03.026Z"
   },
   {
    "duration": 7,
    "start_time": "2022-10-06T20:59:03.124Z"
   },
   {
    "duration": 12,
    "start_time": "2022-10-06T20:59:03.133Z"
   },
   {
    "duration": 4,
    "start_time": "2022-10-06T20:59:03.147Z"
   },
   {
    "duration": 436,
    "start_time": "2022-10-06T20:59:03.153Z"
   },
   {
    "duration": 4,
    "start_time": "2022-10-06T20:59:03.591Z"
   },
   {
    "duration": 11,
    "start_time": "2022-10-06T20:59:03.597Z"
   },
   {
    "duration": 16477,
    "start_time": "2022-10-06T20:59:03.610Z"
   },
   {
    "duration": 3,
    "start_time": "2022-10-06T20:59:20.089Z"
   },
   {
    "duration": 18,
    "start_time": "2022-10-06T20:59:20.094Z"
   },
   {
    "duration": 112,
    "start_time": "2022-10-06T20:59:20.114Z"
   },
   {
    "duration": 99,
    "start_time": "2022-10-06T20:59:20.228Z"
   },
   {
    "duration": 14,
    "start_time": "2022-10-06T20:59:20.328Z"
   },
   {
    "duration": 29,
    "start_time": "2022-10-06T20:59:20.344Z"
   },
   {
    "duration": 15,
    "start_time": "2022-10-06T20:59:20.375Z"
   },
   {
    "duration": 173,
    "start_time": "2022-10-06T20:59:20.392Z"
   },
   {
    "duration": 4,
    "start_time": "2022-10-06T20:59:20.567Z"
   },
   {
    "duration": 25,
    "start_time": "2022-10-06T20:59:20.572Z"
   },
   {
    "duration": 11114,
    "start_time": "2022-10-06T20:59:20.599Z"
   },
   {
    "duration": 8,
    "start_time": "2022-10-06T20:59:31.715Z"
   },
   {
    "duration": 28,
    "start_time": "2022-10-06T20:59:31.725Z"
   },
   {
    "duration": 169,
    "start_time": "2022-10-06T20:59:31.755Z"
   },
   {
    "duration": 112,
    "start_time": "2022-10-06T20:59:31.926Z"
   },
   {
    "duration": 24,
    "start_time": "2022-10-06T20:59:32.039Z"
   },
   {
    "duration": 595,
    "start_time": "2022-10-06T20:59:32.065Z"
   },
   {
    "duration": 1531,
    "start_time": "2022-10-07T19:02:10.132Z"
   },
   {
    "duration": 4,
    "start_time": "2022-10-07T19:03:17.330Z"
   },
   {
    "duration": 92,
    "start_time": "2022-10-07T19:03:17.336Z"
   },
   {
    "duration": 14,
    "start_time": "2022-10-07T19:03:17.430Z"
   },
   {
    "duration": 15,
    "start_time": "2022-10-07T19:03:17.446Z"
   },
   {
    "duration": 3,
    "start_time": "2022-10-07T19:03:17.462Z"
   },
   {
    "duration": 7,
    "start_time": "2022-10-07T19:03:17.467Z"
   },
   {
    "duration": 6,
    "start_time": "2022-10-07T19:03:17.475Z"
   },
   {
    "duration": 18,
    "start_time": "2022-10-07T19:03:17.482Z"
   },
   {
    "duration": 18,
    "start_time": "2022-10-07T19:03:17.502Z"
   },
   {
    "duration": 4,
    "start_time": "2022-10-07T19:03:21.432Z"
   },
   {
    "duration": 5,
    "start_time": "2022-10-07T19:03:47.545Z"
   },
   {
    "duration": 5,
    "start_time": "2022-10-07T19:03:57.521Z"
   },
   {
    "duration": 11,
    "start_time": "2022-10-07T19:04:27.447Z"
   },
   {
    "duration": 154,
    "start_time": "2022-10-07T19:12:15.665Z"
   },
   {
    "duration": 1370,
    "start_time": "2022-10-07T19:12:43.883Z"
   },
   {
    "duration": 41,
    "start_time": "2022-10-07T19:12:45.254Z"
   },
   {
    "duration": 12,
    "start_time": "2022-10-07T19:12:45.297Z"
   },
   {
    "duration": 26,
    "start_time": "2022-10-07T19:12:45.311Z"
   },
   {
    "duration": 9,
    "start_time": "2022-10-07T19:12:45.338Z"
   },
   {
    "duration": 5,
    "start_time": "2022-10-07T19:12:45.348Z"
   },
   {
    "duration": 4,
    "start_time": "2022-10-07T19:12:45.355Z"
   },
   {
    "duration": 6,
    "start_time": "2022-10-07T19:12:45.361Z"
   },
   {
    "duration": 32,
    "start_time": "2022-10-07T19:12:45.369Z"
   },
   {
    "duration": 138,
    "start_time": "2022-10-07T19:12:45.404Z"
   },
   {
    "duration": 4,
    "start_time": "2022-10-07T19:12:45.544Z"
   },
   {
    "duration": 144,
    "start_time": "2022-10-07T19:13:08.074Z"
   },
   {
    "duration": 139,
    "start_time": "2022-10-07T19:13:17.892Z"
   },
   {
    "duration": 143,
    "start_time": "2022-10-07T19:13:36.514Z"
   },
   {
    "duration": 3,
    "start_time": "2022-10-07T19:13:46.272Z"
   },
   {
    "duration": 41,
    "start_time": "2022-10-07T19:13:46.365Z"
   },
   {
    "duration": 15,
    "start_time": "2022-10-07T19:13:46.407Z"
   },
   {
    "duration": 14,
    "start_time": "2022-10-07T19:13:46.424Z"
   },
   {
    "duration": 3,
    "start_time": "2022-10-07T19:13:46.440Z"
   },
   {
    "duration": 8,
    "start_time": "2022-10-07T19:13:46.445Z"
   },
   {
    "duration": 5,
    "start_time": "2022-10-07T19:13:46.455Z"
   },
   {
    "duration": 7,
    "start_time": "2022-10-07T19:13:46.461Z"
   },
   {
    "duration": 40,
    "start_time": "2022-10-07T19:13:46.470Z"
   },
   {
    "duration": 138,
    "start_time": "2022-10-07T19:13:46.512Z"
   },
   {
    "duration": 5,
    "start_time": "2022-10-07T19:14:02.077Z"
   },
   {
    "duration": 207,
    "start_time": "2022-10-07T19:17:43.689Z"
   },
   {
    "duration": 3,
    "start_time": "2022-10-07T19:39:17.493Z"
   },
   {
    "duration": 52,
    "start_time": "2022-10-07T19:39:17.498Z"
   },
   {
    "duration": 11,
    "start_time": "2022-10-07T19:39:17.552Z"
   },
   {
    "duration": 13,
    "start_time": "2022-10-07T19:39:17.564Z"
   },
   {
    "duration": 6,
    "start_time": "2022-10-07T19:39:17.579Z"
   },
   {
    "duration": 6,
    "start_time": "2022-10-07T19:39:17.586Z"
   },
   {
    "duration": 7,
    "start_time": "2022-10-07T19:39:17.593Z"
   },
   {
    "duration": 8,
    "start_time": "2022-10-07T19:39:17.604Z"
   },
   {
    "duration": 20,
    "start_time": "2022-10-07T19:39:17.628Z"
   },
   {
    "duration": 165,
    "start_time": "2022-10-07T19:39:17.650Z"
   },
   {
    "duration": 140,
    "start_time": "2022-10-07T19:39:22.668Z"
   },
   {
    "duration": 4,
    "start_time": "2022-10-07T19:40:51.801Z"
   },
   {
    "duration": 15,
    "start_time": "2022-10-07T19:41:00.204Z"
   },
   {
    "duration": 5,
    "start_time": "2022-10-07T19:43:15.849Z"
   },
   {
    "duration": 144,
    "start_time": "2022-10-07T19:43:19.691Z"
   },
   {
    "duration": 3,
    "start_time": "2022-10-07T19:44:53.276Z"
   },
   {
    "duration": 91,
    "start_time": "2022-10-07T19:44:53.285Z"
   },
   {
    "duration": 16,
    "start_time": "2022-10-07T19:44:53.378Z"
   },
   {
    "duration": 32,
    "start_time": "2022-10-07T19:44:53.396Z"
   },
   {
    "duration": 45,
    "start_time": "2022-10-07T19:44:53.430Z"
   },
   {
    "duration": 56,
    "start_time": "2022-10-07T19:44:53.477Z"
   },
   {
    "duration": 29,
    "start_time": "2022-10-07T19:44:53.536Z"
   },
   {
    "duration": 54,
    "start_time": "2022-10-07T19:44:53.567Z"
   },
   {
    "duration": 56,
    "start_time": "2022-10-07T19:44:53.623Z"
   },
   {
    "duration": 172,
    "start_time": "2022-10-07T19:44:53.681Z"
   },
   {
    "duration": 5,
    "start_time": "2022-10-07T19:44:53.856Z"
   },
   {
    "duration": 174,
    "start_time": "2022-10-07T19:44:53.862Z"
   },
   {
    "duration": 11,
    "start_time": "2022-10-07T19:45:05.587Z"
   },
   {
    "duration": 4,
    "start_time": "2022-10-07T20:03:43.434Z"
   },
   {
    "duration": 74,
    "start_time": "2022-10-07T20:03:43.440Z"
   },
   {
    "duration": 11,
    "start_time": "2022-10-07T20:03:43.516Z"
   },
   {
    "duration": 14,
    "start_time": "2022-10-07T20:03:43.528Z"
   },
   {
    "duration": 3,
    "start_time": "2022-10-07T20:03:43.545Z"
   },
   {
    "duration": 6,
    "start_time": "2022-10-07T20:03:43.550Z"
   },
   {
    "duration": 7,
    "start_time": "2022-10-07T20:03:43.558Z"
   },
   {
    "duration": 11,
    "start_time": "2022-10-07T20:03:43.567Z"
   },
   {
    "duration": 38,
    "start_time": "2022-10-07T20:03:43.579Z"
   },
   {
    "duration": 142,
    "start_time": "2022-10-07T20:03:43.619Z"
   },
   {
    "duration": 6,
    "start_time": "2022-10-07T20:03:43.763Z"
   },
   {
    "duration": 157,
    "start_time": "2022-10-07T20:03:43.771Z"
   },
   {
    "duration": 4,
    "start_time": "2022-10-07T20:03:43.930Z"
   },
   {
    "duration": 15,
    "start_time": "2022-10-07T20:03:43.936Z"
   },
   {
    "duration": 3,
    "start_time": "2022-10-07T20:03:43.953Z"
   },
   {
    "duration": 7,
    "start_time": "2022-10-07T20:03:43.958Z"
   },
   {
    "duration": 15,
    "start_time": "2022-10-07T20:03:43.966Z"
   },
   {
    "duration": 15,
    "start_time": "2022-10-07T20:03:43.983Z"
   },
   {
    "duration": 11,
    "start_time": "2022-10-07T20:03:43.999Z"
   },
   {
    "duration": 50,
    "start_time": "2022-10-07T20:03:44.011Z"
   },
   {
    "duration": 34,
    "start_time": "2022-10-07T20:03:52.773Z"
   },
   {
    "duration": 3,
    "start_time": "2022-10-07T20:29:37.674Z"
   },
   {
    "duration": 4,
    "start_time": "2022-10-07T20:44:25.876Z"
   },
   {
    "duration": 52,
    "start_time": "2022-10-07T20:44:25.882Z"
   },
   {
    "duration": 11,
    "start_time": "2022-10-07T20:44:25.935Z"
   },
   {
    "duration": 11,
    "start_time": "2022-10-07T20:44:25.948Z"
   },
   {
    "duration": 6,
    "start_time": "2022-10-07T20:44:25.961Z"
   },
   {
    "duration": 6,
    "start_time": "2022-10-07T20:44:25.968Z"
   },
   {
    "duration": 5,
    "start_time": "2022-10-07T20:44:25.975Z"
   },
   {
    "duration": 6,
    "start_time": "2022-10-07T20:44:25.981Z"
   },
   {
    "duration": 32,
    "start_time": "2022-10-07T20:44:25.988Z"
   },
   {
    "duration": 148,
    "start_time": "2022-10-07T20:44:26.022Z"
   },
   {
    "duration": 5,
    "start_time": "2022-10-07T20:44:26.172Z"
   },
   {
    "duration": 151,
    "start_time": "2022-10-07T20:44:26.178Z"
   },
   {
    "duration": 4,
    "start_time": "2022-10-07T20:44:26.331Z"
   },
   {
    "duration": 16,
    "start_time": "2022-10-07T20:44:26.336Z"
   },
   {
    "duration": 4,
    "start_time": "2022-10-07T20:44:26.353Z"
   },
   {
    "duration": 7,
    "start_time": "2022-10-07T20:44:26.358Z"
   },
   {
    "duration": 8,
    "start_time": "2022-10-07T20:44:26.366Z"
   },
   {
    "duration": 5,
    "start_time": "2022-10-07T20:44:26.375Z"
   },
   {
    "duration": 30,
    "start_time": "2022-10-07T20:44:26.381Z"
   },
   {
    "duration": 40,
    "start_time": "2022-10-07T20:44:26.412Z"
   },
   {
    "duration": 10,
    "start_time": "2022-10-07T20:44:26.454Z"
   },
   {
    "duration": 25,
    "start_time": "2022-10-07T20:44:26.465Z"
   },
   {
    "duration": 31,
    "start_time": "2022-10-07T20:44:26.491Z"
   },
   {
    "duration": 106,
    "start_time": "2022-10-07T20:44:26.524Z"
   },
   {
    "duration": 291,
    "start_time": "2022-10-07T20:44:26.631Z"
   },
   {
    "duration": 5,
    "start_time": "2022-10-07T20:44:26.924Z"
   },
   {
    "duration": 7,
    "start_time": "2022-10-07T20:44:26.932Z"
   },
   {
    "duration": 24597,
    "start_time": "2022-10-07T20:44:32.987Z"
   },
   {
    "duration": 4,
    "start_time": "2022-10-07T20:44:57.586Z"
   },
   {
    "duration": 46,
    "start_time": "2022-10-07T21:00:08.895Z"
   },
   {
    "duration": 5,
    "start_time": "2022-10-07T21:00:42.965Z"
   },
   {
    "duration": 19,
    "start_time": "2022-10-07T21:03:36.171Z"
   },
   {
    "duration": 15,
    "start_time": "2022-10-07T21:05:44.872Z"
   },
   {
    "duration": 5,
    "start_time": "2022-10-07T21:06:31.115Z"
   },
   {
    "duration": 8,
    "start_time": "2022-10-07T21:06:43.290Z"
   },
   {
    "duration": 7,
    "start_time": "2022-10-07T21:13:39.275Z"
   },
   {
    "duration": 3,
    "start_time": "2022-10-07T21:23:43.248Z"
   },
   {
    "duration": 90331,
    "start_time": "2022-10-07T21:23:43.794Z"
   },
   {
    "duration": 2008070,
    "start_time": "2022-10-07T21:25:32.599Z"
   },
   {
    "duration": 4,
    "start_time": "2022-10-07T21:59:00.671Z"
   },
   {
    "duration": 3,
    "start_time": "2022-10-07T22:13:54.010Z"
   },
   {
    "duration": 1527,
    "start_time": "2022-10-08T07:55:46.911Z"
   },
   {
    "duration": 82,
    "start_time": "2022-10-08T07:55:48.440Z"
   },
   {
    "duration": 12,
    "start_time": "2022-10-08T07:55:48.524Z"
   },
   {
    "duration": 15,
    "start_time": "2022-10-08T07:55:48.537Z"
   },
   {
    "duration": 2,
    "start_time": "2022-10-08T07:55:48.554Z"
   },
   {
    "duration": 8,
    "start_time": "2022-10-08T07:55:48.558Z"
   },
   {
    "duration": 5,
    "start_time": "2022-10-08T07:55:48.567Z"
   },
   {
    "duration": 10,
    "start_time": "2022-10-08T07:55:48.574Z"
   },
   {
    "duration": 12,
    "start_time": "2022-10-08T07:55:48.585Z"
   },
   {
    "duration": 143,
    "start_time": "2022-10-08T07:55:48.609Z"
   },
   {
    "duration": 5,
    "start_time": "2022-10-08T07:55:48.753Z"
   },
   {
    "duration": 137,
    "start_time": "2022-10-08T07:55:48.760Z"
   },
   {
    "duration": 4,
    "start_time": "2022-10-08T07:55:48.898Z"
   },
   {
    "duration": 12,
    "start_time": "2022-10-08T07:55:48.909Z"
   },
   {
    "duration": 4,
    "start_time": "2022-10-08T07:55:48.922Z"
   },
   {
    "duration": 6,
    "start_time": "2022-10-08T07:55:48.927Z"
   },
   {
    "duration": 8,
    "start_time": "2022-10-08T07:55:48.934Z"
   },
   {
    "duration": 7,
    "start_time": "2022-10-08T07:55:48.943Z"
   },
   {
    "duration": 6,
    "start_time": "2022-10-08T07:55:48.952Z"
   },
   {
    "duration": 61,
    "start_time": "2022-10-08T07:55:48.959Z"
   },
   {
    "duration": 10,
    "start_time": "2022-10-08T07:55:49.021Z"
   },
   {
    "duration": 28,
    "start_time": "2022-10-08T07:55:49.033Z"
   },
   {
    "duration": 11,
    "start_time": "2022-10-08T07:55:49.063Z"
   },
   {
    "duration": 112,
    "start_time": "2022-10-08T07:55:49.076Z"
   },
   {
    "duration": 24044,
    "start_time": "2022-10-08T07:55:49.189Z"
   },
   {
    "duration": 5,
    "start_time": "2022-10-08T07:56:13.235Z"
   },
   {
    "duration": 7,
    "start_time": "2022-10-08T07:56:13.241Z"
   },
   {
    "duration": 54535,
    "start_time": "2022-10-08T07:56:26.163Z"
   },
   {
    "duration": 0,
    "start_time": "2022-10-08T07:57:20.700Z"
   },
   {
    "duration": 113442,
    "start_time": "2022-10-08T07:57:44.054Z"
   },
   {
    "duration": 11,
    "start_time": "2022-10-08T07:59:37.499Z"
   },
   {
    "duration": 12,
    "start_time": "2022-10-08T08:57:38.533Z"
   },
   {
    "duration": 5,
    "start_time": "2022-10-08T09:01:58.474Z"
   },
   {
    "duration": 48,
    "start_time": "2022-10-08T09:03:15.163Z"
   },
   {
    "duration": 4,
    "start_time": "2022-10-08T09:03:16.451Z"
   },
   {
    "duration": 7,
    "start_time": "2022-10-08T09:03:28.227Z"
   },
   {
    "duration": 1431,
    "start_time": "2022-10-09T16:23:09.805Z"
   },
   {
    "duration": 79,
    "start_time": "2022-10-09T16:23:11.238Z"
   },
   {
    "duration": 15,
    "start_time": "2022-10-09T16:23:11.319Z"
   },
   {
    "duration": 15,
    "start_time": "2022-10-09T16:23:11.335Z"
   },
   {
    "duration": 3,
    "start_time": "2022-10-09T16:23:11.352Z"
   },
   {
    "duration": 7,
    "start_time": "2022-10-09T16:23:11.356Z"
   },
   {
    "duration": 8,
    "start_time": "2022-10-09T16:23:11.364Z"
   },
   {
    "duration": 6,
    "start_time": "2022-10-09T16:23:11.373Z"
   },
   {
    "duration": 12,
    "start_time": "2022-10-09T16:23:11.380Z"
   },
   {
    "duration": 164,
    "start_time": "2022-10-09T16:23:11.393Z"
   },
   {
    "duration": 5,
    "start_time": "2022-10-09T16:23:11.559Z"
   },
   {
    "duration": 156,
    "start_time": "2022-10-09T16:23:11.565Z"
   },
   {
    "duration": 4,
    "start_time": "2022-10-09T16:23:11.723Z"
   },
   {
    "duration": 12,
    "start_time": "2022-10-09T16:23:11.738Z"
   },
   {
    "duration": 5,
    "start_time": "2022-10-09T16:23:11.751Z"
   },
   {
    "duration": 10,
    "start_time": "2022-10-09T16:23:11.757Z"
   },
   {
    "duration": 9,
    "start_time": "2022-10-09T16:23:11.769Z"
   },
   {
    "duration": 5,
    "start_time": "2022-10-09T16:23:11.779Z"
   },
   {
    "duration": 6,
    "start_time": "2022-10-09T16:23:11.785Z"
   },
   {
    "duration": 59,
    "start_time": "2022-10-09T16:23:11.792Z"
   },
   {
    "duration": 11,
    "start_time": "2022-10-09T16:23:11.852Z"
   },
   {
    "duration": 25,
    "start_time": "2022-10-09T16:23:11.864Z"
   },
   {
    "duration": 10,
    "start_time": "2022-10-09T16:23:11.890Z"
   },
   {
    "duration": 22781,
    "start_time": "2022-10-09T16:23:20.150Z"
   },
   {
    "duration": 5,
    "start_time": "2022-10-09T16:25:07.320Z"
   },
   {
    "duration": 9,
    "start_time": "2022-10-09T16:38:55.036Z"
   },
   {
    "duration": 8,
    "start_time": "2022-10-09T16:39:04.564Z"
   },
   {
    "duration": 1843894,
    "start_time": "2022-10-09T16:45:56.952Z"
   },
   {
    "duration": 4,
    "start_time": "2022-10-09T17:16:40.848Z"
   },
   {
    "duration": 154,
    "start_time": "2022-10-09T17:20:00.287Z"
   },
   {
    "duration": 7,
    "start_time": "2022-10-09T17:20:01.152Z"
   },
   {
    "duration": 7,
    "start_time": "2022-10-09T17:20:23.059Z"
   },
   {
    "duration": 110,
    "start_time": "2022-10-09T17:20:32.231Z"
   },
   {
    "duration": 4,
    "start_time": "2022-10-09T17:20:38.975Z"
   },
   {
    "duration": 9,
    "start_time": "2022-10-09T17:20:39.795Z"
   },
   {
    "duration": 4,
    "start_time": "2022-10-09T17:20:40.619Z"
   },
   {
    "duration": 28584,
    "start_time": "2022-10-09T17:20:42.559Z"
   },
   {
    "duration": 5,
    "start_time": "2022-10-09T17:21:11.145Z"
   },
   {
    "duration": 19,
    "start_time": "2022-10-09T17:21:11.151Z"
   },
   {
    "duration": 7,
    "start_time": "2022-10-09T17:25:12.956Z"
   },
   {
    "duration": 7,
    "start_time": "2022-10-09T17:27:02.394Z"
   },
   {
    "duration": 9,
    "start_time": "2022-10-09T17:27:10.082Z"
   },
   {
    "duration": 2536475,
    "start_time": "2022-10-09T17:27:43.125Z"
   },
   {
    "duration": 4,
    "start_time": "2022-10-09T18:09:59.602Z"
   },
   {
    "duration": 11,
    "start_time": "2022-10-09T18:09:59.607Z"
   },
   {
    "duration": 96,
    "start_time": "2022-10-09T18:20:48.851Z"
   },
   {
    "duration": 7,
    "start_time": "2022-10-09T18:20:49.203Z"
   },
   {
    "duration": 4,
    "start_time": "2022-10-09T18:20:52.245Z"
   },
   {
    "duration": 8,
    "start_time": "2022-10-09T18:20:53.044Z"
   },
   {
    "duration": 4,
    "start_time": "2022-10-09T18:20:53.805Z"
   },
   {
    "duration": 12721,
    "start_time": "2022-10-09T18:20:55.735Z"
   },
   {
    "duration": 4,
    "start_time": "2022-10-09T18:21:08.458Z"
   },
   {
    "duration": 10,
    "start_time": "2022-10-09T18:21:08.464Z"
   },
   {
    "duration": 1033781,
    "start_time": "2022-10-09T18:23:06.850Z"
   },
   {
    "duration": 4,
    "start_time": "2022-10-09T18:40:20.639Z"
   },
   {
    "duration": 11,
    "start_time": "2022-10-09T18:40:20.644Z"
   },
   {
    "duration": 24,
    "start_time": "2022-10-09T18:42:37.722Z"
   },
   {
    "duration": 7,
    "start_time": "2022-10-09T18:42:38.851Z"
   },
   {
    "duration": 7,
    "start_time": "2022-10-09T18:42:40.805Z"
   },
   {
    "duration": 8,
    "start_time": "2022-10-09T18:43:23.521Z"
   },
   {
    "duration": 4,
    "start_time": "2022-10-09T18:45:55.716Z"
   },
   {
    "duration": 4,
    "start_time": "2022-10-09T18:47:14.062Z"
   },
   {
    "duration": 5,
    "start_time": "2022-10-09T18:48:06.476Z"
   },
   {
    "duration": 6,
    "start_time": "2022-10-09T18:48:12.691Z"
   },
   {
    "duration": 6,
    "start_time": "2022-10-09T18:48:59.556Z"
   },
   {
    "duration": 8,
    "start_time": "2022-10-09T18:49:35.515Z"
   },
   {
    "duration": 7,
    "start_time": "2022-10-09T18:50:06.665Z"
   },
   {
    "duration": 7,
    "start_time": "2022-10-09T18:53:32.058Z"
   },
   {
    "duration": 7,
    "start_time": "2022-10-09T18:54:29.084Z"
   },
   {
    "duration": 7,
    "start_time": "2022-10-09T18:55:31.645Z"
   },
   {
    "duration": 6,
    "start_time": "2022-10-09T18:56:21.179Z"
   },
   {
    "duration": 6,
    "start_time": "2022-10-09T18:57:17.014Z"
   },
   {
    "duration": 7,
    "start_time": "2022-10-09T18:58:06.878Z"
   },
   {
    "duration": 7,
    "start_time": "2022-10-09T18:58:58.359Z"
   },
   {
    "duration": 8,
    "start_time": "2022-10-09T18:59:56.283Z"
   },
   {
    "duration": 8,
    "start_time": "2022-10-09T19:00:51.925Z"
   },
   {
    "duration": 8,
    "start_time": "2022-10-09T19:00:56.224Z"
   },
   {
    "duration": 732,
    "start_time": "2022-10-09T20:01:31.932Z"
   }
  ],
  "kernelspec": {
   "display_name": "Python 3 (ipykernel)",
   "language": "python",
   "name": "python3"
  },
  "language_info": {
   "codemirror_mode": {
    "name": "ipython",
    "version": 3
   },
   "file_extension": ".py",
   "mimetype": "text/x-python",
   "name": "python",
   "nbconvert_exporter": "python",
   "pygments_lexer": "ipython3",
   "version": "3.9.7"
  },
  "toc": {
   "base_numbering": 1,
   "nav_menu": {},
   "number_sections": true,
   "sideBar": true,
   "skip_h1_title": true,
   "title_cell": "Содержание",
   "title_sidebar": "Contents",
   "toc_cell": true,
   "toc_position": {
    "height": "calc(100% - 180px)",
    "left": "10px",
    "top": "150px",
    "width": "244px"
   },
   "toc_section_display": true,
   "toc_window_display": true
  }
 },
 "nbformat": 4,
 "nbformat_minor": 2
}
